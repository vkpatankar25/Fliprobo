{
 "cells": [
  {
   "cell_type": "markdown",
   "metadata": {},
   "source": [
    "# 1. Python program to scrape data for “Data Analyst” Job position in “Bangalore” location."
   ]
  },
  {
   "cell_type": "code",
   "execution_count": 1,
   "metadata": {},
   "outputs": [],
   "source": [
    "#lets import all required libraries\n",
    "import selenium\n",
    "import pandas as pd\n",
    "from selenium import webdriver"
   ]
  },
  {
   "cell_type": "code",
   "execution_count": 52,
   "metadata": {},
   "outputs": [],
   "source": [
    "#lets first connect to the web driver\n",
    "driver=webdriver.Chrome(r\"C://chromedriver.exe\")"
   ]
  },
  {
   "cell_type": "code",
   "execution_count": 53,
   "metadata": {},
   "outputs": [],
   "source": [
    "driver.get('https://www.naukri.com/')"
   ]
  },
  {
   "cell_type": "code",
   "execution_count": 54,
   "metadata": {},
   "outputs": [],
   "source": [
    "#finding elements for job search\n",
    "search_job=driver.find_element_by_id('qsb-keyword-sugg')\n",
    "search_job.send_keys('Data Analyst')\n",
    "search_loc=driver.find_element_by_xpath(\"//input[@id='qsb-location-sugg']\")\n",
    "search_loc.send_keys('Banglore')"
   ]
  },
  {
   "cell_type": "code",
   "execution_count": 55,
   "metadata": {},
   "outputs": [],
   "source": [
    "search_btn=driver.find_element_by_xpath(\"//div[@class='search-btn']/button\")\n",
    "search_btn.click()"
   ]
  },
  {
   "cell_type": "code",
   "execution_count": 56,
   "metadata": {},
   "outputs": [],
   "source": [
    "url='https://www.naukri.com/data-analyst-jobs-in-bangalore-bengaluru?k=data%20analyst&l=bangalore%2Fbengaluru'"
   ]
  },
  {
   "cell_type": "code",
   "execution_count": 57,
   "metadata": {},
   "outputs": [],
   "source": [
    "#lets open the webpage through web driver\n",
    "driver.get(url)"
   ]
  },
  {
   "cell_type": "code",
   "execution_count": 58,
   "metadata": {},
   "outputs": [],
   "source": [
    "job_titles=[]\n",
    "company_name=[]"
   ]
  },
  {
   "cell_type": "code",
   "execution_count": 59,
   "metadata": {},
   "outputs": [
    {
     "data": {
      "text/plain": [
       "[<selenium.webdriver.remote.webelement.WebElement (session=\"001bf1baf3d7c885fd62864214c40b93\", element=\"0b5e6059-13da-4043-b377-caabdd69aea6\")>,\n",
       " <selenium.webdriver.remote.webelement.WebElement (session=\"001bf1baf3d7c885fd62864214c40b93\", element=\"cd9cf9a7-785e-4f81-879c-e75ca58d46ae\")>,\n",
       " <selenium.webdriver.remote.webelement.WebElement (session=\"001bf1baf3d7c885fd62864214c40b93\", element=\"53383743-f69f-417e-9514-82e5d86c10ec\")>,\n",
       " <selenium.webdriver.remote.webelement.WebElement (session=\"001bf1baf3d7c885fd62864214c40b93\", element=\"b2b7eeda-2c91-42d0-9171-2667dd1f36b5\")>,\n",
       " <selenium.webdriver.remote.webelement.WebElement (session=\"001bf1baf3d7c885fd62864214c40b93\", element=\"225db641-d2ff-4f85-8a87-3b5226c5f5ae\")>]"
      ]
     },
     "execution_count": 59,
     "metadata": {},
     "output_type": "execute_result"
    }
   ],
   "source": [
    "#lets extract all the tags\n",
    "titles=driver.find_elements_by_xpath(\"//a[@class='title fw500 ellipsis']\")\n",
    "titles[0:5]"
   ]
  },
  {
   "cell_type": "code",
   "execution_count": 60,
   "metadata": {},
   "outputs": [
    {
     "data": {
      "text/plain": [
       "['Assistant Manager II - Data Analyst',\n",
       " 'Data Analyst',\n",
       " 'Data Analyst',\n",
       " 'Data Analyst',\n",
       " 'Business Data Analyst - MIS & Reporting']"
      ]
     },
     "execution_count": 60,
     "metadata": {},
     "output_type": "execute_result"
    }
   ],
   "source": [
    "for i in titles:\n",
    "    title=i.text\n",
    "    job_titles.append(title)\n",
    "job_titles[0:5] "
   ]
  },
  {
   "cell_type": "code",
   "execution_count": 61,
   "metadata": {},
   "outputs": [
    {
     "data": {
      "text/plain": [
       "[<selenium.webdriver.remote.webelement.WebElement (session=\"001bf1baf3d7c885fd62864214c40b93\", element=\"9a275daf-e980-438f-a420-99f701e008ed\")>,\n",
       " <selenium.webdriver.remote.webelement.WebElement (session=\"001bf1baf3d7c885fd62864214c40b93\", element=\"0d8bd20f-5e5e-4e3d-8807-95b9fc18a3c9\")>,\n",
       " <selenium.webdriver.remote.webelement.WebElement (session=\"001bf1baf3d7c885fd62864214c40b93\", element=\"bd712886-e5d6-418f-9a1d-680ec007b134\")>,\n",
       " <selenium.webdriver.remote.webelement.WebElement (session=\"001bf1baf3d7c885fd62864214c40b93\", element=\"179435ef-7fae-40bc-8315-e4ad693870ec\")>,\n",
       " <selenium.webdriver.remote.webelement.WebElement (session=\"001bf1baf3d7c885fd62864214c40b93\", element=\"cb1f44f0-5379-4ee2-9749-6a7f160f50e7\")>]"
      ]
     },
     "execution_count": 61,
     "metadata": {},
     "output_type": "execute_result"
    }
   ],
   "source": [
    "companies=driver.find_elements_by_xpath(\"//a[@class='subTitle ellipsis fleft']\")\n",
    "companies[0:5]"
   ]
  },
  {
   "cell_type": "code",
   "execution_count": 62,
   "metadata": {},
   "outputs": [
    {
     "data": {
      "text/plain": [
       "['Flipkart Internet Private Limited',\n",
       " 'Super India Tech Mark',\n",
       " 'tech mahindra ltd',\n",
       " 'GlaxoSmithKline Pharmaceuticals Limited',\n",
       " 'INTERTRUST GROUP']"
      ]
     },
     "execution_count": 62,
     "metadata": {},
     "output_type": "execute_result"
    }
   ],
   "source": [
    "for i in companies:\n",
    "    company=i.text\n",
    "    company_name.append(company)\n",
    "company_name[0:5]"
   ]
  },
  {
   "cell_type": "code",
   "execution_count": 63,
   "metadata": {},
   "outputs": [
    {
     "name": "stdout",
     "output_type": "stream",
     "text": [
      "20 20\n"
     ]
    }
   ],
   "source": [
    "print(len(job_titles),len(company_name))"
   ]
  },
  {
   "cell_type": "code",
   "execution_count": 64,
   "metadata": {},
   "outputs": [],
   "source": [
    "jobs=pd.DataFrame({})\n",
    "jobs['title']=job_titles[0:10]\n",
    "jobs['company']=company_name[0:10]"
   ]
  },
  {
   "cell_type": "code",
   "execution_count": 65,
   "metadata": {},
   "outputs": [
    {
     "data": {
      "text/html": [
       "<div>\n",
       "<style scoped>\n",
       "    .dataframe tbody tr th:only-of-type {\n",
       "        vertical-align: middle;\n",
       "    }\n",
       "\n",
       "    .dataframe tbody tr th {\n",
       "        vertical-align: top;\n",
       "    }\n",
       "\n",
       "    .dataframe thead th {\n",
       "        text-align: right;\n",
       "    }\n",
       "</style>\n",
       "<table border=\"1\" class=\"dataframe\">\n",
       "  <thead>\n",
       "    <tr style=\"text-align: right;\">\n",
       "      <th></th>\n",
       "      <th>title</th>\n",
       "      <th>company</th>\n",
       "    </tr>\n",
       "  </thead>\n",
       "  <tbody>\n",
       "    <tr>\n",
       "      <th>0</th>\n",
       "      <td>Assistant Manager II - Data Analyst</td>\n",
       "      <td>Flipkart Internet Private Limited</td>\n",
       "    </tr>\n",
       "    <tr>\n",
       "      <th>1</th>\n",
       "      <td>Data Analyst</td>\n",
       "      <td>Super India Tech Mark</td>\n",
       "    </tr>\n",
       "    <tr>\n",
       "      <th>2</th>\n",
       "      <td>Data Analyst</td>\n",
       "      <td>tech mahindra ltd</td>\n",
       "    </tr>\n",
       "    <tr>\n",
       "      <th>3</th>\n",
       "      <td>Data Analyst</td>\n",
       "      <td>GlaxoSmithKline Pharmaceuticals Limited</td>\n",
       "    </tr>\n",
       "    <tr>\n",
       "      <th>4</th>\n",
       "      <td>Business Data Analyst - MIS &amp; Reporting</td>\n",
       "      <td>INTERTRUST GROUP</td>\n",
       "    </tr>\n",
       "    <tr>\n",
       "      <th>5</th>\n",
       "      <td>Data Analyst</td>\n",
       "      <td>Xiaomi</td>\n",
       "    </tr>\n",
       "    <tr>\n",
       "      <th>6</th>\n",
       "      <td>Hiring For Data Analyst</td>\n",
       "      <td>Concentrix Daksh Services India Private Limited.</td>\n",
       "    </tr>\n",
       "    <tr>\n",
       "      <th>7</th>\n",
       "      <td>Senior Data Analyst</td>\n",
       "      <td>Cerner</td>\n",
       "    </tr>\n",
       "    <tr>\n",
       "      <th>8</th>\n",
       "      <td>Data Analyst / Business Analyst</td>\n",
       "      <td>LatentView Analytics Private Limited</td>\n",
       "    </tr>\n",
       "    <tr>\n",
       "      <th>9</th>\n",
       "      <td>Data Analyst (SQL, Excel, R/Python, Dashboards...</td>\n",
       "      <td>Flipkart Internet Private Limited</td>\n",
       "    </tr>\n",
       "  </tbody>\n",
       "</table>\n",
       "</div>"
      ],
      "text/plain": [
       "                                               title  \\\n",
       "0                Assistant Manager II - Data Analyst   \n",
       "1                                       Data Analyst   \n",
       "2                                       Data Analyst   \n",
       "3                                       Data Analyst   \n",
       "4            Business Data Analyst - MIS & Reporting   \n",
       "5                                       Data Analyst   \n",
       "6                            Hiring For Data Analyst   \n",
       "7                                Senior Data Analyst   \n",
       "8                    Data Analyst / Business Analyst   \n",
       "9  Data Analyst (SQL, Excel, R/Python, Dashboards...   \n",
       "\n",
       "                                            company  \n",
       "0                 Flipkart Internet Private Limited  \n",
       "1                             Super India Tech Mark  \n",
       "2                                 tech mahindra ltd  \n",
       "3           GlaxoSmithKline Pharmaceuticals Limited  \n",
       "4                                  INTERTRUST GROUP  \n",
       "5                                            Xiaomi  \n",
       "6  Concentrix Daksh Services India Private Limited.  \n",
       "7                                            Cerner  \n",
       "8              LatentView Analytics Private Limited  \n",
       "9                 Flipkart Internet Private Limited  "
      ]
     },
     "execution_count": 65,
     "metadata": {},
     "output_type": "execute_result"
    }
   ],
   "source": [
    "jobs"
   ]
  },
  {
   "cell_type": "markdown",
   "metadata": {},
   "source": [
    "# 2. Python program to scrape data for “Data Scientist” Job position in “Bangalore” location. You have to scrape the job-title, job-location, company_name, full job-description."
   ]
  },
  {
   "cell_type": "code",
   "execution_count": 66,
   "metadata": {},
   "outputs": [],
   "source": [
    "#lets import all required libraries\n",
    "import selenium\n",
    "import pandas as pd\n",
    "from selenium import webdriver"
   ]
  },
  {
   "cell_type": "code",
   "execution_count": 67,
   "metadata": {},
   "outputs": [],
   "source": [
    "#lets first connect to the web driver\n",
    "driver=webdriver.Chrome(r\"C://chromedriver.exe\")"
   ]
  },
  {
   "cell_type": "code",
   "execution_count": 68,
   "metadata": {},
   "outputs": [],
   "source": [
    "driver.get('https://www.naukri.com/')"
   ]
  },
  {
   "cell_type": "code",
   "execution_count": 69,
   "metadata": {},
   "outputs": [],
   "source": [
    "#finding elements for job search\n",
    "search_job=driver.find_element_by_id('qsb-keyword-sugg')\n",
    "search_job.send_keys('Data Analyst')\n",
    "search_loc=driver.find_element_by_xpath(\"//input[@id='qsb-location-sugg']\")\n",
    "search_loc.send_keys('Banglore')"
   ]
  },
  {
   "cell_type": "code",
   "execution_count": 70,
   "metadata": {},
   "outputs": [],
   "source": [
    "search_btn=driver.find_element_by_xpath(\"//div[@class='search-btn']/button\")\n",
    "search_btn.click()"
   ]
  },
  {
   "cell_type": "code",
   "execution_count": 71,
   "metadata": {},
   "outputs": [],
   "source": [
    "url='https://www.naukri.com/data-analyst-jobs-in-bangalore-bengaluru?k=data%20analyst&l=bangalore%2Fbengaluru'"
   ]
  },
  {
   "cell_type": "code",
   "execution_count": 72,
   "metadata": {},
   "outputs": [],
   "source": [
    "#lets open the webpage through web driver\n",
    "driver.get(url)"
   ]
  },
  {
   "cell_type": "code",
   "execution_count": 73,
   "metadata": {},
   "outputs": [],
   "source": [
    "job_titles=[]\n",
    "company_name=[]\n",
    "job_location=[]\n",
    "job_description=[]"
   ]
  },
  {
   "cell_type": "code",
   "execution_count": 74,
   "metadata": {},
   "outputs": [
    {
     "data": {
      "text/plain": [
       "[<selenium.webdriver.remote.webelement.WebElement (session=\"43353565aa3f8522d660015b8b644c7c\", element=\"1820800d-db14-4579-b268-e5a1a5742190\")>,\n",
       " <selenium.webdriver.remote.webelement.WebElement (session=\"43353565aa3f8522d660015b8b644c7c\", element=\"88faca07-b9b6-48e1-b11a-204f623d552d\")>,\n",
       " <selenium.webdriver.remote.webelement.WebElement (session=\"43353565aa3f8522d660015b8b644c7c\", element=\"1aec3d07-e32f-40e3-b84a-8d4ea2f9a2cc\")>,\n",
       " <selenium.webdriver.remote.webelement.WebElement (session=\"43353565aa3f8522d660015b8b644c7c\", element=\"f9662dff-d60c-49af-8f06-7a82474a1955\")>]"
      ]
     },
     "execution_count": 74,
     "metadata": {},
     "output_type": "execute_result"
    }
   ],
   "source": [
    "#lets extract all the tags\n",
    "titles=driver.find_elements_by_xpath(\"//a[@class='title fw500 ellipsis']\")\n",
    "titles[0:4]"
   ]
  },
  {
   "cell_type": "code",
   "execution_count": 75,
   "metadata": {},
   "outputs": [
    {
     "data": {
      "text/plain": [
       "['Assistant Manager II - Data Analyst',\n",
       " 'Data Analyst',\n",
       " 'Data Analyst',\n",
       " 'Data Analyst']"
      ]
     },
     "execution_count": 75,
     "metadata": {},
     "output_type": "execute_result"
    }
   ],
   "source": [
    "for i in titles:\n",
    "    title=i.text\n",
    "    job_titles.append(title)\n",
    "job_titles[0:4] "
   ]
  },
  {
   "cell_type": "code",
   "execution_count": 76,
   "metadata": {},
   "outputs": [
    {
     "data": {
      "text/plain": [
       "[<selenium.webdriver.remote.webelement.WebElement (session=\"43353565aa3f8522d660015b8b644c7c\", element=\"2da9b82b-c55d-4b2e-8979-91a584ddeced\")>,\n",
       " <selenium.webdriver.remote.webelement.WebElement (session=\"43353565aa3f8522d660015b8b644c7c\", element=\"1f80487d-c67d-4d2e-a162-65f0cb8c64cc\")>,\n",
       " <selenium.webdriver.remote.webelement.WebElement (session=\"43353565aa3f8522d660015b8b644c7c\", element=\"96fff3ff-34d4-40e4-91c4-15a920cf6407\")>,\n",
       " <selenium.webdriver.remote.webelement.WebElement (session=\"43353565aa3f8522d660015b8b644c7c\", element=\"081a3cb1-f9ae-4a93-92a4-43a6d71cb34d\")>]"
      ]
     },
     "execution_count": 76,
     "metadata": {},
     "output_type": "execute_result"
    }
   ],
   "source": [
    "companies=driver.find_elements_by_xpath(\"//a[@class='subTitle ellipsis fleft']\")\n",
    "companies[0:4]"
   ]
  },
  {
   "cell_type": "code",
   "execution_count": 77,
   "metadata": {},
   "outputs": [
    {
     "data": {
      "text/plain": [
       "['Flipkart Internet Private Limited',\n",
       " 'Super India Tech Mark',\n",
       " 'tech mahindra ltd',\n",
       " 'GlaxoSmithKline Pharmaceuticals Limited']"
      ]
     },
     "execution_count": 77,
     "metadata": {},
     "output_type": "execute_result"
    }
   ],
   "source": [
    "for i in companies:\n",
    "    company=i.text\n",
    "    company_name.append(company)\n",
    "company_name[0:4]"
   ]
  },
  {
   "cell_type": "code",
   "execution_count": 80,
   "metadata": {},
   "outputs": [
    {
     "data": {
      "text/plain": [
       "[<selenium.webdriver.remote.webelement.WebElement (session=\"43353565aa3f8522d660015b8b644c7c\", element=\"e3d4ff88-2d1a-4ddd-baa6-3f0b0216dba3\")>,\n",
       " <selenium.webdriver.remote.webelement.WebElement (session=\"43353565aa3f8522d660015b8b644c7c\", element=\"09540be1-c8d9-4ecb-b828-4c5b475e783f\")>,\n",
       " <selenium.webdriver.remote.webelement.WebElement (session=\"43353565aa3f8522d660015b8b644c7c\", element=\"9f98f521-ef59-44e0-ae62-fb9e4fd10419\")>,\n",
       " <selenium.webdriver.remote.webelement.WebElement (session=\"43353565aa3f8522d660015b8b644c7c\", element=\"ace9b451-6dd1-4242-b2fb-2535bbd9889b\")>]"
      ]
     },
     "execution_count": 80,
     "metadata": {},
     "output_type": "execute_result"
    }
   ],
   "source": [
    "description=driver.find_elements_by_xpath(\"//div[@class='job-description fs12 grey-text']\")\n",
    "description[0:4]"
   ]
  },
  {
   "cell_type": "code",
   "execution_count": 82,
   "metadata": {},
   "outputs": [
    {
     "data": {
      "text/plain": [
       "['Data Analyst must demonstrate a disciplined approach to decision-making that is risk-ba...',\n",
       " 'Building and iterating reports (with eventual design collaboration) based around a larg...',\n",
       " 'List of most critical skills that are required to be successful in the role',\n",
       " 'Proven experience in successfully working in a team setting and ability to reconcile co...']"
      ]
     },
     "execution_count": 82,
     "metadata": {},
     "output_type": "execute_result"
    }
   ],
   "source": [
    "for i in description:\n",
    "    desc=i.text\n",
    "    job_description.append(desc)\n",
    "job_description[0:4]"
   ]
  },
  {
   "cell_type": "code",
   "execution_count": 83,
   "metadata": {},
   "outputs": [
    {
     "name": "stdout",
     "output_type": "stream",
     "text": [
      "20 20 20\n"
     ]
    }
   ],
   "source": [
    "print(len(job_titles),len(company_name),len(job_description))"
   ]
  },
  {
   "cell_type": "code",
   "execution_count": 84,
   "metadata": {},
   "outputs": [],
   "source": [
    "jobs=pd.DataFrame({})\n",
    "jobs['title']=job_titles[0:10]\n",
    "jobs['company']=company_name[0:10]\n",
    "jobs['description']=job_description[0:10]"
   ]
  },
  {
   "cell_type": "code",
   "execution_count": 85,
   "metadata": {},
   "outputs": [
    {
     "data": {
      "text/html": [
       "<div>\n",
       "<style scoped>\n",
       "    .dataframe tbody tr th:only-of-type {\n",
       "        vertical-align: middle;\n",
       "    }\n",
       "\n",
       "    .dataframe tbody tr th {\n",
       "        vertical-align: top;\n",
       "    }\n",
       "\n",
       "    .dataframe thead th {\n",
       "        text-align: right;\n",
       "    }\n",
       "</style>\n",
       "<table border=\"1\" class=\"dataframe\">\n",
       "  <thead>\n",
       "    <tr style=\"text-align: right;\">\n",
       "      <th></th>\n",
       "      <th>title</th>\n",
       "      <th>company</th>\n",
       "      <th>description</th>\n",
       "    </tr>\n",
       "  </thead>\n",
       "  <tbody>\n",
       "    <tr>\n",
       "      <th>0</th>\n",
       "      <td>Assistant Manager II - Data Analyst</td>\n",
       "      <td>Flipkart Internet Private Limited</td>\n",
       "      <td>Data Analyst must demonstrate a disciplined ap...</td>\n",
       "    </tr>\n",
       "    <tr>\n",
       "      <th>1</th>\n",
       "      <td>Data Analyst</td>\n",
       "      <td>Super India Tech Mark</td>\n",
       "      <td>Building and iterating reports (with eventual ...</td>\n",
       "    </tr>\n",
       "    <tr>\n",
       "      <th>2</th>\n",
       "      <td>Data Analyst</td>\n",
       "      <td>tech mahindra ltd</td>\n",
       "      <td>List of most critical skills that are required...</td>\n",
       "    </tr>\n",
       "    <tr>\n",
       "      <th>3</th>\n",
       "      <td>Data Analyst</td>\n",
       "      <td>GlaxoSmithKline Pharmaceuticals Limited</td>\n",
       "      <td>Proven experience in successfully working in a...</td>\n",
       "    </tr>\n",
       "    <tr>\n",
       "      <th>4</th>\n",
       "      <td>Business Data Analyst - MIS &amp; Reporting</td>\n",
       "      <td>INTERTRUST GROUP</td>\n",
       "      <td>Works efficiently across distributed teams and...</td>\n",
       "    </tr>\n",
       "    <tr>\n",
       "      <th>5</th>\n",
       "      <td>Data Analyst</td>\n",
       "      <td>Xiaomi</td>\n",
       "      <td>Should have knowledge of managing data over Ex...</td>\n",
       "    </tr>\n",
       "    <tr>\n",
       "      <th>6</th>\n",
       "      <td>Hiring For Data Analyst</td>\n",
       "      <td>Concentrix Daksh Services India Private Limited.</td>\n",
       "      <td>KeywordData Analysis , BI , SQLJob Description...</td>\n",
       "    </tr>\n",
       "    <tr>\n",
       "      <th>7</th>\n",
       "      <td>Senior Data Analyst</td>\n",
       "      <td>Cerner</td>\n",
       "      <td>Bachelors or Masters degree in Mathematics, St...</td>\n",
       "    </tr>\n",
       "    <tr>\n",
       "      <th>8</th>\n",
       "      <td>Data Analyst / Business Analyst</td>\n",
       "      <td>LatentView Analytics Private Limited</td>\n",
       "      <td>Strong problem solving, business analysis and ...</td>\n",
       "    </tr>\n",
       "    <tr>\n",
       "      <th>9</th>\n",
       "      <td>Data Analyst (SQL, Excel, R/Python, Dashboards...</td>\n",
       "      <td>Flipkart Internet Private Limited</td>\n",
       "      <td>Flipkart is looking for Data Analyst [SQL/ Adv...</td>\n",
       "    </tr>\n",
       "  </tbody>\n",
       "</table>\n",
       "</div>"
      ],
      "text/plain": [
       "                                               title  \\\n",
       "0                Assistant Manager II - Data Analyst   \n",
       "1                                       Data Analyst   \n",
       "2                                       Data Analyst   \n",
       "3                                       Data Analyst   \n",
       "4            Business Data Analyst - MIS & Reporting   \n",
       "5                                       Data Analyst   \n",
       "6                            Hiring For Data Analyst   \n",
       "7                                Senior Data Analyst   \n",
       "8                    Data Analyst / Business Analyst   \n",
       "9  Data Analyst (SQL, Excel, R/Python, Dashboards...   \n",
       "\n",
       "                                            company  \\\n",
       "0                 Flipkart Internet Private Limited   \n",
       "1                             Super India Tech Mark   \n",
       "2                                 tech mahindra ltd   \n",
       "3           GlaxoSmithKline Pharmaceuticals Limited   \n",
       "4                                  INTERTRUST GROUP   \n",
       "5                                            Xiaomi   \n",
       "6  Concentrix Daksh Services India Private Limited.   \n",
       "7                                            Cerner   \n",
       "8              LatentView Analytics Private Limited   \n",
       "9                 Flipkart Internet Private Limited   \n",
       "\n",
       "                                         description  \n",
       "0  Data Analyst must demonstrate a disciplined ap...  \n",
       "1  Building and iterating reports (with eventual ...  \n",
       "2  List of most critical skills that are required...  \n",
       "3  Proven experience in successfully working in a...  \n",
       "4  Works efficiently across distributed teams and...  \n",
       "5  Should have knowledge of managing data over Ex...  \n",
       "6  KeywordData Analysis , BI , SQLJob Description...  \n",
       "7  Bachelors or Masters degree in Mathematics, St...  \n",
       "8  Strong problem solving, business analysis and ...  \n",
       "9  Flipkart is looking for Data Analyst [SQL/ Adv...  "
      ]
     },
     "execution_count": 85,
     "metadata": {},
     "output_type": "execute_result"
    }
   ],
   "source": [
    "jobs"
   ]
  },
  {
   "cell_type": "markdown",
   "metadata": {},
   "source": [
    "# 3. Scrape the job-title, job-location, company_name, experience_required."
   ]
  },
  {
   "cell_type": "code",
   "execution_count": 1,
   "metadata": {},
   "outputs": [],
   "source": [
    "#lets import all required libraries\n",
    "import selenium\n",
    "import pandas as pd\n",
    "from selenium import webdriver"
   ]
  },
  {
   "cell_type": "code",
   "execution_count": 2,
   "metadata": {},
   "outputs": [],
   "source": [
    "#lets first connect to the web driver\n",
    "driver=webdriver.Chrome(r\"C://chromedriver.exe\")"
   ]
  },
  {
   "cell_type": "code",
   "execution_count": 3,
   "metadata": {},
   "outputs": [],
   "source": [
    "driver.get('https://www.naukri.com/')"
   ]
  },
  {
   "cell_type": "code",
   "execution_count": 4,
   "metadata": {},
   "outputs": [],
   "source": [
    "#finding elements for job search\n",
    "search_job=driver.find_element_by_id('qsb-keyword-sugg')\n",
    "search_job.send_keys('Data Scientist')"
   ]
  },
  {
   "cell_type": "code",
   "execution_count": 5,
   "metadata": {},
   "outputs": [],
   "source": [
    "search_btn=driver.find_element_by_xpath(\"//div[@class='search-btn']/button\")\n",
    "search_btn.click()"
   ]
  },
  {
   "cell_type": "code",
   "execution_count": 6,
   "metadata": {},
   "outputs": [],
   "source": [
    "#specifying the url of the webpage to be scraped\n",
    "url='https://www.naukri.com/data-scientist-jobs?k=data%20scientist'"
   ]
  },
  {
   "cell_type": "code",
   "execution_count": 7,
   "metadata": {},
   "outputs": [],
   "source": [
    "#lets open the webpage through web driver\n",
    "driver.get(url)"
   ]
  },
  {
   "cell_type": "code",
   "execution_count": 23,
   "metadata": {},
   "outputs": [],
   "source": [
    "job_titles=[]\n",
    "company_name=[]\n",
    "job_location=[]\n",
    "experience_required=[]"
   ]
  },
  {
   "cell_type": "code",
   "execution_count": 24,
   "metadata": {},
   "outputs": [
    {
     "data": {
      "text/plain": [
       "[<selenium.webdriver.remote.webelement.WebElement (session=\"3333f7ec406fc04be8f7f7eee284d2fa\", element=\"25f1b4f2-fb9f-47ab-865f-ab28bff80c19\")>,\n",
       " <selenium.webdriver.remote.webelement.WebElement (session=\"3333f7ec406fc04be8f7f7eee284d2fa\", element=\"3bb6412f-87e2-4b07-869f-07a6acf8555d\")>,\n",
       " <selenium.webdriver.remote.webelement.WebElement (session=\"3333f7ec406fc04be8f7f7eee284d2fa\", element=\"d787854c-186f-412e-81e6-6d9b4b4b7afe\")>,\n",
       " <selenium.webdriver.remote.webelement.WebElement (session=\"3333f7ec406fc04be8f7f7eee284d2fa\", element=\"4598dc5d-b67d-495e-982f-fff7569e3ae0\")>,\n",
       " <selenium.webdriver.remote.webelement.WebElement (session=\"3333f7ec406fc04be8f7f7eee284d2fa\", element=\"6a757e5f-81fc-48c9-88d7-1093818b9dac\")>,\n",
       " <selenium.webdriver.remote.webelement.WebElement (session=\"3333f7ec406fc04be8f7f7eee284d2fa\", element=\"120af666-dab3-4e0d-a29f-cc48796ab5aa\")>,\n",
       " <selenium.webdriver.remote.webelement.WebElement (session=\"3333f7ec406fc04be8f7f7eee284d2fa\", element=\"eeaa36e7-3745-4e40-ab98-1578b7e09f0f\")>,\n",
       " <selenium.webdriver.remote.webelement.WebElement (session=\"3333f7ec406fc04be8f7f7eee284d2fa\", element=\"4242a681-669f-4250-b9af-16491402209c\")>,\n",
       " <selenium.webdriver.remote.webelement.WebElement (session=\"3333f7ec406fc04be8f7f7eee284d2fa\", element=\"f8f270b4-9faf-420c-8835-fdca498a9d4d\")>,\n",
       " <selenium.webdriver.remote.webelement.WebElement (session=\"3333f7ec406fc04be8f7f7eee284d2fa\", element=\"064eab73-3463-441b-9071-8bf7755a60f2\")>]"
      ]
     },
     "execution_count": 24,
     "metadata": {},
     "output_type": "execute_result"
    }
   ],
   "source": [
    "#lets extract all the tags\n",
    "titles=driver.find_elements_by_xpath(\"//a[@class='title fw500 ellipsis']\")\n",
    "titles[0:10]"
   ]
  },
  {
   "cell_type": "code",
   "execution_count": 25,
   "metadata": {},
   "outputs": [
    {
     "data": {
      "text/plain": [
       "['Developer - Data Science',\n",
       " 'Senior Data Scientist',\n",
       " 'Data Scientist - Machine Learning',\n",
       " 'Senior Data Scientist - Machine Learning/Hadoop',\n",
       " 'Sr. Data Analyst / Data Scientist',\n",
       " 'Data Scientist - Image Processing/Machine Learning',\n",
       " 'Data Scientist/Data Analyst - Python/Machine Learning',\n",
       " 'Data Scientist/ Analyst',\n",
       " 'Principal Data Scientist',\n",
       " 'Data Scientist']"
      ]
     },
     "execution_count": 25,
     "metadata": {},
     "output_type": "execute_result"
    }
   ],
   "source": [
    "for i in titles:\n",
    "    title=i.text\n",
    "    job_titles.append(title)\n",
    "job_titles[0:10] "
   ]
  },
  {
   "cell_type": "code",
   "execution_count": 26,
   "metadata": {},
   "outputs": [
    {
     "data": {
      "text/plain": [
       "[<selenium.webdriver.remote.webelement.WebElement (session=\"3333f7ec406fc04be8f7f7eee284d2fa\", element=\"5d674f3b-645f-470d-ab5a-89f6e0b94524\")>,\n",
       " <selenium.webdriver.remote.webelement.WebElement (session=\"3333f7ec406fc04be8f7f7eee284d2fa\", element=\"e847009e-c80e-4b3a-8f88-6269d538c640\")>,\n",
       " <selenium.webdriver.remote.webelement.WebElement (session=\"3333f7ec406fc04be8f7f7eee284d2fa\", element=\"43b2be22-ae4e-4513-838c-bf270f629182\")>,\n",
       " <selenium.webdriver.remote.webelement.WebElement (session=\"3333f7ec406fc04be8f7f7eee284d2fa\", element=\"b5bcce51-6a65-44ce-881e-446cc18b4d00\")>,\n",
       " <selenium.webdriver.remote.webelement.WebElement (session=\"3333f7ec406fc04be8f7f7eee284d2fa\", element=\"f7ec1342-e7a7-4852-ad67-57573be1a875\")>,\n",
       " <selenium.webdriver.remote.webelement.WebElement (session=\"3333f7ec406fc04be8f7f7eee284d2fa\", element=\"a7ab6d02-86c5-4ec0-b6b9-82ace0b5f9d1\")>,\n",
       " <selenium.webdriver.remote.webelement.WebElement (session=\"3333f7ec406fc04be8f7f7eee284d2fa\", element=\"8f2c7658-8063-4d43-bda0-cc05c190e808\")>,\n",
       " <selenium.webdriver.remote.webelement.WebElement (session=\"3333f7ec406fc04be8f7f7eee284d2fa\", element=\"f06bbcd2-33eb-4dc4-bef7-5e3b30995515\")>,\n",
       " <selenium.webdriver.remote.webelement.WebElement (session=\"3333f7ec406fc04be8f7f7eee284d2fa\", element=\"b7a38ac8-a972-4c9f-a6b0-afa7138db45b\")>,\n",
       " <selenium.webdriver.remote.webelement.WebElement (session=\"3333f7ec406fc04be8f7f7eee284d2fa\", element=\"d60b3e68-a298-4839-8399-bdcd6f3129ef\")>]"
      ]
     },
     "execution_count": 26,
     "metadata": {},
     "output_type": "execute_result"
    }
   ],
   "source": [
    "companies=driver.find_elements_by_xpath(\"//a[@class='subTitle ellipsis fleft']\")\n",
    "companies[0:10]"
   ]
  },
  {
   "cell_type": "code",
   "execution_count": 27,
   "metadata": {},
   "outputs": [
    {
     "data": {
      "text/plain": [
       "['ICL Systems India Private Limited',\n",
       " 'Walmart Global Tech India',\n",
       " 'AugmatrixGo',\n",
       " 'Decision Point',\n",
       " 'Lending Tree Research Services LLP',\n",
       " 'CarbyneTech India',\n",
       " 'Change leaders',\n",
       " 'Becton Dickinson India Pvt. Ltd',\n",
       " 'Walmart Global Tech India',\n",
       " 'CronJ IT Technologies Private Limited']"
      ]
     },
     "execution_count": 27,
     "metadata": {},
     "output_type": "execute_result"
    }
   ],
   "source": [
    "for i in companies:\n",
    "    company=i.text\n",
    "    company_name.append(company)\n",
    "company_name[0:10]"
   ]
  },
  {
   "cell_type": "code",
   "execution_count": 28,
   "metadata": {},
   "outputs": [
    {
     "data": {
      "text/plain": [
       "[<selenium.webdriver.remote.webelement.WebElement (session=\"3333f7ec406fc04be8f7f7eee284d2fa\", element=\"03450d18-be62-4b01-9e0d-c59eba0843bf\")>,\n",
       " <selenium.webdriver.remote.webelement.WebElement (session=\"3333f7ec406fc04be8f7f7eee284d2fa\", element=\"b4cc2aa5-eae6-4e8b-b2c7-8664e4b153f3\")>,\n",
       " <selenium.webdriver.remote.webelement.WebElement (session=\"3333f7ec406fc04be8f7f7eee284d2fa\", element=\"dc65a693-6f98-44a8-8857-83beeebfd7d4\")>,\n",
       " <selenium.webdriver.remote.webelement.WebElement (session=\"3333f7ec406fc04be8f7f7eee284d2fa\", element=\"1807c5e5-194d-48c1-8abe-aea1a132ea82\")>,\n",
       " <selenium.webdriver.remote.webelement.WebElement (session=\"3333f7ec406fc04be8f7f7eee284d2fa\", element=\"605a41cf-1234-499c-9dd5-72ad3fc04941\")>,\n",
       " <selenium.webdriver.remote.webelement.WebElement (session=\"3333f7ec406fc04be8f7f7eee284d2fa\", element=\"8a0a29af-7729-4228-b926-52ee535d30a1\")>,\n",
       " <selenium.webdriver.remote.webelement.WebElement (session=\"3333f7ec406fc04be8f7f7eee284d2fa\", element=\"4c429fd5-55da-4c21-8536-82a5cb25609d\")>,\n",
       " <selenium.webdriver.remote.webelement.WebElement (session=\"3333f7ec406fc04be8f7f7eee284d2fa\", element=\"d7e4dbb6-023a-44a1-b0f3-5c25d79e36db\")>,\n",
       " <selenium.webdriver.remote.webelement.WebElement (session=\"3333f7ec406fc04be8f7f7eee284d2fa\", element=\"3bae441a-d848-42e2-8a59-d71269fe197f\")>,\n",
       " <selenium.webdriver.remote.webelement.WebElement (session=\"3333f7ec406fc04be8f7f7eee284d2fa\", element=\"34850dac-3801-47b4-8572-4f23cca7309a\")>]"
      ]
     },
     "execution_count": 28,
     "metadata": {},
     "output_type": "execute_result"
    }
   ],
   "source": [
    "location=driver.find_elements_by_xpath(\"//li[@class='fleft grey-text br2 placeHolderLi location']\")\n",
    "location[0:10]"
   ]
  },
  {
   "cell_type": "code",
   "execution_count": 29,
   "metadata": {},
   "outputs": [
    {
     "data": {
      "text/plain": [
       "['Delhi / NCR',\n",
       " 'Other',\n",
       " 'Bangalore/Bengaluru',\n",
       " 'Gurgaon/Gurugram',\n",
       " 'Ahmedabad(Makarba)',\n",
       " 'Hyderabad/Secunderabad',\n",
       " 'Mumbai, Ghaziabad',\n",
       " 'Bangalore/Bengaluru',\n",
       " 'Other',\n",
       " 'Bangalore/Bengaluru']"
      ]
     },
     "execution_count": 29,
     "metadata": {},
     "output_type": "execute_result"
    }
   ],
   "source": [
    "for i in location:\n",
    "    locations=i.text\n",
    "    job_location.append(locations)\n",
    "job_location[0:10]"
   ]
  },
  {
   "cell_type": "code",
   "execution_count": 30,
   "metadata": {},
   "outputs": [
    {
     "data": {
      "text/plain": [
       "[<selenium.webdriver.remote.webelement.WebElement (session=\"3333f7ec406fc04be8f7f7eee284d2fa\", element=\"69f5177d-9ff3-4376-92e0-17c30187aead\")>,\n",
       " <selenium.webdriver.remote.webelement.WebElement (session=\"3333f7ec406fc04be8f7f7eee284d2fa\", element=\"9127d2b9-69df-4fb0-821c-080a807a14a3\")>,\n",
       " <selenium.webdriver.remote.webelement.WebElement (session=\"3333f7ec406fc04be8f7f7eee284d2fa\", element=\"fa48b5a3-dcad-4efd-b934-4218bc5e2e85\")>,\n",
       " <selenium.webdriver.remote.webelement.WebElement (session=\"3333f7ec406fc04be8f7f7eee284d2fa\", element=\"0052954f-59ae-413f-bb8b-7335561fe85c\")>,\n",
       " <selenium.webdriver.remote.webelement.WebElement (session=\"3333f7ec406fc04be8f7f7eee284d2fa\", element=\"bcd9478a-1aec-4d5f-ad3f-4ff9d2df5f3d\")>,\n",
       " <selenium.webdriver.remote.webelement.WebElement (session=\"3333f7ec406fc04be8f7f7eee284d2fa\", element=\"1bc7812f-587d-441c-a3d9-952ca5beb470\")>,\n",
       " <selenium.webdriver.remote.webelement.WebElement (session=\"3333f7ec406fc04be8f7f7eee284d2fa\", element=\"20b25692-9709-4626-a758-5f12f3a983fd\")>,\n",
       " <selenium.webdriver.remote.webelement.WebElement (session=\"3333f7ec406fc04be8f7f7eee284d2fa\", element=\"ac56c1c8-a87c-4b65-8408-e31ae9db3268\")>,\n",
       " <selenium.webdriver.remote.webelement.WebElement (session=\"3333f7ec406fc04be8f7f7eee284d2fa\", element=\"2996ed75-670d-4f48-8752-ac2baadd7915\")>,\n",
       " <selenium.webdriver.remote.webelement.WebElement (session=\"3333f7ec406fc04be8f7f7eee284d2fa\", element=\"096854f0-d746-4f69-ab33-1b3947d63d4c\")>]"
      ]
     },
     "execution_count": 30,
     "metadata": {},
     "output_type": "execute_result"
    }
   ],
   "source": [
    "experience=driver.find_elements_by_xpath(\"//li[@class='fleft grey-text br2 placeHolderLi experience']\")\n",
    "experience[0:10]"
   ]
  },
  {
   "cell_type": "code",
   "execution_count": 31,
   "metadata": {
    "scrolled": true
   },
   "outputs": [
    {
     "data": {
      "text/plain": [
       "['3-5 Yrs',\n",
       " '0-5 Yrs',\n",
       " '2-5 Yrs',\n",
       " '2-7 Yrs',\n",
       " '3-7 Yrs',\n",
       " '6-11 Yrs',\n",
       " '5-10 Yrs',\n",
       " '5-10 Yrs',\n",
       " '0-5 Yrs',\n",
       " '0-1 Yrs']"
      ]
     },
     "execution_count": 31,
     "metadata": {},
     "output_type": "execute_result"
    }
   ],
   "source": [
    "for i in experience:\n",
    "    exp=i.text\n",
    "    experience_required.append(exp)\n",
    "experience_required[0:10]"
   ]
  },
  {
   "cell_type": "code",
   "execution_count": 32,
   "metadata": {},
   "outputs": [],
   "source": [
    "jobs=pd.DataFrame({})\n",
    "jobs['title']=job_titles[0:10]\n",
    "jobs['company']=company_name[0:10]\n",
    "jobs['locations']=job_location[0:10]\n",
    "jobs['exp']=experience_required[0:10]"
   ]
  },
  {
   "cell_type": "code",
   "execution_count": 33,
   "metadata": {},
   "outputs": [
    {
     "data": {
      "text/html": [
       "<div>\n",
       "<style scoped>\n",
       "    .dataframe tbody tr th:only-of-type {\n",
       "        vertical-align: middle;\n",
       "    }\n",
       "\n",
       "    .dataframe tbody tr th {\n",
       "        vertical-align: top;\n",
       "    }\n",
       "\n",
       "    .dataframe thead th {\n",
       "        text-align: right;\n",
       "    }\n",
       "</style>\n",
       "<table border=\"1\" class=\"dataframe\">\n",
       "  <thead>\n",
       "    <tr style=\"text-align: right;\">\n",
       "      <th></th>\n",
       "      <th>title</th>\n",
       "      <th>company</th>\n",
       "      <th>locations</th>\n",
       "      <th>exp</th>\n",
       "    </tr>\n",
       "  </thead>\n",
       "  <tbody>\n",
       "    <tr>\n",
       "      <th>0</th>\n",
       "      <td>Developer - Data Science</td>\n",
       "      <td>ICL Systems India Private Limited</td>\n",
       "      <td>Delhi / NCR</td>\n",
       "      <td>3-5 Yrs</td>\n",
       "    </tr>\n",
       "    <tr>\n",
       "      <th>1</th>\n",
       "      <td>Senior Data Scientist</td>\n",
       "      <td>Walmart Global Tech India</td>\n",
       "      <td>Other</td>\n",
       "      <td>0-5 Yrs</td>\n",
       "    </tr>\n",
       "    <tr>\n",
       "      <th>2</th>\n",
       "      <td>Data Scientist - Machine Learning</td>\n",
       "      <td>AugmatrixGo</td>\n",
       "      <td>Bangalore/Bengaluru</td>\n",
       "      <td>2-5 Yrs</td>\n",
       "    </tr>\n",
       "    <tr>\n",
       "      <th>3</th>\n",
       "      <td>Senior Data Scientist - Machine Learning/Hadoop</td>\n",
       "      <td>Decision Point</td>\n",
       "      <td>Gurgaon/Gurugram</td>\n",
       "      <td>2-7 Yrs</td>\n",
       "    </tr>\n",
       "    <tr>\n",
       "      <th>4</th>\n",
       "      <td>Sr. Data Analyst / Data Scientist</td>\n",
       "      <td>Lending Tree Research Services LLP</td>\n",
       "      <td>Ahmedabad(Makarba)</td>\n",
       "      <td>3-7 Yrs</td>\n",
       "    </tr>\n",
       "    <tr>\n",
       "      <th>5</th>\n",
       "      <td>Data Scientist - Image Processing/Machine Lear...</td>\n",
       "      <td>CarbyneTech India</td>\n",
       "      <td>Hyderabad/Secunderabad</td>\n",
       "      <td>6-11 Yrs</td>\n",
       "    </tr>\n",
       "    <tr>\n",
       "      <th>6</th>\n",
       "      <td>Data Scientist/Data Analyst - Python/Machine L...</td>\n",
       "      <td>Change leaders</td>\n",
       "      <td>Mumbai, Ghaziabad</td>\n",
       "      <td>5-10 Yrs</td>\n",
       "    </tr>\n",
       "    <tr>\n",
       "      <th>7</th>\n",
       "      <td>Data Scientist/ Analyst</td>\n",
       "      <td>Becton Dickinson India Pvt. Ltd</td>\n",
       "      <td>Bangalore/Bengaluru</td>\n",
       "      <td>5-10 Yrs</td>\n",
       "    </tr>\n",
       "    <tr>\n",
       "      <th>8</th>\n",
       "      <td>Principal Data Scientist</td>\n",
       "      <td>Walmart Global Tech India</td>\n",
       "      <td>Other</td>\n",
       "      <td>0-5 Yrs</td>\n",
       "    </tr>\n",
       "    <tr>\n",
       "      <th>9</th>\n",
       "      <td>Data Scientist</td>\n",
       "      <td>CronJ IT Technologies Private Limited</td>\n",
       "      <td>Bangalore/Bengaluru</td>\n",
       "      <td>0-1 Yrs</td>\n",
       "    </tr>\n",
       "  </tbody>\n",
       "</table>\n",
       "</div>"
      ],
      "text/plain": [
       "                                               title  \\\n",
       "0                           Developer - Data Science   \n",
       "1                              Senior Data Scientist   \n",
       "2                  Data Scientist - Machine Learning   \n",
       "3    Senior Data Scientist - Machine Learning/Hadoop   \n",
       "4                  Sr. Data Analyst / Data Scientist   \n",
       "5  Data Scientist - Image Processing/Machine Lear...   \n",
       "6  Data Scientist/Data Analyst - Python/Machine L...   \n",
       "7                            Data Scientist/ Analyst   \n",
       "8                           Principal Data Scientist   \n",
       "9                                     Data Scientist   \n",
       "\n",
       "                                 company               locations       exp  \n",
       "0      ICL Systems India Private Limited             Delhi / NCR   3-5 Yrs  \n",
       "1              Walmart Global Tech India                   Other   0-5 Yrs  \n",
       "2                            AugmatrixGo     Bangalore/Bengaluru   2-5 Yrs  \n",
       "3                         Decision Point        Gurgaon/Gurugram   2-7 Yrs  \n",
       "4     Lending Tree Research Services LLP      Ahmedabad(Makarba)   3-7 Yrs  \n",
       "5                      CarbyneTech India  Hyderabad/Secunderabad  6-11 Yrs  \n",
       "6                         Change leaders       Mumbai, Ghaziabad  5-10 Yrs  \n",
       "7        Becton Dickinson India Pvt. Ltd     Bangalore/Bengaluru  5-10 Yrs  \n",
       "8              Walmart Global Tech India                   Other   0-5 Yrs  \n",
       "9  CronJ IT Technologies Private Limited     Bangalore/Bengaluru   0-1 Yrs  "
      ]
     },
     "execution_count": 33,
     "metadata": {},
     "output_type": "execute_result"
    }
   ],
   "source": [
    "jobs"
   ]
  },
  {
   "cell_type": "markdown",
   "metadata": {},
   "source": [
    "# 4. Python program to scrape data for first 10 job results for Data scientist Designation in Noida location. You have to scrape company_name, No. of days ago when job was posted, Rating of the company"
   ]
  },
  {
   "cell_type": "code",
   "execution_count": 2,
   "metadata": {},
   "outputs": [],
   "source": [
    "#lets import all required libraries\n",
    "import selenium\n",
    "import pandas as pd\n",
    "from selenium import webdriver"
   ]
  },
  {
   "cell_type": "code",
   "execution_count": 3,
   "metadata": {},
   "outputs": [],
   "source": [
    "#lets first connect to the web driver\n",
    "driver1=webdriver.Chrome(r\"C://chromedriver.exe\")"
   ]
  },
  {
   "cell_type": "code",
   "execution_count": 4,
   "metadata": {},
   "outputs": [],
   "source": [
    "driver1.get('https://www.glassdoor.co.in/index.htm')"
   ]
  },
  {
   "cell_type": "code",
   "execution_count": 5,
   "metadata": {},
   "outputs": [],
   "source": [
    "url='https://www.glassdoor.co.in/Job/noida-data-scientist-jobs-SRCH_IL.0,5_IC4477468_KO6,20.htm?srs=RECENT_SEARCHES'"
   ]
  },
  {
   "cell_type": "code",
   "execution_count": 6,
   "metadata": {},
   "outputs": [],
   "source": [
    "#lets open the webpage through web driver\n",
    "driver1.get(url)"
   ]
  },
  {
   "cell_type": "code",
   "execution_count": 21,
   "metadata": {},
   "outputs": [],
   "source": [
    "job_posted=[]\n",
    "ratings=[]"
   ]
  },
  {
   "cell_type": "code",
   "execution_count": 22,
   "metadata": {},
   "outputs": [
    {
     "data": {
      "text/plain": [
       "[<selenium.webdriver.remote.webelement.WebElement (session=\"a2088d367550610d444e43bc8bd1227f\", element=\"98cb77e8-6dcb-49dd-ac6a-d61a02c663fb\")>,\n",
       " <selenium.webdriver.remote.webelement.WebElement (session=\"a2088d367550610d444e43bc8bd1227f\", element=\"e5548d5e-613d-4946-8573-fa21f6e74418\")>,\n",
       " <selenium.webdriver.remote.webelement.WebElement (session=\"a2088d367550610d444e43bc8bd1227f\", element=\"e852b4dd-0ee4-440f-9f2b-040b3347d614\")>,\n",
       " <selenium.webdriver.remote.webelement.WebElement (session=\"a2088d367550610d444e43bc8bd1227f\", element=\"14ec7204-be7e-4f4b-8458-519fc2e5ee24\")>]"
      ]
     },
     "execution_count": 22,
     "metadata": {},
     "output_type": "execute_result"
    }
   ],
   "source": [
    "posted=driver1.find_elements_by_xpath(\"//div[@class='d-flex align-items-end pl-std css-mi55ob']\")\n",
    "posted[0:4]"
   ]
  },
  {
   "cell_type": "code",
   "execution_count": 23,
   "metadata": {},
   "outputs": [
    {
     "data": {
      "text/plain": [
       "['3d', '8d', '2d', '24h']"
      ]
     },
     "execution_count": 23,
     "metadata": {},
     "output_type": "execute_result"
    }
   ],
   "source": [
    "for i in posted:\n",
    "    jobpost=i.text\n",
    "    job_posted.append(jobpost)\n",
    "job_posted[0:4] "
   ]
  },
  {
   "cell_type": "code",
   "execution_count": 24,
   "metadata": {},
   "outputs": [
    {
     "data": {
      "text/plain": [
       "[<selenium.webdriver.remote.webelement.WebElement (session=\"a2088d367550610d444e43bc8bd1227f\", element=\"c82545fa-7191-4ef2-8610-506f712dfd58\")>,\n",
       " <selenium.webdriver.remote.webelement.WebElement (session=\"a2088d367550610d444e43bc8bd1227f\", element=\"17276304-41b0-42fd-b039-e6a23c7e2346\")>,\n",
       " <selenium.webdriver.remote.webelement.WebElement (session=\"a2088d367550610d444e43bc8bd1227f\", element=\"50b98699-94f5-47de-820e-c3f6de2a6ba4\")>,\n",
       " <selenium.webdriver.remote.webelement.WebElement (session=\"a2088d367550610d444e43bc8bd1227f\", element=\"a4a1d91f-06fc-478c-b618-f37b61f799d9\")>]"
      ]
     },
     "execution_count": 24,
     "metadata": {},
     "output_type": "execute_result"
    }
   ],
   "source": [
    "rat=driver1.find_elements_by_xpath(\"//div[@class='d-flex flex-column css-x75kgh e1rrn5ka3']\")\n",
    "rat[0:4]"
   ]
  },
  {
   "cell_type": "code",
   "execution_count": 25,
   "metadata": {},
   "outputs": [
    {
     "data": {
      "text/plain": [
       "['4.1', '4.3', '4.4', '4.2']"
      ]
     },
     "execution_count": 25,
     "metadata": {},
     "output_type": "execute_result"
    }
   ],
   "source": [
    "for i in rat:\n",
    "    rating=i.text\n",
    "    ratings.append(rating)\n",
    "ratings[0:4] "
   ]
  },
  {
   "cell_type": "code",
   "execution_count": 30,
   "metadata": {},
   "outputs": [],
   "source": [
    "jobs=pd.DataFrame({})\n",
    "jobs['jobpost']=job_posted[0:10]\n",
    "jobs['rating']=ratings[0:10]"
   ]
  },
  {
   "cell_type": "code",
   "execution_count": 31,
   "metadata": {},
   "outputs": [
    {
     "data": {
      "text/html": [
       "<div>\n",
       "<style scoped>\n",
       "    .dataframe tbody tr th:only-of-type {\n",
       "        vertical-align: middle;\n",
       "    }\n",
       "\n",
       "    .dataframe tbody tr th {\n",
       "        vertical-align: top;\n",
       "    }\n",
       "\n",
       "    .dataframe thead th {\n",
       "        text-align: right;\n",
       "    }\n",
       "</style>\n",
       "<table border=\"1\" class=\"dataframe\">\n",
       "  <thead>\n",
       "    <tr style=\"text-align: right;\">\n",
       "      <th></th>\n",
       "      <th>jobpost</th>\n",
       "      <th>rating</th>\n",
       "    </tr>\n",
       "  </thead>\n",
       "  <tbody>\n",
       "    <tr>\n",
       "      <th>0</th>\n",
       "      <td>3d</td>\n",
       "      <td>4.1</td>\n",
       "    </tr>\n",
       "    <tr>\n",
       "      <th>1</th>\n",
       "      <td>8d</td>\n",
       "      <td>4.3</td>\n",
       "    </tr>\n",
       "    <tr>\n",
       "      <th>2</th>\n",
       "      <td>2d</td>\n",
       "      <td>4.4</td>\n",
       "    </tr>\n",
       "    <tr>\n",
       "      <th>3</th>\n",
       "      <td>24h</td>\n",
       "      <td>4.2</td>\n",
       "    </tr>\n",
       "    <tr>\n",
       "      <th>4</th>\n",
       "      <td>3d</td>\n",
       "      <td>3.8</td>\n",
       "    </tr>\n",
       "    <tr>\n",
       "      <th>5</th>\n",
       "      <td>22d</td>\n",
       "      <td>5.0</td>\n",
       "    </tr>\n",
       "    <tr>\n",
       "      <th>6</th>\n",
       "      <td>1d</td>\n",
       "      <td>4.2</td>\n",
       "    </tr>\n",
       "    <tr>\n",
       "      <th>7</th>\n",
       "      <td>14d</td>\n",
       "      <td>4.4</td>\n",
       "    </tr>\n",
       "    <tr>\n",
       "      <th>8</th>\n",
       "      <td>1d</td>\n",
       "      <td>5.0</td>\n",
       "    </tr>\n",
       "    <tr>\n",
       "      <th>9</th>\n",
       "      <td>6d</td>\n",
       "      <td>3.8</td>\n",
       "    </tr>\n",
       "  </tbody>\n",
       "</table>\n",
       "</div>"
      ],
      "text/plain": [
       "  jobpost rating\n",
       "0      3d    4.1\n",
       "1      8d    4.3\n",
       "2      2d    4.4\n",
       "3     24h    4.2\n",
       "4      3d    3.8\n",
       "5     22d    5.0\n",
       "6      1d    4.2\n",
       "7     14d    4.4\n",
       "8      1d    5.0\n",
       "9      6d    3.8"
      ]
     },
     "execution_count": 31,
     "metadata": {},
     "output_type": "execute_result"
    }
   ],
   "source": [
    "jobs"
   ]
  },
  {
   "cell_type": "markdown",
   "metadata": {},
   "source": [
    "# 5. Python program to scrape the salary data for Data Scientist designation in Noida location."
   ]
  },
  {
   "cell_type": "code",
   "execution_count": 2,
   "metadata": {},
   "outputs": [],
   "source": [
    "#lets first connect to the web driver\n",
    "drivers=webdriver.Chrome(r\"C://chromedriver.exe\")\n",
    "\n",
    "drivers.get('https://www.glassdoor.co.in/Salaries/index.htm')\n",
    "\n",
    "url='https://www.glassdoor.co.in/Salaries/new-delhi-data-scientist-salary-SRCH_IL.0,9_IM1083_KO10,24.htm?clickSource=searchBtn'\n",
    "\n",
    "#lets open the webpage through web driver\n",
    "drivers.get(url)"
   ]
  },
  {
   "cell_type": "code",
   "execution_count": 3,
   "metadata": {},
   "outputs": [],
   "source": [
    "company_name=[]\n",
    "no_of_salary=[]\n",
    "avg_salary=[]"
   ]
  },
  {
   "cell_type": "code",
   "execution_count": 4,
   "metadata": {},
   "outputs": [
    {
     "data": {
      "text/plain": [
       "[<selenium.webdriver.remote.webelement.WebElement (session=\"fe3e05c8d2624b6b21258e8b83f579f3\", element=\"6fe2f786-f48e-487a-a64b-0fb51fb96ef1\")>,\n",
       " <selenium.webdriver.remote.webelement.WebElement (session=\"fe3e05c8d2624b6b21258e8b83f579f3\", element=\"9f7a2317-ffe8-4670-bd69-90ff095c080d\")>,\n",
       " <selenium.webdriver.remote.webelement.WebElement (session=\"fe3e05c8d2624b6b21258e8b83f579f3\", element=\"c609b911-1c72-4de5-93f0-471eccf57296\")>,\n",
       " <selenium.webdriver.remote.webelement.WebElement (session=\"fe3e05c8d2624b6b21258e8b83f579f3\", element=\"9bda62e5-89f5-4c99-bda7-8be42fa32275\")>]"
      ]
     },
     "execution_count": 4,
     "metadata": {},
     "output_type": "execute_result"
    }
   ],
   "source": [
    "#lets extract all the tags\n",
    "company=drivers.find_elements_by_xpath(\"//p[@class='m-0']\")\n",
    "company[0:4]"
   ]
  },
  {
   "cell_type": "code",
   "execution_count": 5,
   "metadata": {},
   "outputs": [
    {
     "data": {
      "text/plain": [
       "['Data Scientist',\n",
       " 'See 108 salaries from all locations',\n",
       " 'Data Scientist',\n",
       " 'See 53 salaries from all locations']"
      ]
     },
     "execution_count": 5,
     "metadata": {},
     "output_type": "execute_result"
    }
   ],
   "source": [
    "for i in company:\n",
    "    companies=i.text\n",
    "    company_name.append(companies)\n",
    "company_name[0:4] "
   ]
  },
  {
   "cell_type": "code",
   "execution_count": 6,
   "metadata": {},
   "outputs": [
    {
     "data": {
      "text/plain": [
       "[<selenium.webdriver.remote.webelement.WebElement (session=\"fe3e05c8d2624b6b21258e8b83f579f3\", element=\"b4ce5d6b-4efb-46ad-a491-21d24b1a4f72\")>,\n",
       " <selenium.webdriver.remote.webelement.WebElement (session=\"fe3e05c8d2624b6b21258e8b83f579f3\", element=\"9e33651c-8ad6-4d95-887d-395161602aca\")>,\n",
       " <selenium.webdriver.remote.webelement.WebElement (session=\"fe3e05c8d2624b6b21258e8b83f579f3\", element=\"7cdf5e4f-21ca-4090-bd6b-a11adb0b60f4\")>,\n",
       " <selenium.webdriver.remote.webelement.WebElement (session=\"fe3e05c8d2624b6b21258e8b83f579f3\", element=\"5a3ab7d8-5cfa-4f3e-9c12-b31868496b65\")>]"
      ]
     },
     "execution_count": 6,
     "metadata": {},
     "output_type": "execute_result"
    }
   ],
   "source": [
    "no_sal=drivers.find_elements_by_xpath(\"//div[@class='d-flex']\")\n",
    "no_sal[0:4]"
   ]
  },
  {
   "cell_type": "code",
   "execution_count": 7,
   "metadata": {},
   "outputs": [
    {
     "data": {
      "text/plain": [
       "['Data Scientist\\nTata Consultancy Services\\n14 salaries\\nSee 108 salaries from all locations',\n",
       " 'Data Scientist\\nAccenture\\n14 salaries\\nSee 53 salaries from all locations',\n",
       " 'Data Scientist\\nDelhivery\\n14 salaries\\nSee 17 salaries from all locations',\n",
       " 'Data Scientist\\nIBM\\n13 salaries\\nSee 100 salaries from all locations']"
      ]
     },
     "execution_count": 7,
     "metadata": {},
     "output_type": "execute_result"
    }
   ],
   "source": [
    "for i in no_sal:\n",
    "    salaries=i.text\n",
    "    no_of_salary.append(salaries)\n",
    "no_of_salary[0:4]"
   ]
  },
  {
   "cell_type": "code",
   "execution_count": 8,
   "metadata": {},
   "outputs": [
    {
     "data": {
      "text/plain": [
       "[<selenium.webdriver.remote.webelement.WebElement (session=\"fe3e05c8d2624b6b21258e8b83f579f3\", element=\"5364e40d-3078-4af1-871a-417ddac42ffa\")>,\n",
       " <selenium.webdriver.remote.webelement.WebElement (session=\"fe3e05c8d2624b6b21258e8b83f579f3\", element=\"156f133d-9e68-4aad-bad5-4dd55d53d742\")>,\n",
       " <selenium.webdriver.remote.webelement.WebElement (session=\"fe3e05c8d2624b6b21258e8b83f579f3\", element=\"837e05ec-67da-4cd6-a7c7-c05bb43484c1\")>,\n",
       " <selenium.webdriver.remote.webelement.WebElement (session=\"fe3e05c8d2624b6b21258e8b83f579f3\", element=\"492bce97-9a23-47aa-a6b4-6adbd218274d\")>]"
      ]
     },
     "execution_count": 8,
     "metadata": {},
     "output_type": "execute_result"
    }
   ],
   "source": [
    "avg_sal=drivers.find_elements_by_xpath(\"//div[@class='col-2 d-none d-md-flex flex-row justify-content-end']\")\n",
    "avg_sal[0:4]"
   ]
  },
  {
   "cell_type": "code",
   "execution_count": 9,
   "metadata": {},
   "outputs": [
    {
     "data": {
      "text/plain": [
       "['₹ 6,01,000\\n/yr', '₹ 11,51,207\\n/yr', '₹ 12,34,207\\n/yr', '₹ 7,63,825\\n/yr']"
      ]
     },
     "execution_count": 9,
     "metadata": {},
     "output_type": "execute_result"
    }
   ],
   "source": [
    "for i in avg_sal:\n",
    "    avg_salaries=i.text\n",
    "    avg_salary.append(avg_salaries)\n",
    "avg_salary[0:4]"
   ]
  },
  {
   "cell_type": "code",
   "execution_count": 10,
   "metadata": {},
   "outputs": [],
   "source": [
    "job=pd.DataFrame({})\n",
    "job['companies']=company_name[0:10]\n",
    "job['no_of_sal']=no_of_salary[0:10]\n",
    "job['salaries']=avg_salary[0:10]"
   ]
  },
  {
   "cell_type": "code",
   "execution_count": 11,
   "metadata": {},
   "outputs": [
    {
     "data": {
      "text/html": [
       "<div>\n",
       "<style scoped>\n",
       "    .dataframe tbody tr th:only-of-type {\n",
       "        vertical-align: middle;\n",
       "    }\n",
       "\n",
       "    .dataframe tbody tr th {\n",
       "        vertical-align: top;\n",
       "    }\n",
       "\n",
       "    .dataframe thead th {\n",
       "        text-align: right;\n",
       "    }\n",
       "</style>\n",
       "<table border=\"1\" class=\"dataframe\">\n",
       "  <thead>\n",
       "    <tr style=\"text-align: right;\">\n",
       "      <th></th>\n",
       "      <th>companies</th>\n",
       "      <th>no_of_sal</th>\n",
       "      <th>salaries</th>\n",
       "    </tr>\n",
       "  </thead>\n",
       "  <tbody>\n",
       "    <tr>\n",
       "      <th>0</th>\n",
       "      <td>Data Scientist</td>\n",
       "      <td>Data Scientist\\nTata Consultancy Services\\n14 ...</td>\n",
       "      <td>₹ 6,01,000\\n/yr</td>\n",
       "    </tr>\n",
       "    <tr>\n",
       "      <th>1</th>\n",
       "      <td>See 108 salaries from all locations</td>\n",
       "      <td>Data Scientist\\nAccenture\\n14 salaries\\nSee 53...</td>\n",
       "      <td>₹ 11,51,207\\n/yr</td>\n",
       "    </tr>\n",
       "    <tr>\n",
       "      <th>2</th>\n",
       "      <td>Data Scientist</td>\n",
       "      <td>Data Scientist\\nDelhivery\\n14 salaries\\nSee 17...</td>\n",
       "      <td>₹ 12,34,207\\n/yr</td>\n",
       "    </tr>\n",
       "    <tr>\n",
       "      <th>3</th>\n",
       "      <td>See 53 salaries from all locations</td>\n",
       "      <td>Data Scientist\\nIBM\\n13 salaries\\nSee 100 sala...</td>\n",
       "      <td>₹ 7,63,825\\n/yr</td>\n",
       "    </tr>\n",
       "    <tr>\n",
       "      <th>4</th>\n",
       "      <td>Data Scientist</td>\n",
       "      <td>Data Scientist\\nEricsson-Worldwide\\n12 salarie...</td>\n",
       "      <td>₹ 7,32,209\\n/yr</td>\n",
       "    </tr>\n",
       "    <tr>\n",
       "      <th>5</th>\n",
       "      <td>See 17 salaries from all locations</td>\n",
       "      <td>Data Scientist\\nUnitedHealth Group\\n10 salarie...</td>\n",
       "      <td>₹ 13,88,910\\n/yr</td>\n",
       "    </tr>\n",
       "    <tr>\n",
       "      <th>6</th>\n",
       "      <td>Data Scientist</td>\n",
       "      <td>Data Scientist\\nValiance Solutions\\n9 salaries...</td>\n",
       "      <td>₹ 8,18,515\\n/yr</td>\n",
       "    </tr>\n",
       "    <tr>\n",
       "      <th>7</th>\n",
       "      <td>See 100 salaries from all locations</td>\n",
       "      <td>Data Scientist\\nInnovaccer\\n8 salaries\\nSee 10...</td>\n",
       "      <td>₹ 12,01,403\\n/yr</td>\n",
       "    </tr>\n",
       "    <tr>\n",
       "      <th>8</th>\n",
       "      <td>Data Scientist</td>\n",
       "      <td>Data Scientist\\nZS Associates\\n7 salaries\\nSee...</td>\n",
       "      <td>₹ 10,00,000\\n/yr</td>\n",
       "    </tr>\n",
       "    <tr>\n",
       "      <th>9</th>\n",
       "      <td>See 26 salaries from all locations</td>\n",
       "      <td>Data Scientist\\nEXL Service\\n7 salaries\\nSee 9...</td>\n",
       "      <td>₹ 11,90,000\\n/yr</td>\n",
       "    </tr>\n",
       "  </tbody>\n",
       "</table>\n",
       "</div>"
      ],
      "text/plain": [
       "                             companies  \\\n",
       "0                       Data Scientist   \n",
       "1  See 108 salaries from all locations   \n",
       "2                       Data Scientist   \n",
       "3   See 53 salaries from all locations   \n",
       "4                       Data Scientist   \n",
       "5   See 17 salaries from all locations   \n",
       "6                       Data Scientist   \n",
       "7  See 100 salaries from all locations   \n",
       "8                       Data Scientist   \n",
       "9   See 26 salaries from all locations   \n",
       "\n",
       "                                           no_of_sal          salaries  \n",
       "0  Data Scientist\\nTata Consultancy Services\\n14 ...   ₹ 6,01,000\\n/yr  \n",
       "1  Data Scientist\\nAccenture\\n14 salaries\\nSee 53...  ₹ 11,51,207\\n/yr  \n",
       "2  Data Scientist\\nDelhivery\\n14 salaries\\nSee 17...  ₹ 12,34,207\\n/yr  \n",
       "3  Data Scientist\\nIBM\\n13 salaries\\nSee 100 sala...   ₹ 7,63,825\\n/yr  \n",
       "4  Data Scientist\\nEricsson-Worldwide\\n12 salarie...   ₹ 7,32,209\\n/yr  \n",
       "5  Data Scientist\\nUnitedHealth Group\\n10 salarie...  ₹ 13,88,910\\n/yr  \n",
       "6  Data Scientist\\nValiance Solutions\\n9 salaries...   ₹ 8,18,515\\n/yr  \n",
       "7  Data Scientist\\nInnovaccer\\n8 salaries\\nSee 10...  ₹ 12,01,403\\n/yr  \n",
       "8  Data Scientist\\nZS Associates\\n7 salaries\\nSee...  ₹ 10,00,000\\n/yr  \n",
       "9  Data Scientist\\nEXL Service\\n7 salaries\\nSee 9...  ₹ 11,90,000\\n/yr  "
      ]
     },
     "execution_count": 11,
     "metadata": {},
     "output_type": "execute_result"
    }
   ],
   "source": [
    "job"
   ]
  },
  {
   "cell_type": "markdown",
   "metadata": {},
   "source": [
    "# 6. Scrape data of first 100 sunglasses listings on flipkart.com."
   ]
  },
  {
   "cell_type": "code",
   "execution_count": 134,
   "metadata": {},
   "outputs": [],
   "source": [
    "#lets import all required libraries\n",
    "import selenium\n",
    "import pandas as pd\n",
    "from selenium import webdriver"
   ]
  },
  {
   "cell_type": "code",
   "execution_count": 154,
   "metadata": {},
   "outputs": [],
   "source": [
    "#lets first connect to the web driver\n",
    "driver2=webdriver.Chrome(r\"C://chromedriver.exe\")"
   ]
  },
  {
   "cell_type": "code",
   "execution_count": 155,
   "metadata": {},
   "outputs": [],
   "source": [
    "driver2.get('https://www.flipkart.com/')"
   ]
  },
  {
   "cell_type": "code",
   "execution_count": 156,
   "metadata": {},
   "outputs": [],
   "source": [
    "#specifying the url of the webpage to be scraped\n",
    "url='https://www.flipkart.com/search?q=sunglasses&as=on&as-show=on&otracker=AS_Query_HistoryAutoSuggest_1_3_na_na_na&otracker1=AS_Query_HistoryAutoSuggest_1_3_na_na_na&as-pos=1&as-type=HISTORY&suggestionId=sunglasses&requestId=ae805ff7-baf0-4572-a2a4-3fcc5afa9810&as-searchtext=sun'\n",
    "url1='https://www.flipkart.com/search?q=sunglasses&as=on&as-show=on&otracker=AS_Query_HistoryAutoSuggest_1_3_na_na_na&otracker1=AS_Query_HistoryAutoSuggest_1_3_na_na_na&as-pos=1&as-type=HISTORY&suggestionId=sunglasses&requestId=ae805ff7-baf0-4572-a2a4-3fcc5afa9810&as-searchtext=sun'\n",
    "url2='https://www.flipkart.com/search?q=sunglasses&as=on&as-show=on&otracker=AS_Query_HistoryAutoSuggest_1_3_na_na_na&otracker1=AS_Query_HistoryAutoSuggest_1_3_na_na_na&as-pos=1&as-type=HISTORY&suggestionId=sunglasses&requestId=ae805ff7-baf0-4572-a2a4-3fcc5afa9810&as-searchtext=sun&page=3'"
   ]
  },
  {
   "cell_type": "code",
   "execution_count": 157,
   "metadata": {},
   "outputs": [],
   "source": [
    "#lets open the webpage through web driver\n",
    "driver2.get(url+url1+url2)"
   ]
  },
  {
   "cell_type": "code",
   "execution_count": 158,
   "metadata": {},
   "outputs": [],
   "source": [
    "brand=[]\n",
    "price=[]\n",
    "discount=[]"
   ]
  },
  {
   "cell_type": "code",
   "execution_count": 159,
   "metadata": {},
   "outputs": [
    {
     "data": {
      "text/plain": [
       "[<selenium.webdriver.remote.webelement.WebElement (session=\"dc44d6b9732eff7826248c9fc744cead\", element=\"474e0b4c-d8df-40f8-9e20-7dddad97e403\")>,\n",
       " <selenium.webdriver.remote.webelement.WebElement (session=\"dc44d6b9732eff7826248c9fc744cead\", element=\"30cd044d-b13e-45cf-98f6-57bd85c2c3e1\")>,\n",
       " <selenium.webdriver.remote.webelement.WebElement (session=\"dc44d6b9732eff7826248c9fc744cead\", element=\"e47c7c8b-fb61-42c9-8820-8700c3b55a25\")>,\n",
       " <selenium.webdriver.remote.webelement.WebElement (session=\"dc44d6b9732eff7826248c9fc744cead\", element=\"4180b7cf-7bbd-457b-ad01-947bcbcd4499\")>]"
      ]
     },
     "execution_count": 159,
     "metadata": {},
     "output_type": "execute_result"
    }
   ],
   "source": [
    "#lets extract all the tags\n",
    "brands=driver2.find_elements_by_xpath(\"//div[@class='_2WkVRV']\")\n",
    "brands[0:4]\n",
    "brands1=driver2.find_elements_by_xpath(\"//div[@class='_2WkVRV']\")\n",
    "brands1[0:4]\n",
    "brands2=driver2.find_elements_by_xpath(\"//div[@class='_2WkVRV']\")\n",
    "brands2[0:4]"
   ]
  },
  {
   "cell_type": "code",
   "execution_count": 160,
   "metadata": {},
   "outputs": [
    {
     "data": {
      "text/plain": [
       "['SRPM', 'ROYAL SON', 'Silver Kartz', 'PIRASO']"
      ]
     },
     "execution_count": 160,
     "metadata": {},
     "output_type": "execute_result"
    }
   ],
   "source": [
    "for i in brands:\n",
    "    brnd=i.text\n",
    "    brand.append(brnd)\n",
    "brand[0:4] \n",
    "\n",
    "for i in brands1:\n",
    "    brnd=i.text\n",
    "    brand.append(brnd)\n",
    "brand[0:4] \n",
    "\n",
    "for i in brands2:\n",
    "    brnd=i.text\n",
    "    brand.append(brnd)\n",
    "brand[0:4] "
   ]
  },
  {
   "cell_type": "code",
   "execution_count": 161,
   "metadata": {},
   "outputs": [
    {
     "data": {
      "text/plain": [
       "[<selenium.webdriver.remote.webelement.WebElement (session=\"dc44d6b9732eff7826248c9fc744cead\", element=\"ac272708-be18-4f23-9381-7f33acda46cd\")>,\n",
       " <selenium.webdriver.remote.webelement.WebElement (session=\"dc44d6b9732eff7826248c9fc744cead\", element=\"87dc4443-4921-4845-b5f2-bbf9835cb0f2\")>,\n",
       " <selenium.webdriver.remote.webelement.WebElement (session=\"dc44d6b9732eff7826248c9fc744cead\", element=\"284dfc23-3c34-4c7d-bd0e-3d785b06f694\")>,\n",
       " <selenium.webdriver.remote.webelement.WebElement (session=\"dc44d6b9732eff7826248c9fc744cead\", element=\"09084e86-e341-4259-83b3-16d9bf498b3e\")>]"
      ]
     },
     "execution_count": 161,
     "metadata": {},
     "output_type": "execute_result"
    }
   ],
   "source": [
    "discounts=driver2.find_elements_by_xpath(\"//div[@class='_3Ay6Sb']\")\n",
    "discounts[0:4]\n",
    "discounts1=driver2.find_elements_by_xpath(\"//div[@class='_3Ay6Sb']\")\n",
    "discounts1[0:4]\n",
    "discounts2=driver2.find_elements_by_xpath(\"//div[@class='_3Ay6Sb']\")\n",
    "discounts2[0:4]"
   ]
  },
  {
   "cell_type": "code",
   "execution_count": 162,
   "metadata": {},
   "outputs": [
    {
     "data": {
      "text/plain": [
       "['62% off', '78% off', '78% off', '85% off']"
      ]
     },
     "execution_count": 162,
     "metadata": {},
     "output_type": "execute_result"
    }
   ],
   "source": [
    "for i in discounts:\n",
    "    disc=i.text\n",
    "    discount.append(disc)\n",
    "discount[0:4]\n",
    "\n",
    "for i in discounts1:\n",
    "    disc=i.text\n",
    "    discount.append(disc)\n",
    "discount[0:4]\n",
    "\n",
    "for i in discounts2:\n",
    "    disc=i.text\n",
    "    discount.append(disc)\n",
    "discount[0:4]"
   ]
  },
  {
   "cell_type": "code",
   "execution_count": 163,
   "metadata": {},
   "outputs": [
    {
     "data": {
      "text/plain": [
       "[<selenium.webdriver.remote.webelement.WebElement (session=\"dc44d6b9732eff7826248c9fc744cead\", element=\"98b5ccce-0caf-48b1-a7a6-6a871f13b320\")>,\n",
       " <selenium.webdriver.remote.webelement.WebElement (session=\"dc44d6b9732eff7826248c9fc744cead\", element=\"85f958da-5005-439b-ad01-f90a55b47217\")>,\n",
       " <selenium.webdriver.remote.webelement.WebElement (session=\"dc44d6b9732eff7826248c9fc744cead\", element=\"ab1dcc21-b58b-49cb-948e-3101d150bfe4\")>,\n",
       " <selenium.webdriver.remote.webelement.WebElement (session=\"dc44d6b9732eff7826248c9fc744cead\", element=\"3f77f0a2-b4d5-4c3a-9061-ac5ea6d082ce\")>]"
      ]
     },
     "execution_count": 163,
     "metadata": {},
     "output_type": "execute_result"
    }
   ],
   "source": [
    "prices=driver2.find_elements_by_xpath(\"//div[@class='_30jeq3']\")\n",
    "prices[0:4]\n",
    "prices1=driver2.find_elements_by_xpath(\"//div[@class='_30jeq3']\")\n",
    "prices1[0:4]\n",
    "prices2=driver2.find_elements_by_xpath(\"//div[@class='_30jeq3']\")\n",
    "prices2[0:4]"
   ]
  },
  {
   "cell_type": "code",
   "execution_count": 164,
   "metadata": {
    "scrolled": true
   },
   "outputs": [
    {
     "data": {
      "text/plain": [
       "['₹189', '₹217', '₹255', '₹225']"
      ]
     },
     "execution_count": 164,
     "metadata": {},
     "output_type": "execute_result"
    }
   ],
   "source": [
    "for i in prices:\n",
    "    cost=i.text\n",
    "    price.append(cost)\n",
    "price[0:4]\n",
    "\n",
    "for i in prices1:\n",
    "    cost=i.text\n",
    "    price.append(cost)\n",
    "price[0:4]\n",
    "\n",
    "for i in prices2:\n",
    "    cost=i.text\n",
    "    price.append(cost)\n",
    "price[0:4]"
   ]
  },
  {
   "cell_type": "code",
   "execution_count": 165,
   "metadata": {},
   "outputs": [],
   "source": [
    "flip=pd.DataFrame({})\n",
    "flip['brnd']=brand[0:100]\n",
    "flip['disc']=discount[0:100]\n",
    "flip['cost']=price[0:100]"
   ]
  },
  {
   "cell_type": "code",
   "execution_count": 166,
   "metadata": {},
   "outputs": [
    {
     "data": {
      "text/html": [
       "<div>\n",
       "<style scoped>\n",
       "    .dataframe tbody tr th:only-of-type {\n",
       "        vertical-align: middle;\n",
       "    }\n",
       "\n",
       "    .dataframe tbody tr th {\n",
       "        vertical-align: top;\n",
       "    }\n",
       "\n",
       "    .dataframe thead th {\n",
       "        text-align: right;\n",
       "    }\n",
       "</style>\n",
       "<table border=\"1\" class=\"dataframe\">\n",
       "  <thead>\n",
       "    <tr style=\"text-align: right;\">\n",
       "      <th></th>\n",
       "      <th>brnd</th>\n",
       "      <th>disc</th>\n",
       "      <th>cost</th>\n",
       "    </tr>\n",
       "  </thead>\n",
       "  <tbody>\n",
       "    <tr>\n",
       "      <th>0</th>\n",
       "      <td>SRPM</td>\n",
       "      <td>62% off</td>\n",
       "      <td>₹189</td>\n",
       "    </tr>\n",
       "    <tr>\n",
       "      <th>1</th>\n",
       "      <td>ROYAL SON</td>\n",
       "      <td>78% off</td>\n",
       "      <td>₹217</td>\n",
       "    </tr>\n",
       "    <tr>\n",
       "      <th>2</th>\n",
       "      <td>Silver Kartz</td>\n",
       "      <td>78% off</td>\n",
       "      <td>₹255</td>\n",
       "    </tr>\n",
       "    <tr>\n",
       "      <th>3</th>\n",
       "      <td>PIRASO</td>\n",
       "      <td>85% off</td>\n",
       "      <td>₹225</td>\n",
       "    </tr>\n",
       "    <tr>\n",
       "      <th>4</th>\n",
       "      <td>ROYAL SON</td>\n",
       "      <td>73% off</td>\n",
       "      <td>₹399</td>\n",
       "    </tr>\n",
       "    <tr>\n",
       "      <th>...</th>\n",
       "      <td>...</td>\n",
       "      <td>...</td>\n",
       "      <td>...</td>\n",
       "    </tr>\n",
       "    <tr>\n",
       "      <th>95</th>\n",
       "      <td>DEIXELS</td>\n",
       "      <td>82% off</td>\n",
       "      <td>₹211</td>\n",
       "    </tr>\n",
       "    <tr>\n",
       "      <th>96</th>\n",
       "      <td>GANSTA</td>\n",
       "      <td>85% off</td>\n",
       "      <td>₹289</td>\n",
       "    </tr>\n",
       "    <tr>\n",
       "      <th>97</th>\n",
       "      <td>ROZZETTA CRAFT</td>\n",
       "      <td>77% off</td>\n",
       "      <td>₹499</td>\n",
       "    </tr>\n",
       "    <tr>\n",
       "      <th>98</th>\n",
       "      <td>Fastrack</td>\n",
       "      <td>16% off</td>\n",
       "      <td>₹748</td>\n",
       "    </tr>\n",
       "    <tr>\n",
       "      <th>99</th>\n",
       "      <td>PIRASO</td>\n",
       "      <td>88% off</td>\n",
       "      <td>₹189</td>\n",
       "    </tr>\n",
       "  </tbody>\n",
       "</table>\n",
       "<p>100 rows × 3 columns</p>\n",
       "</div>"
      ],
      "text/plain": [
       "              brnd     disc  cost\n",
       "0             SRPM  62% off  ₹189\n",
       "1        ROYAL SON  78% off  ₹217\n",
       "2     Silver Kartz  78% off  ₹255\n",
       "3           PIRASO  85% off  ₹225\n",
       "4        ROYAL SON  73% off  ₹399\n",
       "..             ...      ...   ...\n",
       "95         DEIXELS  82% off  ₹211\n",
       "96          GANSTA  85% off  ₹289\n",
       "97  ROZZETTA CRAFT  77% off  ₹499\n",
       "98        Fastrack  16% off  ₹748\n",
       "99          PIRASO  88% off  ₹189\n",
       "\n",
       "[100 rows x 3 columns]"
      ]
     },
     "execution_count": 166,
     "metadata": {},
     "output_type": "execute_result"
    }
   ],
   "source": [
    "flip"
   ]
  },
  {
   "cell_type": "markdown",
   "metadata": {},
   "source": [
    "# 7. Scrape data from flipkart.com for iphone11 phone."
   ]
  },
  {
   "cell_type": "code",
   "execution_count": 52,
   "metadata": {},
   "outputs": [],
   "source": [
    "#lets import all required libraries\n",
    "import selenium\n",
    "import pandas as pd\n",
    "from selenium import webdriver"
   ]
  },
  {
   "cell_type": "code",
   "execution_count": 53,
   "metadata": {},
   "outputs": [],
   "source": [
    "#lets first connect to the web driver\n",
    "drivers1=webdriver.Chrome(r\"C://chromedriver.exe\")\n",
    "\n",
    "drivers1.get('https://www.flipkart.com/')\n",
    "\n",
    "url='https://www.flipkart.com/search?q=mobiles&as=on&as-show=on&otracker=AS_Query_HistoryAutoSuggest_1_2_na_na_na&otracker1=AS_Query_HistoryAutoSuggest_1_2_na_na_na&as-pos=1&as-type=HISTORY&suggestionId=mobiles&requestId=61ae9de9-ca42-4c0d-b997-ca83587242b9&as-searchtext=mo'\n",
    "url1='https://www.flipkart.com/search?q=mobiles&as=on&as-show=on&otracker=AS_Query_HistoryAutoSuggest_1_2_na_na_na&otracker1=AS_Query_HistoryAutoSuggest_1_2_na_na_na&as-pos=1&as-type=HISTORY&suggestionId=mobiles&requestId=61ae9de9-ca42-4c0d-b997-ca83587242b9&as-searchtext=mo&page=2'\n",
    "url2='https://www.flipkart.com/search?q=mobiles&as=on&as-show=on&otracker=AS_Query_HistoryAutoSuggest_1_2_na_na_na&otracker1=AS_Query_HistoryAutoSuggest_1_2_na_na_na&as-pos=1&as-type=HISTORY&suggestionId=mobiles&requestId=61ae9de9-ca42-4c0d-b997-ca83587242b9&as-searchtext=mo&page=3'\n",
    "url3='https://www.flipkart.com/search?q=mobiles&as=on&as-show=on&otracker=AS_Query_HistoryAutoSuggest_1_2_na_na_na&otracker1=AS_Query_HistoryAutoSuggest_1_2_na_na_na&as-pos=1&as-type=HISTORY&suggestionId=mobiles&requestId=61ae9de9-ca42-4c0d-b997-ca83587242b9&as-searchtext=mo&page=4'\n",
    "url4='https://www.flipkart.com/search?q=mobiles&as=on&as-show=on&otracker=AS_Query_HistoryAutoSuggest_1_2_na_na_na&otracker1=AS_Query_HistoryAutoSuggest_1_2_na_na_na&as-pos=1&as-type=HISTORY&suggestionId=mobiles&requestId=61ae9de9-ca42-4c0d-b997-ca83587242b9&as-searchtext=mo&page=5'\n",
    "\n",
    "\n",
    "#lets open the webpage through web driver\n",
    "drivers1.get(url+url1+url2+url3+url4)"
   ]
  },
  {
   "cell_type": "code",
   "execution_count": 54,
   "metadata": {},
   "outputs": [],
   "source": [
    "rating=[]\n",
    "price=[]\n",
    "mobile=[]"
   ]
  },
  {
   "cell_type": "code",
   "execution_count": 55,
   "metadata": {},
   "outputs": [
    {
     "data": {
      "text/plain": [
       "[<selenium.webdriver.remote.webelement.WebElement (session=\"43f42557ba18a4baf42e158e715da0e5\", element=\"7cfa260a-0076-48b2-bb6a-1ec9780d7b9a\")>,\n",
       " <selenium.webdriver.remote.webelement.WebElement (session=\"43f42557ba18a4baf42e158e715da0e5\", element=\"2e97b7a5-3b98-4856-9517-19fc7547bde7\")>,\n",
       " <selenium.webdriver.remote.webelement.WebElement (session=\"43f42557ba18a4baf42e158e715da0e5\", element=\"05331044-4737-43c1-b426-93d7a8b5d1f7\")>,\n",
       " <selenium.webdriver.remote.webelement.WebElement (session=\"43f42557ba18a4baf42e158e715da0e5\", element=\"befdbe63-4242-4ff2-9840-d2fcde4459ca\")>]"
      ]
     },
     "execution_count": 55,
     "metadata": {},
     "output_type": "execute_result"
    }
   ],
   "source": [
    "rat=drivers1.find_elements_by_xpath(\"//span[@class='_2_R_DZ']\")\n",
    "rat[0:4]\n",
    "rat1=drivers1.find_elements_by_xpath(\"//span[@class='_2_R_DZ']\")\n",
    "rat1[0:4]\n",
    "rat2=drivers1.find_elements_by_xpath(\"//span[@class='_2_R_DZ']\")\n",
    "rat2[0:4]\n",
    "rat3=drivers1.find_elements_by_xpath(\"//span[@class='_2_R_DZ']\")\n",
    "rat3[0:4]\n",
    "rat4=drivers1.find_elements_by_xpath(\"//span[@class='_2_R_DZ']\")\n",
    "rat4[0:4]"
   ]
  },
  {
   "cell_type": "code",
   "execution_count": 56,
   "metadata": {},
   "outputs": [
    {
     "data": {
      "text/plain": [
       "['8,919 Ratings & 674 Reviews',\n",
       " '69,997 Ratings & 6,946 Reviews',\n",
       " '2,25,480 Ratings & 22,236 Reviews',\n",
       " '2,53,842 Ratings & 18,686 Reviews']"
      ]
     },
     "execution_count": 56,
     "metadata": {},
     "output_type": "execute_result"
    }
   ],
   "source": [
    "for i in rat:\n",
    "    ratings=i.text\n",
    "    rating.append(ratings)\n",
    "rating[0:4] \n",
    "for i in rat1:\n",
    "    ratings=i.text\n",
    "    rating.append(ratings)\n",
    "rating[0:4] \n",
    "for i in rat2:\n",
    "    ratings=i.text\n",
    "    rating.append(ratings)\n",
    "rating[0:4] \n",
    "for i in rat3:\n",
    "    ratings=i.text\n",
    "    rating.append(ratings)\n",
    "rating[0:4] \n",
    "for i in rat4:\n",
    "    ratings=i.text\n",
    "    rating.append(ratings)\n",
    "rating[0:4] "
   ]
  },
  {
   "cell_type": "code",
   "execution_count": 57,
   "metadata": {},
   "outputs": [
    {
     "data": {
      "text/plain": [
       "[<selenium.webdriver.remote.webelement.WebElement (session=\"43f42557ba18a4baf42e158e715da0e5\", element=\"acfb433c-1d6a-4815-9768-24ed6f64b143\")>,\n",
       " <selenium.webdriver.remote.webelement.WebElement (session=\"43f42557ba18a4baf42e158e715da0e5\", element=\"b8969208-5e24-4fb8-823d-82e6c203bddc\")>,\n",
       " <selenium.webdriver.remote.webelement.WebElement (session=\"43f42557ba18a4baf42e158e715da0e5\", element=\"2cc0b5da-c8c5-460d-a32b-9463be488e83\")>,\n",
       " <selenium.webdriver.remote.webelement.WebElement (session=\"43f42557ba18a4baf42e158e715da0e5\", element=\"6796a2ef-1fe7-45c4-b54f-bb8184a541da\")>]"
      ]
     },
     "execution_count": 57,
     "metadata": {},
     "output_type": "execute_result"
    }
   ],
   "source": [
    "cost=drivers1.find_elements_by_xpath(\"//div[@class='_30jeq3 _1_WHN1']\")\n",
    "cost[0:4]\n",
    "cost1=drivers1.find_elements_by_xpath(\"//div[@class='_30jeq3 _1_WHN1']\")\n",
    "cost1[0:4]\n",
    "cost2=drivers1.find_elements_by_xpath(\"//div[@class='_30jeq3 _1_WHN1']\")\n",
    "cost2[0:4]\n",
    "cost3=drivers1.find_elements_by_xpath(\"//div[@class='_30jeq3 _1_WHN1']\")\n",
    "cost3[0:4]\n",
    "cost4=drivers1.find_elements_by_xpath(\"//div[@class='_30jeq3 _1_WHN1']\")\n",
    "cost4[0:4]"
   ]
  },
  {
   "cell_type": "code",
   "execution_count": 58,
   "metadata": {},
   "outputs": [
    {
     "data": {
      "text/plain": [
       "['₹10,499', '₹15,999', '₹13,999', '₹11,999']"
      ]
     },
     "execution_count": 58,
     "metadata": {},
     "output_type": "execute_result"
    }
   ],
   "source": [
    "for i in cost:\n",
    "    costs=i.text\n",
    "    price.append(costs)\n",
    "price[0:4]\n",
    "for i in cost1:\n",
    "    costs=i.text\n",
    "    price.append(costs)\n",
    "price[0:4]\n",
    "for i in cost2:\n",
    "    costs=i.text\n",
    "    price.append(costs)\n",
    "price[0:4]\n",
    "for i in cost3:\n",
    "    costs=i.text\n",
    "    price.append(costs)\n",
    "price[0:4]\n",
    "for i in cost4:\n",
    "    costs=i.text\n",
    "    price.append(costs)\n",
    "price[0:4]"
   ]
  },
  {
   "cell_type": "code",
   "execution_count": 59,
   "metadata": {},
   "outputs": [
    {
     "data": {
      "text/plain": [
       "[<selenium.webdriver.remote.webelement.WebElement (session=\"43f42557ba18a4baf42e158e715da0e5\", element=\"1c0d9429-8f3e-4165-8678-d5cbb016e53a\")>,\n",
       " <selenium.webdriver.remote.webelement.WebElement (session=\"43f42557ba18a4baf42e158e715da0e5\", element=\"3c127ef4-bc62-4f84-a7e5-7b4f285d3488\")>,\n",
       " <selenium.webdriver.remote.webelement.WebElement (session=\"43f42557ba18a4baf42e158e715da0e5\", element=\"beaf5321-1cdb-4b5b-a2de-02284187f5dc\")>,\n",
       " <selenium.webdriver.remote.webelement.WebElement (session=\"43f42557ba18a4baf42e158e715da0e5\", element=\"846bb804-c02b-44bd-8ae1-402edc3ba3d6\")>]"
      ]
     },
     "execution_count": 59,
     "metadata": {},
     "output_type": "execute_result"
    }
   ],
   "source": [
    "mob=drivers1.find_elements_by_xpath(\"//div[@class='_4rR01T']\")\n",
    "mob[0:4]\n",
    "mob1=drivers1.find_elements_by_xpath(\"//div[@class='_4rR01T']\")\n",
    "mob1[0:4]\n",
    "mob2=drivers1.find_elements_by_xpath(\"//div[@class='_4rR01T']\")\n",
    "mob2[0:4]\n",
    "mob3=drivers1.find_elements_by_xpath(\"//div[@class='_4rR01T']\")\n",
    "mob3[0:4]\n",
    "mob4=drivers1.find_elements_by_xpath(\"//div[@class='_4rR01T']\")\n",
    "mob4[0:4]"
   ]
  },
  {
   "cell_type": "code",
   "execution_count": 60,
   "metadata": {},
   "outputs": [
    {
     "data": {
      "text/plain": [
       "['REDMI 9 Power (Blazing Blue, 64 GB)',\n",
       " 'realme 7 (Mist Blue, 128 GB)',\n",
       " 'realme 7 (Mist Blue, 64 GB)',\n",
       " 'realme 7i (Fusion Blue, 64 GB)']"
      ]
     },
     "execution_count": 60,
     "metadata": {},
     "output_type": "execute_result"
    }
   ],
   "source": [
    "for i in mob:\n",
    "    ph=i.text\n",
    "    mobile.append(ph)\n",
    "mobile[0:4]\n",
    "for i in mob1:\n",
    "    ph=i.text\n",
    "    mobile.append(ph)\n",
    "mobile[0:4]\n",
    "for i in mob2:\n",
    "    ph=i.text\n",
    "    mobile.append(ph)\n",
    "mobile[0:4]\n",
    "for i in mob3:\n",
    "    ph=i.text\n",
    "    mobile.append(ph)\n",
    "mobile[0:4]\n",
    "for i in mob4:\n",
    "    ph=i.text\n",
    "    mobile.append(ph)\n",
    "mobile[0:4]"
   ]
  },
  {
   "cell_type": "code",
   "execution_count": 63,
   "metadata": {},
   "outputs": [],
   "source": [
    "phone=pd.DataFrame({})\n",
    "phone['mobiles']=mobile[0:100]\n",
    "phone['review&rating']=rating[0:100]\n",
    "phone['prices']=price[0:100]"
   ]
  },
  {
   "cell_type": "code",
   "execution_count": 64,
   "metadata": {},
   "outputs": [
    {
     "data": {
      "text/html": [
       "<div>\n",
       "<style scoped>\n",
       "    .dataframe tbody tr th:only-of-type {\n",
       "        vertical-align: middle;\n",
       "    }\n",
       "\n",
       "    .dataframe tbody tr th {\n",
       "        vertical-align: top;\n",
       "    }\n",
       "\n",
       "    .dataframe thead th {\n",
       "        text-align: right;\n",
       "    }\n",
       "</style>\n",
       "<table border=\"1\" class=\"dataframe\">\n",
       "  <thead>\n",
       "    <tr style=\"text-align: right;\">\n",
       "      <th></th>\n",
       "      <th>mobiles</th>\n",
       "      <th>review&amp;rating</th>\n",
       "      <th>prices</th>\n",
       "    </tr>\n",
       "  </thead>\n",
       "  <tbody>\n",
       "    <tr>\n",
       "      <th>0</th>\n",
       "      <td>REDMI 9 Power (Blazing Blue, 64 GB)</td>\n",
       "      <td>8,919 Ratings &amp; 674 Reviews</td>\n",
       "      <td>₹10,499</td>\n",
       "    </tr>\n",
       "    <tr>\n",
       "      <th>1</th>\n",
       "      <td>realme 7 (Mist Blue, 128 GB)</td>\n",
       "      <td>69,997 Ratings &amp; 6,946 Reviews</td>\n",
       "      <td>₹15,999</td>\n",
       "    </tr>\n",
       "    <tr>\n",
       "      <th>2</th>\n",
       "      <td>realme 7 (Mist Blue, 64 GB)</td>\n",
       "      <td>2,25,480 Ratings &amp; 22,236 Reviews</td>\n",
       "      <td>₹13,999</td>\n",
       "    </tr>\n",
       "    <tr>\n",
       "      <th>3</th>\n",
       "      <td>realme 7i (Fusion Blue, 64 GB)</td>\n",
       "      <td>2,53,842 Ratings &amp; 18,686 Reviews</td>\n",
       "      <td>₹11,999</td>\n",
       "    </tr>\n",
       "    <tr>\n",
       "      <th>4</th>\n",
       "      <td>POCO C3 (Lime Green, 32 GB)</td>\n",
       "      <td>2,01,294 Ratings &amp; 14,119 Reviews</td>\n",
       "      <td>₹7,499</td>\n",
       "    </tr>\n",
       "    <tr>\n",
       "      <th>...</th>\n",
       "      <td>...</td>\n",
       "      <td>...</td>\n",
       "      <td>...</td>\n",
       "    </tr>\n",
       "    <tr>\n",
       "      <th>95</th>\n",
       "      <td>Infinix Hot 10 (Moonlight Jade, 64 GB)</td>\n",
       "      <td>2,53,842 Ratings &amp; 18,686 Reviews</td>\n",
       "      <td>₹9,499</td>\n",
       "    </tr>\n",
       "    <tr>\n",
       "      <th>96</th>\n",
       "      <td>REDMI 9 Power (Blazing Blue, 64 GB)</td>\n",
       "      <td>2,01,294 Ratings &amp; 14,119 Reviews</td>\n",
       "      <td>₹10,499</td>\n",
       "    </tr>\n",
       "    <tr>\n",
       "      <th>97</th>\n",
       "      <td>realme 7 (Mist Blue, 128 GB)</td>\n",
       "      <td>17 Ratings &amp; 1 Reviews</td>\n",
       "      <td>₹15,999</td>\n",
       "    </tr>\n",
       "    <tr>\n",
       "      <th>98</th>\n",
       "      <td>realme 7 (Mist Blue, 64 GB)</td>\n",
       "      <td>2,53,842 Ratings &amp; 18,686 Reviews</td>\n",
       "      <td>₹13,999</td>\n",
       "    </tr>\n",
       "    <tr>\n",
       "      <th>99</th>\n",
       "      <td>realme 7i (Fusion Blue, 64 GB)</td>\n",
       "      <td>2,675 Ratings &amp; 293 Reviews</td>\n",
       "      <td>₹11,999</td>\n",
       "    </tr>\n",
       "  </tbody>\n",
       "</table>\n",
       "<p>100 rows × 3 columns</p>\n",
       "</div>"
      ],
      "text/plain": [
       "                                   mobiles                      review&rating  \\\n",
       "0      REDMI 9 Power (Blazing Blue, 64 GB)        8,919 Ratings & 674 Reviews   \n",
       "1             realme 7 (Mist Blue, 128 GB)     69,997 Ratings & 6,946 Reviews   \n",
       "2              realme 7 (Mist Blue, 64 GB)  2,25,480 Ratings & 22,236 Reviews   \n",
       "3           realme 7i (Fusion Blue, 64 GB)  2,53,842 Ratings & 18,686 Reviews   \n",
       "4              POCO C3 (Lime Green, 32 GB)  2,01,294 Ratings & 14,119 Reviews   \n",
       "..                                     ...                                ...   \n",
       "95  Infinix Hot 10 (Moonlight Jade, 64 GB)  2,53,842 Ratings & 18,686 Reviews   \n",
       "96     REDMI 9 Power (Blazing Blue, 64 GB)  2,01,294 Ratings & 14,119 Reviews   \n",
       "97            realme 7 (Mist Blue, 128 GB)             17 Ratings & 1 Reviews   \n",
       "98             realme 7 (Mist Blue, 64 GB)  2,53,842 Ratings & 18,686 Reviews   \n",
       "99          realme 7i (Fusion Blue, 64 GB)        2,675 Ratings & 293 Reviews   \n",
       "\n",
       "     prices  \n",
       "0   ₹10,499  \n",
       "1   ₹15,999  \n",
       "2   ₹13,999  \n",
       "3   ₹11,999  \n",
       "4    ₹7,499  \n",
       "..      ...  \n",
       "95   ₹9,499  \n",
       "96  ₹10,499  \n",
       "97  ₹15,999  \n",
       "98  ₹13,999  \n",
       "99  ₹11,999  \n",
       "\n",
       "[100 rows x 3 columns]"
      ]
     },
     "execution_count": 64,
     "metadata": {},
     "output_type": "execute_result"
    }
   ],
   "source": [
    "phone"
   ]
  },
  {
   "cell_type": "markdown",
   "metadata": {},
   "source": [
    "# 8. Scrape data for first 100 sneakers from flipkart.com"
   ]
  },
  {
   "cell_type": "code",
   "execution_count": 42,
   "metadata": {},
   "outputs": [],
   "source": [
    "#lets first connect to the web driver\n",
    "drivers3=webdriver.Chrome(r\"C://chromedriver.exe\")\n",
    "\n",
    "drivers3.get('https://www.flipkart.com/')\n",
    "\n",
    "url='https://www.flipkart.com/search?q=sneakers&sid=osp%2Ccil%2Ce1f&as=on&as-show=on&otracker=AS_QueryStore_OrganicAutoSuggest_1_3_na_na_na&otracker1=AS_QueryStore_OrganicAutoSuggest_1_3_na_na_na&as-pos=1&as-type=RECENT&suggestionId=sneakers%7CMen%27s+Casual+Shoes&requestId=cb04d5f6-9a57-4089-8084-e75dc54a4cdc&as-searchtext=sne'\n",
    "url1='https://www.flipkart.com/search?q=sneakers&sid=osp%2Ccil%2Ce1f&as=on&as-show=on&otracker=AS_QueryStore_OrganicAutoSuggest_1_3_na_na_na&otracker1=AS_QueryStore_OrganicAutoSuggest_1_3_na_na_na&as-pos=1&as-type=RECENT&suggestionId=sneakers%7CMen%27s+Casual+Shoes&requestId=cb04d5f6-9a57-4089-8084-e75dc54a4cdc&as-searchtext=sne&page=2'\n",
    "#lets open the webpage through web driver\n",
    "drivers3.get(url+url1)"
   ]
  },
  {
   "cell_type": "code",
   "execution_count": 43,
   "metadata": {},
   "outputs": [],
   "source": [
    "brand=[]\n",
    "description=[]\n",
    "price=[]\n",
    "discount=[]"
   ]
  },
  {
   "cell_type": "code",
   "execution_count": 54,
   "metadata": {},
   "outputs": [
    {
     "data": {
      "text/plain": [
       "[<selenium.webdriver.remote.webelement.WebElement (session=\"79cce0d6257ef8abf5d169c0a35a806d\", element=\"7ef5d6ca-e7ba-486b-b02b-435ed41e338f\")>,\n",
       " <selenium.webdriver.remote.webelement.WebElement (session=\"79cce0d6257ef8abf5d169c0a35a806d\", element=\"179eef35-eb65-4e66-8928-d3f80a10d846\")>,\n",
       " <selenium.webdriver.remote.webelement.WebElement (session=\"79cce0d6257ef8abf5d169c0a35a806d\", element=\"f76f651e-e833-44e3-918b-851e59246c5d\")>,\n",
       " <selenium.webdriver.remote.webelement.WebElement (session=\"79cce0d6257ef8abf5d169c0a35a806d\", element=\"b38850a3-a1cf-40f9-8032-362789f357ac\")>]"
      ]
     },
     "execution_count": 54,
     "metadata": {},
     "output_type": "execute_result"
    }
   ],
   "source": [
    "brnd=drivers3.find_elements_by_xpath(\"//div[@class='_2WkVRV']\")\n",
    "brnd[0:4]\n",
    "brnd1=drivers3.find_elements_by_xpath(\"//div[@class='_2WkVRV']\")\n",
    "brnd1[0:4]"
   ]
  },
  {
   "cell_type": "code",
   "execution_count": 57,
   "metadata": {},
   "outputs": [
    {
     "data": {
      "text/plain": [
       "['Robbie jones', 'Axter', 'Absolute comfort', 'pollachief']"
      ]
     },
     "execution_count": 57,
     "metadata": {},
     "output_type": "execute_result"
    }
   ],
   "source": [
    "for i in brnd:\n",
    "    brands=i.text\n",
    "    brand.append(brands)\n",
    "brand[0:4] \n",
    "\n",
    "for i in brnd1:\n",
    "    brands=i.text\n",
    "    brand.append(brands)\n",
    "brand[0:4] "
   ]
  },
  {
   "cell_type": "code",
   "execution_count": 60,
   "metadata": {},
   "outputs": [
    {
     "data": {
      "text/plain": [
       "[<selenium.webdriver.remote.webelement.WebElement (session=\"79cce0d6257ef8abf5d169c0a35a806d\", element=\"7de1585b-2ca5-40a8-8c64-3eafde1f93a9\")>,\n",
       " <selenium.webdriver.remote.webelement.WebElement (session=\"79cce0d6257ef8abf5d169c0a35a806d\", element=\"0a1c6236-0c09-403d-b98f-f460ddfdeb35\")>,\n",
       " <selenium.webdriver.remote.webelement.WebElement (session=\"79cce0d6257ef8abf5d169c0a35a806d\", element=\"5ee1bba1-4ca8-49b0-891f-a69e63f35f4f\")>,\n",
       " <selenium.webdriver.remote.webelement.WebElement (session=\"79cce0d6257ef8abf5d169c0a35a806d\", element=\"9a0ba96d-2fe3-4b34-8708-0f9f21eac412\")>]"
      ]
     },
     "execution_count": 60,
     "metadata": {},
     "output_type": "execute_result"
    }
   ],
   "source": [
    "desc=drivers3.find_elements_by_xpath(\"//div[@class='_2B099V']\")\n",
    "desc[0:4]\n",
    "desc1=drivers3.find_elements_by_xpath(\"//div[@class='_2B099V']\")\n",
    "desc1[0:4]"
   ]
  },
  {
   "cell_type": "code",
   "execution_count": 61,
   "metadata": {},
   "outputs": [
    {
     "data": {
      "text/plain": [
       "['Robbie jones\\nCasual Sneakers Shoes For Men Sneakers For Men\\n₹499₹99950% off',\n",
       " 'Axter\\nCombo Pack of 2 Latest Collection Stylish Casual Loafer...\\n₹284₹99871% off',\n",
       " 'Absolute comfort\\nEVAW2 Sneakers For Men\\n₹199₹49960% off',\n",
       " 'pollachief\\nCasual Sneaker Sneakers For Men\\n₹448₹99955% off']"
      ]
     },
     "execution_count": 61,
     "metadata": {},
     "output_type": "execute_result"
    }
   ],
   "source": [
    "for i in desc:\n",
    "    descriptions=i.text\n",
    "    description.append(descriptions)\n",
    "description[0:4] \n",
    "\n",
    "for i in desc1:\n",
    "    descriptions=i.text\n",
    "    description.append(descriptions)\n",
    "description[0:4] "
   ]
  },
  {
   "cell_type": "code",
   "execution_count": 62,
   "metadata": {},
   "outputs": [
    {
     "data": {
      "text/plain": [
       "[<selenium.webdriver.remote.webelement.WebElement (session=\"79cce0d6257ef8abf5d169c0a35a806d\", element=\"13f9f27a-9485-416e-ac33-eb548b1f0684\")>,\n",
       " <selenium.webdriver.remote.webelement.WebElement (session=\"79cce0d6257ef8abf5d169c0a35a806d\", element=\"ddf8f6eb-220c-47cf-8c7b-3a528c3343e2\")>,\n",
       " <selenium.webdriver.remote.webelement.WebElement (session=\"79cce0d6257ef8abf5d169c0a35a806d\", element=\"01ddf3b4-90fd-4a99-be3e-de9f40cf9dfb\")>,\n",
       " <selenium.webdriver.remote.webelement.WebElement (session=\"79cce0d6257ef8abf5d169c0a35a806d\", element=\"545a967c-1d12-4cb8-bec1-9752548aaf9f\")>]"
      ]
     },
     "execution_count": 62,
     "metadata": {},
     "output_type": "execute_result"
    }
   ],
   "source": [
    "cost=drivers3.find_elements_by_xpath(\"//div[@class='_30jeq3']\")\n",
    "cost[0:4]\n",
    "cost1=drivers3.find_elements_by_xpath(\"//div[@class='_30jeq3']\")\n",
    "cost1[0:4]"
   ]
  },
  {
   "cell_type": "code",
   "execution_count": 63,
   "metadata": {},
   "outputs": [
    {
     "data": {
      "text/plain": [
       "['₹499', '₹284', '₹199', '₹448']"
      ]
     },
     "execution_count": 63,
     "metadata": {},
     "output_type": "execute_result"
    }
   ],
   "source": [
    "for i in cost:\n",
    "    pric=i.text\n",
    "    price.append(pric)\n",
    "price[0:4] \n",
    "\n",
    "for i in cost1:\n",
    "    pric=i.text\n",
    "    price.append(pric)\n",
    "price[0:4] "
   ]
  },
  {
   "cell_type": "code",
   "execution_count": 64,
   "metadata": {},
   "outputs": [
    {
     "data": {
      "text/plain": [
       "[<selenium.webdriver.remote.webelement.WebElement (session=\"79cce0d6257ef8abf5d169c0a35a806d\", element=\"62e23cf9-f419-4259-8db0-ff5868eed8c3\")>,\n",
       " <selenium.webdriver.remote.webelement.WebElement (session=\"79cce0d6257ef8abf5d169c0a35a806d\", element=\"fb738c16-e531-454a-b6bb-8ec8c98a4447\")>,\n",
       " <selenium.webdriver.remote.webelement.WebElement (session=\"79cce0d6257ef8abf5d169c0a35a806d\", element=\"23062a78-cd29-42d6-9d11-d1b33d40c330\")>,\n",
       " <selenium.webdriver.remote.webelement.WebElement (session=\"79cce0d6257ef8abf5d169c0a35a806d\", element=\"9125024d-2d46-4d4a-9156-502d5c834b00\")>]"
      ]
     },
     "execution_count": 64,
     "metadata": {},
     "output_type": "execute_result"
    }
   ],
   "source": [
    "disc=drivers3.find_elements_by_xpath(\"//div[@class='_3Ay6Sb']\")\n",
    "disc[0:4]\n",
    "disc1=drivers3.find_elements_by_xpath(\"//div[@class='_3Ay6Sb']\")\n",
    "disc1[0:4]"
   ]
  },
  {
   "cell_type": "code",
   "execution_count": 65,
   "metadata": {},
   "outputs": [
    {
     "data": {
      "text/plain": [
       "['50% off', '71% off', '60% off', '55% off']"
      ]
     },
     "execution_count": 65,
     "metadata": {},
     "output_type": "execute_result"
    }
   ],
   "source": [
    "for i in disc:\n",
    "    dis=i.text\n",
    "    discount.append(dis)\n",
    "discount[0:4] \n",
    "\n",
    "for i in disc1:\n",
    "    dis=i.text\n",
    "    discount.append(dis)\n",
    "discount[0:4] "
   ]
  },
  {
   "cell_type": "code",
   "execution_count": 66,
   "metadata": {},
   "outputs": [],
   "source": [
    "shoes=pd.DataFrame({})\n",
    "shoes['brands']=brand[0:100]\n",
    "shoes['descriptions']=description[0:100]\n",
    "shoes['cost']=price[0:100]\n",
    "shoes['discounts']=discount[0:100]"
   ]
  },
  {
   "cell_type": "code",
   "execution_count": 67,
   "metadata": {},
   "outputs": [
    {
     "data": {
      "text/html": [
       "<div>\n",
       "<style scoped>\n",
       "    .dataframe tbody tr th:only-of-type {\n",
       "        vertical-align: middle;\n",
       "    }\n",
       "\n",
       "    .dataframe tbody tr th {\n",
       "        vertical-align: top;\n",
       "    }\n",
       "\n",
       "    .dataframe thead th {\n",
       "        text-align: right;\n",
       "    }\n",
       "</style>\n",
       "<table border=\"1\" class=\"dataframe\">\n",
       "  <thead>\n",
       "    <tr style=\"text-align: right;\">\n",
       "      <th></th>\n",
       "      <th>brands</th>\n",
       "      <th>descriptions</th>\n",
       "      <th>cost</th>\n",
       "      <th>discounts</th>\n",
       "    </tr>\n",
       "  </thead>\n",
       "  <tbody>\n",
       "    <tr>\n",
       "      <th>0</th>\n",
       "      <td>Robbie jones</td>\n",
       "      <td>Robbie jones\\nCasual Sneakers Shoes For Men Sn...</td>\n",
       "      <td>₹499</td>\n",
       "      <td>50% off</td>\n",
       "    </tr>\n",
       "    <tr>\n",
       "      <th>1</th>\n",
       "      <td>Axter</td>\n",
       "      <td>Axter\\nCombo Pack of 2 Latest Collection Styli...</td>\n",
       "      <td>₹284</td>\n",
       "      <td>71% off</td>\n",
       "    </tr>\n",
       "    <tr>\n",
       "      <th>2</th>\n",
       "      <td>Absolute comfort</td>\n",
       "      <td>Absolute comfort\\nEVAW2 Sneakers For Men\\n₹199...</td>\n",
       "      <td>₹199</td>\n",
       "      <td>60% off</td>\n",
       "    </tr>\n",
       "    <tr>\n",
       "      <th>3</th>\n",
       "      <td>pollachief</td>\n",
       "      <td>pollachief\\nCasual Sneaker Sneakers For Men\\n₹...</td>\n",
       "      <td>₹448</td>\n",
       "      <td>55% off</td>\n",
       "    </tr>\n",
       "    <tr>\n",
       "      <th>4</th>\n",
       "      <td>Chevit</td>\n",
       "      <td>Chevit\\nSmart Casuals Canvas Shoes Combo pack ...</td>\n",
       "      <td>₹339</td>\n",
       "      <td>66% off</td>\n",
       "    </tr>\n",
       "    <tr>\n",
       "      <th>...</th>\n",
       "      <td>...</td>\n",
       "      <td>...</td>\n",
       "      <td>...</td>\n",
       "      <td>...</td>\n",
       "    </tr>\n",
       "    <tr>\n",
       "      <th>95</th>\n",
       "      <td>Englewood</td>\n",
       "      <td>Englewood\\nWhite Shoes For Men | Casual White ...</td>\n",
       "      <td>₹496</td>\n",
       "      <td>66% off</td>\n",
       "    </tr>\n",
       "    <tr>\n",
       "      <th>96</th>\n",
       "      <td>restinfoot</td>\n",
       "      <td>restinfoot\\nCasual shoes,Sneakers for men's,sh...</td>\n",
       "      <td>₹399</td>\n",
       "      <td>60% off</td>\n",
       "    </tr>\n",
       "    <tr>\n",
       "      <th>97</th>\n",
       "      <td>VORII</td>\n",
       "      <td>VORII\\nLatest Stylish Casual sneakers for men ...</td>\n",
       "      <td>₹380</td>\n",
       "      <td>61% off</td>\n",
       "    </tr>\n",
       "    <tr>\n",
       "      <th>98</th>\n",
       "      <td>Jabra</td>\n",
       "      <td>Jabra\\nSneakers For Men\\n₹489₹99951% off</td>\n",
       "      <td>₹489</td>\n",
       "      <td>51% off</td>\n",
       "    </tr>\n",
       "    <tr>\n",
       "      <th>99</th>\n",
       "      <td>Bonexy</td>\n",
       "      <td>Bonexy\\nSneakers For Men\\n₹426₹99957% off</td>\n",
       "      <td>₹426</td>\n",
       "      <td>57% off</td>\n",
       "    </tr>\n",
       "  </tbody>\n",
       "</table>\n",
       "<p>100 rows × 4 columns</p>\n",
       "</div>"
      ],
      "text/plain": [
       "              brands                                       descriptions  cost  \\\n",
       "0       Robbie jones  Robbie jones\\nCasual Sneakers Shoes For Men Sn...  ₹499   \n",
       "1              Axter  Axter\\nCombo Pack of 2 Latest Collection Styli...  ₹284   \n",
       "2   Absolute comfort  Absolute comfort\\nEVAW2 Sneakers For Men\\n₹199...  ₹199   \n",
       "3         pollachief  pollachief\\nCasual Sneaker Sneakers For Men\\n₹...  ₹448   \n",
       "4             Chevit  Chevit\\nSmart Casuals Canvas Shoes Combo pack ...  ₹339   \n",
       "..               ...                                                ...   ...   \n",
       "95         Englewood  Englewood\\nWhite Shoes For Men | Casual White ...  ₹496   \n",
       "96        restinfoot  restinfoot\\nCasual shoes,Sneakers for men's,sh...  ₹399   \n",
       "97             VORII  VORII\\nLatest Stylish Casual sneakers for men ...  ₹380   \n",
       "98             Jabra           Jabra\\nSneakers For Men\\n₹489₹99951% off  ₹489   \n",
       "99            Bonexy          Bonexy\\nSneakers For Men\\n₹426₹99957% off  ₹426   \n",
       "\n",
       "   discounts  \n",
       "0    50% off  \n",
       "1    71% off  \n",
       "2    60% off  \n",
       "3    55% off  \n",
       "4    66% off  \n",
       "..       ...  \n",
       "95   66% off  \n",
       "96   60% off  \n",
       "97   61% off  \n",
       "98   51% off  \n",
       "99   57% off  \n",
       "\n",
       "[100 rows x 4 columns]"
      ]
     },
     "execution_count": 67,
     "metadata": {},
     "output_type": "execute_result"
    }
   ],
   "source": [
    "shoes"
   ]
  },
  {
   "cell_type": "markdown",
   "metadata": {},
   "source": [
    "# 9. Scrape First 100 shoes data from myntra.com"
   ]
  },
  {
   "cell_type": "code",
   "execution_count": 74,
   "metadata": {},
   "outputs": [],
   "source": [
    "#lets first connect to the web driver\n",
    "drivers2=webdriver.Chrome(r\"C://chromedriver.exe\")\n",
    "\n",
    "drivers2.get('https://www.myntra.com/')\n",
    "\n",
    "url='https://www.myntra.com/shoes?src=404'\n",
    "\n",
    "#lets open the webpage through web driver\n",
    "drivers2.get(url)"
   ]
  },
  {
   "cell_type": "markdown",
   "metadata": {},
   "source": [
    "# 10. Scrape 10 laptops data from amazon.in"
   ]
  },
  {
   "cell_type": "code",
   "execution_count": 78,
   "metadata": {},
   "outputs": [],
   "source": [
    "#lets first connect to the web driver\n",
    "drivers5=webdriver.Chrome(r\"C://chromedriver.exe\")\n",
    "\n",
    "drivers5.get('https://www.amazon.in/')\n",
    "\n",
    "url='https://www.amazon.in/s?k=laptop&rh=n%3A1375424031%2Cp_n_feature_thirteen_browse-bin%3A12598163031&dc&qid=1617605575&rnid=12598141031&ref=sr_nr_p_n_feature_thirteen_browse-bin_9'\n",
    "\n",
    "#lets open the webpage through web driver\n",
    "drivers5.get(url)"
   ]
  },
  {
   "cell_type": "code",
   "execution_count": 80,
   "metadata": {},
   "outputs": [
    {
     "data": {
      "text/plain": [
       "[<selenium.webdriver.remote.webelement.WebElement (session=\"e7d5bc88cac03bded88121e2519a4bef\", element=\"8792c35c-b5be-4cfc-8f09-e68ad23d700b\")>,\n",
       " <selenium.webdriver.remote.webelement.WebElement (session=\"e7d5bc88cac03bded88121e2519a4bef\", element=\"fa11d281-50d3-4dfe-aa19-1d3ebbe74caf\")>,\n",
       " <selenium.webdriver.remote.webelement.WebElement (session=\"e7d5bc88cac03bded88121e2519a4bef\", element=\"e3fde520-e2e8-4515-b821-8b6c3375774b\")>,\n",
       " <selenium.webdriver.remote.webelement.WebElement (session=\"e7d5bc88cac03bded88121e2519a4bef\", element=\"d653b8b0-2df2-4268-a9c2-d081f6dd692e\")>]"
      ]
     },
     "execution_count": 80,
     "metadata": {},
     "output_type": "execute_result"
    }
   ],
   "source": [
    "brnd=drivers5.find_elements_by_xpath(\"//span[@class='a-size-medium a-color-base a-text-normal']\")\n",
    "brnd[0:4]"
   ]
  },
  {
   "cell_type": "code",
   "execution_count": 81,
   "metadata": {},
   "outputs": [
    {
     "data": {
      "text/plain": [
       "['(Renewed) HP ZBook 15 G3 Mobile Workstation - 15.6\" - Core i7 (6700HQ) - 64 GB RAM - 4TB SSD : BLUETOOTH : 2GB DEDICATED GRAPHIC : NUMERIC KEYBOARD',\n",
       " 'HP 14 Thin & Light 14-inch FHD Laptop (11th Gen Intel i7-1165G7/8GB/512GB SSD/Windows 10/MS Office 2019/Alexa Built-in/Pale Gold/1.47 kg), 14s-dr2007TU',\n",
       " 'Mi Notebook Horizon Edition 14 Intel Core i5-10210U 10th Gen Thin and Light Laptop(8GB/512GB SSD/Windows 10/Nvidia MX350 2GB Graphics/Grey/1.35Kg), XMA1904-AR+Webcam',\n",
       " 'Dell Alienware m15(R3) 15.6-inch FHD Gaming Laptop (10th Gen Core i7-10750H/16GB/512GB SSD/Windows 10 Home & MS Office/6GB NVIDIA GTX 1660 Ti Graphics), Lunar Light']"
      ]
     },
     "execution_count": 81,
     "metadata": {},
     "output_type": "execute_result"
    }
   ],
   "source": [
    "for i in brnd:\n",
    "    titles=i.text\n",
    "    title.append(titles)\n",
    "title[0:4] "
   ]
  },
  {
   "cell_type": "code",
   "execution_count": 82,
   "metadata": {},
   "outputs": [
    {
     "data": {
      "text/plain": [
       "[<selenium.webdriver.remote.webelement.WebElement (session=\"e7d5bc88cac03bded88121e2519a4bef\", element=\"08f27f1b-ff24-4218-97e9-1328523f932e\")>,\n",
       " <selenium.webdriver.remote.webelement.WebElement (session=\"e7d5bc88cac03bded88121e2519a4bef\", element=\"f606449a-1b70-4a24-afc6-b77037fa1f8a\")>,\n",
       " <selenium.webdriver.remote.webelement.WebElement (session=\"e7d5bc88cac03bded88121e2519a4bef\", element=\"6d5e06c9-4f8e-4047-b0e8-7843f994ad6f\")>,\n",
       " <selenium.webdriver.remote.webelement.WebElement (session=\"e7d5bc88cac03bded88121e2519a4bef\", element=\"ef384cac-fa9c-4b1d-8cc3-d033741c6f05\")>]"
      ]
     },
     "execution_count": 82,
     "metadata": {},
     "output_type": "execute_result"
    }
   ],
   "source": [
    "rati=drivers5.find_elements_by_xpath(\"//span[@class='a-size-base']\")\n",
    "rati[0:4]"
   ]
  },
  {
   "cell_type": "code",
   "execution_count": 83,
   "metadata": {},
   "outputs": [
    {
     "data": {
      "text/plain": [
       "['3', '602', '15', '55']"
      ]
     },
     "execution_count": 83,
     "metadata": {},
     "output_type": "execute_result"
    }
   ],
   "source": [
    "for i in rati:\n",
    "    ratings=i.text\n",
    "    rating.append(ratings)\n",
    "rating[0:4] "
   ]
  },
  {
   "cell_type": "code",
   "execution_count": 84,
   "metadata": {},
   "outputs": [
    {
     "data": {
      "text/plain": [
       "[<selenium.webdriver.remote.webelement.WebElement (session=\"e7d5bc88cac03bded88121e2519a4bef\", element=\"406170c3-3bbf-4bab-baf3-b3125dae721e\")>,\n",
       " <selenium.webdriver.remote.webelement.WebElement (session=\"e7d5bc88cac03bded88121e2519a4bef\", element=\"6d17ee57-3034-413a-beb1-3db80da0810f\")>,\n",
       " <selenium.webdriver.remote.webelement.WebElement (session=\"e7d5bc88cac03bded88121e2519a4bef\", element=\"0dbae82e-d8cd-49ed-9e5f-3f84c78e6a14\")>,\n",
       " <selenium.webdriver.remote.webelement.WebElement (session=\"e7d5bc88cac03bded88121e2519a4bef\", element=\"bae83c25-5a85-473d-8b81-6a130c0bddd1\")>]"
      ]
     },
     "execution_count": 84,
     "metadata": {},
     "output_type": "execute_result"
    }
   ],
   "source": [
    "cost=drivers5.find_elements_by_xpath(\"//span[@class='a-price-whole']\")\n",
    "cost[0:4]"
   ]
  },
  {
   "cell_type": "code",
   "execution_count": 85,
   "metadata": {},
   "outputs": [
    {
     "data": {
      "text/plain": [
       "['1,39,490', '76,500', '54,999', '1,98,590']"
      ]
     },
     "execution_count": 85,
     "metadata": {},
     "output_type": "execute_result"
    }
   ],
   "source": [
    "for i in cost:\n",
    "    prices=i.text\n",
    "    price.append(prices)\n",
    "price[0:4] "
   ]
  },
  {
   "cell_type": "code",
   "execution_count": 86,
   "metadata": {},
   "outputs": [],
   "source": [
    "laptop=pd.DataFrame({})\n",
    "laptop['titles']=title[0:10]\n",
    "laptop['ratings']=rating[0:10]\n",
    "laptop['prices']=price[0:10]"
   ]
  },
  {
   "cell_type": "code",
   "execution_count": 87,
   "metadata": {},
   "outputs": [
    {
     "data": {
      "text/html": [
       "<div>\n",
       "<style scoped>\n",
       "    .dataframe tbody tr th:only-of-type {\n",
       "        vertical-align: middle;\n",
       "    }\n",
       "\n",
       "    .dataframe tbody tr th {\n",
       "        vertical-align: top;\n",
       "    }\n",
       "\n",
       "    .dataframe thead th {\n",
       "        text-align: right;\n",
       "    }\n",
       "</style>\n",
       "<table border=\"1\" class=\"dataframe\">\n",
       "  <thead>\n",
       "    <tr style=\"text-align: right;\">\n",
       "      <th></th>\n",
       "      <th>titles</th>\n",
       "      <th>ratings</th>\n",
       "      <th>prices</th>\n",
       "    </tr>\n",
       "  </thead>\n",
       "  <tbody>\n",
       "    <tr>\n",
       "      <th>0</th>\n",
       "      <td>(Renewed) HP ZBook 15 G3 Mobile Workstation - ...</td>\n",
       "      <td>3</td>\n",
       "      <td>1,39,490</td>\n",
       "    </tr>\n",
       "    <tr>\n",
       "      <th>1</th>\n",
       "      <td>HP 14 Thin &amp; Light 14-inch FHD Laptop (11th Ge...</td>\n",
       "      <td>602</td>\n",
       "      <td>76,500</td>\n",
       "    </tr>\n",
       "    <tr>\n",
       "      <th>2</th>\n",
       "      <td>Mi Notebook Horizon Edition 14 Intel Core i5-1...</td>\n",
       "      <td>15</td>\n",
       "      <td>54,999</td>\n",
       "    </tr>\n",
       "    <tr>\n",
       "      <th>3</th>\n",
       "      <td>Dell Alienware m15(R3) 15.6-inch FHD Gaming La...</td>\n",
       "      <td>55</td>\n",
       "      <td>1,98,590</td>\n",
       "    </tr>\n",
       "    <tr>\n",
       "      <th>4</th>\n",
       "      <td>Lenovo Legion 5Pi 10th Gen Intel Core i7 15.6\"...</td>\n",
       "      <td>93</td>\n",
       "      <td>1,35,490</td>\n",
       "    </tr>\n",
       "    <tr>\n",
       "      <th>5</th>\n",
       "      <td>(Renewed) DELL Latitude E6540 15.6-inch Laptop...</td>\n",
       "      <td>10</td>\n",
       "      <td>38,999</td>\n",
       "    </tr>\n",
       "    <tr>\n",
       "      <th>6</th>\n",
       "      <td>Asus ROG Zephyrus S Ultra Slim Gaming Laptop, ...</td>\n",
       "      <td>29</td>\n",
       "      <td>1,20,800</td>\n",
       "    </tr>\n",
       "    <tr>\n",
       "      <th>7</th>\n",
       "      <td>Lenovo Yoga S740 Intel Core i7 10th Gen 14 inc...</td>\n",
       "      <td>103</td>\n",
       "      <td>84,500</td>\n",
       "    </tr>\n",
       "    <tr>\n",
       "      <th>8</th>\n",
       "      <td>DELL Inspiron 5593 15.6-inch Laptop (10th Gen ...</td>\n",
       "      <td>39</td>\n",
       "      <td>78,990</td>\n",
       "    </tr>\n",
       "    <tr>\n",
       "      <th>9</th>\n",
       "      <td>Lenovo Legion Y540 Intel Core i7 9th Gen 15.6 ...</td>\n",
       "      <td>18</td>\n",
       "      <td>45,990</td>\n",
       "    </tr>\n",
       "  </tbody>\n",
       "</table>\n",
       "</div>"
      ],
      "text/plain": [
       "                                              titles ratings    prices\n",
       "0  (Renewed) HP ZBook 15 G3 Mobile Workstation - ...       3  1,39,490\n",
       "1  HP 14 Thin & Light 14-inch FHD Laptop (11th Ge...     602    76,500\n",
       "2  Mi Notebook Horizon Edition 14 Intel Core i5-1...      15    54,999\n",
       "3  Dell Alienware m15(R3) 15.6-inch FHD Gaming La...      55  1,98,590\n",
       "4  Lenovo Legion 5Pi 10th Gen Intel Core i7 15.6\"...      93  1,35,490\n",
       "5  (Renewed) DELL Latitude E6540 15.6-inch Laptop...      10    38,999\n",
       "6  Asus ROG Zephyrus S Ultra Slim Gaming Laptop, ...      29  1,20,800\n",
       "7  Lenovo Yoga S740 Intel Core i7 10th Gen 14 inc...     103    84,500\n",
       "8  DELL Inspiron 5593 15.6-inch Laptop (10th Gen ...      39    78,990\n",
       "9  Lenovo Legion Y540 Intel Core i7 9th Gen 15.6 ...      18    45,990"
      ]
     },
     "execution_count": 87,
     "metadata": {},
     "output_type": "execute_result"
    }
   ],
   "source": [
    "laptop"
   ]
  },
  {
   "cell_type": "code",
   "execution_count": null,
   "metadata": {},
   "outputs": [],
   "source": []
  }
 ],
 "metadata": {
  "kernelspec": {
   "display_name": "Python 3",
   "language": "python",
   "name": "python3"
  },
  "language_info": {
   "codemirror_mode": {
    "name": "ipython",
    "version": 3
   },
   "file_extension": ".py",
   "mimetype": "text/x-python",
   "name": "python",
   "nbconvert_exporter": "python",
   "pygments_lexer": "ipython3",
   "version": "3.8.3"
  }
 },
 "nbformat": 4,
 "nbformat_minor": 4
}
