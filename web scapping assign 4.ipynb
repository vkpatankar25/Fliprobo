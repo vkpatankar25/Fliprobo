{
 "cells": [
  {
   "cell_type": "markdown",
   "metadata": {},
   "source": [
    "# 1. Scrape the details of most viewed videos on YouTube from Wikipedia."
   ]
  },
  {
   "cell_type": "code",
   "execution_count": 1,
   "metadata": {},
   "outputs": [],
   "source": [
    "#lets import all required libraries\n",
    "import selenium\n",
    "import pandas as pd\n",
    "from selenium import webdriver"
   ]
  },
  {
   "cell_type": "code",
   "execution_count": 2,
   "metadata": {},
   "outputs": [],
   "source": [
    "#lets first connect to the web driver\n",
    "driver=webdriver.Chrome(r\"C://chromedriver.exe\")\n",
    "driver.get('https://en.wikipedia.org/wiki/Main_Page')\n",
    "\n",
    "url='https://en.wikipedia.org/wiki/List_of_most-viewed_YouTube_videos'\n",
    "\n",
    "#lets open the webpage through web driver\n",
    "driver.get(url)"
   ]
  },
  {
   "cell_type": "code",
   "execution_count": 11,
   "metadata": {},
   "outputs": [],
   "source": [
    "Rank=[]\n",
    "Name=[]"
   ]
  },
  {
   "cell_type": "code",
   "execution_count": 12,
   "metadata": {},
   "outputs": [
    {
     "data": {
      "text/plain": [
       "['music videos', 'Baby Shark Dance']"
      ]
     },
     "execution_count": 12,
     "metadata": {},
     "output_type": "execute_result"
    }
   ],
   "source": [
    "r=driver.find_elements_by_xpath(\"//a[@class='mw-redirect']\")\n",
    "for i in r:\n",
    "    title2=i.text\n",
    "    Rank.append(title2)\n",
    "Rank[0:2] "
   ]
  },
  {
   "cell_type": "code",
   "execution_count": 14,
   "metadata": {},
   "outputs": [
    {
     "data": {
      "text/plain": [
       "['Top 30 most-viewed YouTube videos\\nNo. Video name Uploader Views (billions) Upload date Note\\n1. \"Baby Shark Dance\"[22] Pinkfong Kids\\' Songs & Stories 8.44 June 17, 2016 [B]\\n2. \"Despacito\"[24] Luis Fonsi 7.32 January 12, 2017 [C]\\n3. \"Shape of You\"[25] Ed Sheeran 5.29 January 30, 2017 [D]\\n4. \"Johny Johny Yes Papa\"[26] LooLoo Kids 5.24 October 8, 2016 [E]\\n5. \"See You Again\"[27] Wiz Khalifa 5.08 April 6, 2015 [F]\\n6. \"Masha and the Bear – Recipe for Disaster\"[30] Get Movies 4.43 January 31, 2012 [G]\\n7. \"Uptown Funk\"[31] Mark Ronson 4.16 November 19, 2014 [H]\\n8. \"Gangnam Style\"[32] Psy 4.05 July 15, 2012 [I]\\n9. \"Learning Colors – Colorful Eggs on a Farm\"[34] Miroshka TV 3.97 February 27, 2018\\n10. \"Bath Song\"[35] Cocomelon – Nursery Rhymes 3.95 May 2, 2018\\n11. \"Phonics Song with Two Words\"[36] ChuChu TV 3.78 March 6, 2014\\n12. \"Sugar\"[37] Maroon 5 3.45 January 14, 2015\\n13. \"Sorry\"[38] Justin Bieber 3.43 October 22, 2015\\n14. \"Roar\"[39] Katy Perry 3.34 September 5, 2013\\n15. \"Dame Tu Cosita\"[40] El Chombo 3.28 April 5, 2018\\n16. \"Counting Stars\"[41] OneRepublic 3.27 May 31, 2013\\n17. \"Thinking Out Loud\"[42] Ed Sheeran 3.24 October 7, 2014\\n18. \"Dark Horse\"[43] Katy Perry 3.05 February 20, 2014\\n19. \"Faded\"[44] Alan Walker 3.05 December 3, 2015\\n20. \"Shake It Off\"[45] Taylor Swift 3.05 August 18, 2014\\n21. \"Lean On\"[46] Major Lazer Official 3.02 March 22, 2015\\n22. \"Bailando\"[47] Enrique Iglesias 3.01 April 11, 2014\\n23. \"Girls Like You\"[48] Maroon 5 3.01 May 31, 2018\\n24. \"Let Her Go\"[49] Passenger 2.97 July 25, 2012\\n25. \"Mi Gente\"[50] J Balvin 2.90 June 29, 2017\\n26. \"Wheels on the Bus\"[51] Cocomelon – Nursery Rhymes 2.89 May 24, 2018\\n27. \"Hello\"[52] Adele 2.83 October 22, 2015\\n28. \"Perfect\"[53] Ed Sheeran 2.82 November 9, 2017\\n29. \"Waka Waka (This Time for Africa)\"[54] Shakira 2.80 June 4, 2010\\n30. \"Axel F\"[55] Crazy Frog 2.77 June 16, 2009\\nAs of April 30, 2021']"
      ]
     },
     "execution_count": 14,
     "metadata": {},
     "output_type": "execute_result"
    }
   ],
   "source": [
    "n=driver.find_elements_by_xpath(\"//table[@class='wikitable sortable jquery-tablesorter']\")\n",
    "for i in n:\n",
    "    title=i.text\n",
    "    Name.append(title)\n",
    "Name[0:1] "
   ]
  },
  {
   "cell_type": "code",
   "execution_count": 17,
   "metadata": {},
   "outputs": [],
   "source": [
    "wiki=pd.DataFrame({})\n",
    "wiki['name']=Rank[0:4]\n",
    "wiki['rank']=Name[0:4]"
   ]
  },
  {
   "cell_type": "code",
   "execution_count": 18,
   "metadata": {},
   "outputs": [
    {
     "data": {
      "text/html": [
       "<div>\n",
       "<style scoped>\n",
       "    .dataframe tbody tr th:only-of-type {\n",
       "        vertical-align: middle;\n",
       "    }\n",
       "\n",
       "    .dataframe tbody tr th {\n",
       "        vertical-align: top;\n",
       "    }\n",
       "\n",
       "    .dataframe thead th {\n",
       "        text-align: right;\n",
       "    }\n",
       "</style>\n",
       "<table border=\"1\" class=\"dataframe\">\n",
       "  <thead>\n",
       "    <tr style=\"text-align: right;\">\n",
       "      <th></th>\n",
       "      <th>name</th>\n",
       "      <th>rank</th>\n",
       "    </tr>\n",
       "  </thead>\n",
       "  <tbody>\n",
       "    <tr>\n",
       "      <th>0</th>\n",
       "      <td>music videos</td>\n",
       "      <td>Top 30 most-viewed YouTube videos\\nNo. Video n...</td>\n",
       "    </tr>\n",
       "    <tr>\n",
       "      <th>1</th>\n",
       "      <td>Baby Shark Dance</td>\n",
       "      <td>Progression of the most-viewed video on YouTub...</td>\n",
       "    </tr>\n",
       "    <tr>\n",
       "      <th>2</th>\n",
       "      <td>Baby Shark Dance</td>\n",
       "      <td>Top 30 most-viewed YouTube videos\\nNo. Video n...</td>\n",
       "    </tr>\n",
       "    <tr>\n",
       "      <th>3</th>\n",
       "      <td>Baby Shark Dance</td>\n",
       "      <td>Progression of the most-viewed video on YouTub...</td>\n",
       "    </tr>\n",
       "  </tbody>\n",
       "</table>\n",
       "</div>"
      ],
      "text/plain": [
       "               name                                               rank\n",
       "0      music videos  Top 30 most-viewed YouTube videos\\nNo. Video n...\n",
       "1  Baby Shark Dance  Progression of the most-viewed video on YouTub...\n",
       "2  Baby Shark Dance  Top 30 most-viewed YouTube videos\\nNo. Video n...\n",
       "3  Baby Shark Dance  Progression of the most-viewed video on YouTub..."
      ]
     },
     "execution_count": 18,
     "metadata": {},
     "output_type": "execute_result"
    }
   ],
   "source": [
    "wiki"
   ]
  },
  {
   "cell_type": "markdown",
   "metadata": {},
   "source": [
    "# 2. Scrape the details team India’s international fixtures from bcci.tv."
   ]
  },
  {
   "cell_type": "code",
   "execution_count": 16,
   "metadata": {},
   "outputs": [],
   "source": [
    "#lets first connect to the web driver\n",
    "driver1=webdriver.Chrome(r\"C://chromedriver.exe\")\n",
    "driver1.get('https://www.bcci.tv/')\n",
    "\n",
    "url='https://www.bcci.tv/international/fixtures'\n",
    "\n",
    "#lets open the webpage through web driver\n",
    "driver1.get(url)"
   ]
  },
  {
   "cell_type": "code",
   "execution_count": 56,
   "metadata": {},
   "outputs": [],
   "source": [
    "Match_title=[]\n",
    "Series=[]\n",
    "Place=[]\n",
    "Date=[]\n",
    "Date1=[]\n",
    "Month=[]\n",
    "Time=[]"
   ]
  },
  {
   "cell_type": "code",
   "execution_count": 57,
   "metadata": {},
   "outputs": [
    {
     "data": {
      "text/plain": [
       "['INDIA\\nv\\nNEW ZEALAND', 'ENGLAND\\nv\\nINDIA']"
      ]
     },
     "execution_count": 57,
     "metadata": {},
     "output_type": "execute_result"
    }
   ],
   "source": [
    "m=driver1.find_elements_by_xpath(\"//div[@class='fixture__teams']\")\n",
    "for i in m:\n",
    "    title3=i.text\n",
    "    Match_title.append(title3)\n",
    "Match_title[0:2] "
   ]
  },
  {
   "cell_type": "code",
   "execution_count": 58,
   "metadata": {},
   "outputs": [
    {
     "data": {
      "text/plain": [
       "['Final', '1st Test', '2nd Test', '3rd Test']"
      ]
     },
     "execution_count": 58,
     "metadata": {},
     "output_type": "execute_result"
    }
   ],
   "source": [
    "s=driver1.find_elements_by_xpath(\"//strong[@class='fixture__name fixture__name--with-margin']\")\n",
    "for i in s:\n",
    "    title4=i.text\n",
    "    Series.append(title4)\n",
    "Series[0:4] "
   ]
  },
  {
   "cell_type": "code",
   "execution_count": 59,
   "metadata": {},
   "outputs": [
    {
     "data": {
      "text/plain": [
       "['The Ageas Bowl, Southampton',\n",
       " 'Trent Bridge, Nottingham',\n",
       " \"Lord's, London\",\n",
       " 'Headingley, Leeds']"
      ]
     },
     "execution_count": 59,
     "metadata": {},
     "output_type": "execute_result"
    }
   ],
   "source": [
    "p=driver1.find_elements_by_xpath(\"//p[@class='fixture__additional-info']/span\")\n",
    "for i in p:\n",
    "    title5=i.text\n",
    "    Place.append(title5)\n",
    "Place[0:4] "
   ]
  },
  {
   "cell_type": "code",
   "execution_count": 60,
   "metadata": {},
   "outputs": [
    {
     "data": {
      "text/plain": [
       "['Friday', 'Wednesday', 'Thursday', 'Wednesday']"
      ]
     },
     "execution_count": 60,
     "metadata": {},
     "output_type": "execute_result"
    }
   ],
   "source": [
    "d=driver1.find_elements_by_xpath(\"//span[@class='fixture__day']\")\n",
    "for i in d:\n",
    "    title6=i.text\n",
    "    Date.append(title6)\n",
    "Date[0:4] "
   ]
  },
  {
   "cell_type": "code",
   "execution_count": 61,
   "metadata": {},
   "outputs": [
    {
     "data": {
      "text/plain": [
       "['18', '04', '12', '25']"
      ]
     },
     "execution_count": 61,
     "metadata": {},
     "output_type": "execute_result"
    }
   ],
   "source": [
    "d1=driver1.find_elements_by_xpath(\"//span[@class='fixture__date']\")\n",
    "for i in d1:\n",
    "    title61=i.text\n",
    "    Date1.append(title61)\n",
    "Date1[0:4] "
   ]
  },
  {
   "cell_type": "code",
   "execution_count": 62,
   "metadata": {},
   "outputs": [
    {
     "data": {
      "text/plain": [
       "['JUNE', 'AUGUST', 'AUGUST', 'AUGUST']"
      ]
     },
     "execution_count": 62,
     "metadata": {},
     "output_type": "execute_result"
    }
   ],
   "source": [
    "d11=driver1.find_elements_by_xpath(\"//span[@class='fixture__month']\")\n",
    "for i in d11:\n",
    "    title611=i.text\n",
    "    Month.append(title611)\n",
    "Month[0:4] "
   ]
  },
  {
   "cell_type": "code",
   "execution_count": 63,
   "metadata": {
    "scrolled": true
   },
   "outputs": [
    {
     "data": {
      "text/plain": [
       "['15:30 IST', '15:30 IST', '15:30 IST', '15:30 IST']"
      ]
     },
     "execution_count": 63,
     "metadata": {},
     "output_type": "execute_result"
    }
   ],
   "source": [
    "t=driver1.find_elements_by_xpath(\"//span[@class='fixture__time']\")\n",
    "for i in t:\n",
    "    title7=i.text\n",
    "    Time.append(title7)\n",
    "Time[0:4] "
   ]
  },
  {
   "cell_type": "code",
   "execution_count": 66,
   "metadata": {},
   "outputs": [],
   "source": [
    "bcci=pd.DataFrame({})\n",
    "bcci['match']=Match_title[0:5]\n",
    "bcci['series']=Series[0:5]\n",
    "bcci['place']=Place[0:5]\n",
    "bcci['day']=Date[0:5]\n",
    "bcci['date']=Date1[0:5]\n",
    "bcci['month']=Month[0:5]\n",
    "bcci['time']=Time[0:5]"
   ]
  },
  {
   "cell_type": "code",
   "execution_count": 67,
   "metadata": {},
   "outputs": [
    {
     "data": {
      "text/html": [
       "<div>\n",
       "<style scoped>\n",
       "    .dataframe tbody tr th:only-of-type {\n",
       "        vertical-align: middle;\n",
       "    }\n",
       "\n",
       "    .dataframe tbody tr th {\n",
       "        vertical-align: top;\n",
       "    }\n",
       "\n",
       "    .dataframe thead th {\n",
       "        text-align: right;\n",
       "    }\n",
       "</style>\n",
       "<table border=\"1\" class=\"dataframe\">\n",
       "  <thead>\n",
       "    <tr style=\"text-align: right;\">\n",
       "      <th></th>\n",
       "      <th>match</th>\n",
       "      <th>series</th>\n",
       "      <th>place</th>\n",
       "      <th>day</th>\n",
       "      <th>date</th>\n",
       "      <th>month</th>\n",
       "      <th>time</th>\n",
       "    </tr>\n",
       "  </thead>\n",
       "  <tbody>\n",
       "    <tr>\n",
       "      <th>0</th>\n",
       "      <td>INDIA\\nv\\nNEW ZEALAND</td>\n",
       "      <td>Final</td>\n",
       "      <td>The Ageas Bowl, Southampton</td>\n",
       "      <td>Friday</td>\n",
       "      <td>18</td>\n",
       "      <td>JUNE</td>\n",
       "      <td>15:30 IST</td>\n",
       "    </tr>\n",
       "    <tr>\n",
       "      <th>1</th>\n",
       "      <td>ENGLAND\\nv\\nINDIA</td>\n",
       "      <td>1st Test</td>\n",
       "      <td>Trent Bridge, Nottingham</td>\n",
       "      <td>Wednesday</td>\n",
       "      <td>04</td>\n",
       "      <td>AUGUST</td>\n",
       "      <td>15:30 IST</td>\n",
       "    </tr>\n",
       "    <tr>\n",
       "      <th>2</th>\n",
       "      <td>ENGLAND\\nv\\nINDIA</td>\n",
       "      <td>2nd Test</td>\n",
       "      <td>Lord's, London</td>\n",
       "      <td>Thursday</td>\n",
       "      <td>12</td>\n",
       "      <td>AUGUST</td>\n",
       "      <td>15:30 IST</td>\n",
       "    </tr>\n",
       "    <tr>\n",
       "      <th>3</th>\n",
       "      <td>ENGLAND\\nv\\nINDIA</td>\n",
       "      <td>3rd Test</td>\n",
       "      <td>Headingley, Leeds</td>\n",
       "      <td>Wednesday</td>\n",
       "      <td>25</td>\n",
       "      <td>AUGUST</td>\n",
       "      <td>15:30 IST</td>\n",
       "    </tr>\n",
       "    <tr>\n",
       "      <th>4</th>\n",
       "      <td>ENGLAND\\nv\\nINDIA</td>\n",
       "      <td>4th Test</td>\n",
       "      <td>The Oval, London</td>\n",
       "      <td>Thursday</td>\n",
       "      <td>02</td>\n",
       "      <td>SEPTEMBER</td>\n",
       "      <td>15:30 IST</td>\n",
       "    </tr>\n",
       "  </tbody>\n",
       "</table>\n",
       "</div>"
      ],
      "text/plain": [
       "                   match    series                        place        day  \\\n",
       "0  INDIA\\nv\\nNEW ZEALAND     Final  The Ageas Bowl, Southampton     Friday   \n",
       "1      ENGLAND\\nv\\nINDIA  1st Test     Trent Bridge, Nottingham  Wednesday   \n",
       "2      ENGLAND\\nv\\nINDIA  2nd Test               Lord's, London   Thursday   \n",
       "3      ENGLAND\\nv\\nINDIA  3rd Test            Headingley, Leeds  Wednesday   \n",
       "4      ENGLAND\\nv\\nINDIA  4th Test             The Oval, London   Thursday   \n",
       "\n",
       "  date      month       time  \n",
       "0   18       JUNE  15:30 IST  \n",
       "1   04     AUGUST  15:30 IST  \n",
       "2   12     AUGUST  15:30 IST  \n",
       "3   25     AUGUST  15:30 IST  \n",
       "4   02  SEPTEMBER  15:30 IST  "
      ]
     },
     "execution_count": 67,
     "metadata": {},
     "output_type": "execute_result"
    }
   ],
   "source": [
    "bcci"
   ]
  },
  {
   "cell_type": "markdown",
   "metadata": {},
   "source": [
    "# 3. Scrape the details of State-wise GDP of India from statisticstime.com."
   ]
  },
  {
   "cell_type": "code",
   "execution_count": 68,
   "metadata": {},
   "outputs": [],
   "source": [
    "#lets first connect to the web driver\n",
    "driver2=webdriver.Chrome(r\"C://chromedriver.exe\")\n",
    "driver2.get('https://statisticstimes.com/index.php')\n",
    "\n",
    "url='http://statisticstimes.com/economy/india/indian-states-gdp.php'\n",
    "\n",
    "#lets open the webpage through web driver\n",
    "driver2.get(url)"
   ]
  },
  {
   "cell_type": "code",
   "execution_count": 102,
   "metadata": {},
   "outputs": [],
   "source": [
    "Rank=[]\n",
    "State=[]\n",
    "GSDP_18_19=[]\n",
    "Share=[]\n",
    "GDP_billion=[]"
   ]
  },
  {
   "cell_type": "code",
   "execution_count": 103,
   "metadata": {},
   "outputs": [
    {
     "data": {
      "text/plain": [
       "['1', '2']"
      ]
     },
     "execution_count": 103,
     "metadata": {},
     "output_type": "execute_result"
    }
   ],
   "source": [
    "r=driver2.find_elements_by_xpath(\"//td[@class='data1']\")\n",
    "for i in r:\n",
    "    title3=i.text\n",
    "    Rank.append(title3)\n",
    "Rank[0:2] "
   ]
  },
  {
   "cell_type": "code",
   "execution_count": 104,
   "metadata": {},
   "outputs": [
    {
     "data": {
      "text/plain": [
       "['Maharashtra', 'Tamil Nadu']"
      ]
     },
     "execution_count": 104,
     "metadata": {},
     "output_type": "execute_result"
    }
   ],
   "source": [
    "s=driver2.find_elements_by_xpath(\"//td[@class='name']\")\n",
    "for i in s:\n",
    "    title31=i.text\n",
    "    State.append(title31)\n",
    "State[0:2] "
   ]
  },
  {
   "cell_type": "code",
   "execution_count": 105,
   "metadata": {},
   "outputs": [
    {
     "data": {
      "text/plain": [
       "['2,632,792', '1,630,208']"
      ]
     },
     "execution_count": 105,
     "metadata": {},
     "output_type": "execute_result"
    }
   ],
   "source": [
    "g=driver2.find_elements_by_xpath(\"//td[@class='data sorting_1']\")\n",
    "for i in g:\n",
    "    title1=i.text\n",
    "    GSDP_18_19.append(title1)\n",
    "GSDP_18_19[0:2] "
   ]
  },
  {
   "cell_type": "code",
   "execution_count": 106,
   "metadata": {},
   "outputs": [
    {
     "data": {
      "text/plain": [
       "['-', '13.88%']"
      ]
     },
     "execution_count": 106,
     "metadata": {},
     "output_type": "execute_result"
    }
   ],
   "source": [
    "g1=driver2.find_elements_by_xpath(\"//td[@class='data']\")\n",
    "for i in g1:\n",
    "    title11=i.text\n",
    "    GSDP_17_18.append(title11)\n",
    "GSDP_17_18[0:2] "
   ]
  },
  {
   "cell_type": "code",
   "execution_count": 108,
   "metadata": {},
   "outputs": [
    {
     "data": {
      "text/plain": [
       "['-', '13.88%', '398.145', '-']"
      ]
     },
     "execution_count": 108,
     "metadata": {},
     "output_type": "execute_result"
    }
   ],
   "source": [
    "g11=driver2.find_elements_by_xpath(\"//td[@class='data']\")\n",
    "for i in g11:\n",
    "    title12=i.text\n",
    "    Share.append(title12)\n",
    "Share[0:4] "
   ]
  },
  {
   "cell_type": "code",
   "execution_count": 109,
   "metadata": {},
   "outputs": [
    {
     "data": {
      "text/plain": [
       "['1 Maharashtra - 2,632,792 13.88% 398.145 - 2,039,074',\n",
       " '3 Uttar Pradesh 1,687,818 1,584,764 8.35% 239.656 1,166,817 1,123,982']"
      ]
     },
     "execution_count": 109,
     "metadata": {},
     "output_type": "execute_result"
    }
   ],
   "source": [
    "g12=driver2.find_elements_by_xpath(\"//tr[@class='odd']\")\n",
    "for i in g12:\n",
    "    title22=i.text\n",
    "    GDP_billion.append(title22)\n",
    "GDP_billion[0:2] "
   ]
  },
  {
   "cell_type": "code",
   "execution_count": 100,
   "metadata": {},
   "outputs": [],
   "source": [
    "gdp=pd.DataFrame({})\n",
    "gdp['rank']=Rank[0:30]\n",
    "gdp['state']=State[0:30]\n",
    "gdp['gdp_18_19']=GSDP_18_19[0:30]\n",
    "gdp['share']=Share[0:30]"
   ]
  },
  {
   "cell_type": "code",
   "execution_count": 101,
   "metadata": {},
   "outputs": [
    {
     "data": {
      "text/html": [
       "<div>\n",
       "<style scoped>\n",
       "    .dataframe tbody tr th:only-of-type {\n",
       "        vertical-align: middle;\n",
       "    }\n",
       "\n",
       "    .dataframe tbody tr th {\n",
       "        vertical-align: top;\n",
       "    }\n",
       "\n",
       "    .dataframe thead th {\n",
       "        text-align: right;\n",
       "    }\n",
       "</style>\n",
       "<table border=\"1\" class=\"dataframe\">\n",
       "  <thead>\n",
       "    <tr style=\"text-align: right;\">\n",
       "      <th></th>\n",
       "      <th>rank</th>\n",
       "      <th>state</th>\n",
       "      <th>gdp_18_19</th>\n",
       "      <th>share</th>\n",
       "    </tr>\n",
       "  </thead>\n",
       "  <tbody>\n",
       "    <tr>\n",
       "      <th>0</th>\n",
       "      <td>1</td>\n",
       "      <td>Maharashtra</td>\n",
       "      <td>2,632,792</td>\n",
       "      <td>-</td>\n",
       "    </tr>\n",
       "    <tr>\n",
       "      <th>1</th>\n",
       "      <td>2</td>\n",
       "      <td>Tamil Nadu</td>\n",
       "      <td>1,630,208</td>\n",
       "      <td>13.88%</td>\n",
       "    </tr>\n",
       "    <tr>\n",
       "      <th>2</th>\n",
       "      <td>3</td>\n",
       "      <td>Uttar Pradesh</td>\n",
       "      <td>1,584,764</td>\n",
       "      <td>398.145</td>\n",
       "    </tr>\n",
       "    <tr>\n",
       "      <th>3</th>\n",
       "      <td>4</td>\n",
       "      <td>Gujarat</td>\n",
       "      <td>1,502,899</td>\n",
       "      <td>-</td>\n",
       "    </tr>\n",
       "    <tr>\n",
       "      <th>4</th>\n",
       "      <td>5</td>\n",
       "      <td>Karnataka</td>\n",
       "      <td>1,493,127</td>\n",
       "      <td>2,039,074</td>\n",
       "    </tr>\n",
       "    <tr>\n",
       "      <th>5</th>\n",
       "      <td>6</td>\n",
       "      <td>West Bengal</td>\n",
       "      <td>1,089,898</td>\n",
       "      <td>1,845,853</td>\n",
       "    </tr>\n",
       "    <tr>\n",
       "      <th>6</th>\n",
       "      <td>7</td>\n",
       "      <td>Rajasthan</td>\n",
       "      <td>942,586</td>\n",
       "      <td>8.59%</td>\n",
       "    </tr>\n",
       "    <tr>\n",
       "      <th>7</th>\n",
       "      <td>8</td>\n",
       "      <td>Andhra Pradesh</td>\n",
       "      <td>862,957</td>\n",
       "      <td>246.529</td>\n",
       "    </tr>\n",
       "    <tr>\n",
       "      <th>8</th>\n",
       "      <td>9</td>\n",
       "      <td>Telangana</td>\n",
       "      <td>861,031</td>\n",
       "      <td>1,312,929</td>\n",
       "    </tr>\n",
       "    <tr>\n",
       "      <th>9</th>\n",
       "      <td>10</td>\n",
       "      <td>Madhya Pradesh</td>\n",
       "      <td>809,592</td>\n",
       "      <td>1,215,307</td>\n",
       "    </tr>\n",
       "    <tr>\n",
       "      <th>10</th>\n",
       "      <td>11</td>\n",
       "      <td>Kerala</td>\n",
       "      <td>781,653</td>\n",
       "      <td>1,687,818</td>\n",
       "    </tr>\n",
       "    <tr>\n",
       "      <th>11</th>\n",
       "      <td>12</td>\n",
       "      <td>Delhi</td>\n",
       "      <td>774,870</td>\n",
       "      <td>8.35%</td>\n",
       "    </tr>\n",
       "    <tr>\n",
       "      <th>12</th>\n",
       "      <td>13</td>\n",
       "      <td>Haryana</td>\n",
       "      <td>734,163</td>\n",
       "      <td>239.656</td>\n",
       "    </tr>\n",
       "    <tr>\n",
       "      <th>13</th>\n",
       "      <td>14</td>\n",
       "      <td>Bihar</td>\n",
       "      <td>530,363</td>\n",
       "      <td>1,166,817</td>\n",
       "    </tr>\n",
       "    <tr>\n",
       "      <th>14</th>\n",
       "      <td>15</td>\n",
       "      <td>Punjab</td>\n",
       "      <td>526,376</td>\n",
       "      <td>1,123,982</td>\n",
       "    </tr>\n",
       "    <tr>\n",
       "      <th>15</th>\n",
       "      <td>16</td>\n",
       "      <td>Odisha</td>\n",
       "      <td>487,805</td>\n",
       "      <td>-</td>\n",
       "    </tr>\n",
       "    <tr>\n",
       "      <th>16</th>\n",
       "      <td>17</td>\n",
       "      <td>Assam</td>\n",
       "      <td>315,881</td>\n",
       "      <td>7.92%</td>\n",
       "    </tr>\n",
       "    <tr>\n",
       "      <th>17</th>\n",
       "      <td>18</td>\n",
       "      <td>Chhattisgarh</td>\n",
       "      <td>304,063</td>\n",
       "      <td>227.276</td>\n",
       "    </tr>\n",
       "    <tr>\n",
       "      <th>18</th>\n",
       "      <td>19</td>\n",
       "      <td>Jharkhand</td>\n",
       "      <td>297,204</td>\n",
       "      <td>-</td>\n",
       "    </tr>\n",
       "    <tr>\n",
       "      <th>19</th>\n",
       "      <td>20</td>\n",
       "      <td>Uttarakhand</td>\n",
       "      <td>245,895</td>\n",
       "      <td>1,186,379</td>\n",
       "    </tr>\n",
       "    <tr>\n",
       "      <th>20</th>\n",
       "      <td>21</td>\n",
       "      <td>Jammu &amp; Kashmir</td>\n",
       "      <td>155,956</td>\n",
       "      <td>1,631,977</td>\n",
       "    </tr>\n",
       "    <tr>\n",
       "      <th>21</th>\n",
       "      <td>22</td>\n",
       "      <td>Himachal Pradesh</td>\n",
       "      <td>153,845</td>\n",
       "      <td>7.87%</td>\n",
       "    </tr>\n",
       "    <tr>\n",
       "      <th>22</th>\n",
       "      <td>23</td>\n",
       "      <td>Goa</td>\n",
       "      <td>73,170</td>\n",
       "      <td>225.798</td>\n",
       "    </tr>\n",
       "    <tr>\n",
       "      <th>23</th>\n",
       "      <td>24</td>\n",
       "      <td>Tripura</td>\n",
       "      <td>49,845</td>\n",
       "      <td>1,156,039</td>\n",
       "    </tr>\n",
       "    <tr>\n",
       "      <th>24</th>\n",
       "      <td>25</td>\n",
       "      <td>Chandigarh</td>\n",
       "      <td>42,114</td>\n",
       "      <td>1,091,077</td>\n",
       "    </tr>\n",
       "    <tr>\n",
       "      <th>25</th>\n",
       "      <td>26</td>\n",
       "      <td>Puducherry</td>\n",
       "      <td>34,433</td>\n",
       "      <td>1,253,832</td>\n",
       "    </tr>\n",
       "    <tr>\n",
       "      <th>26</th>\n",
       "      <td>27</td>\n",
       "      <td>Meghalaya</td>\n",
       "      <td>33,481</td>\n",
       "      <td>5.75%</td>\n",
       "    </tr>\n",
       "    <tr>\n",
       "      <th>27</th>\n",
       "      <td>28</td>\n",
       "      <td>Sikkim</td>\n",
       "      <td>28,723</td>\n",
       "      <td>164.820</td>\n",
       "    </tr>\n",
       "    <tr>\n",
       "      <th>28</th>\n",
       "      <td>29</td>\n",
       "      <td>Manipur</td>\n",
       "      <td>27,870</td>\n",
       "      <td>793,223</td>\n",
       "    </tr>\n",
       "    <tr>\n",
       "      <th>29</th>\n",
       "      <td>30</td>\n",
       "      <td>Nagaland</td>\n",
       "      <td>27,283</td>\n",
       "      <td>739,525</td>\n",
       "    </tr>\n",
       "  </tbody>\n",
       "</table>\n",
       "</div>"
      ],
      "text/plain": [
       "   rank             state  gdp_18_19      share\n",
       "0     1       Maharashtra  2,632,792          -\n",
       "1     2        Tamil Nadu  1,630,208     13.88%\n",
       "2     3     Uttar Pradesh  1,584,764    398.145\n",
       "3     4           Gujarat  1,502,899          -\n",
       "4     5         Karnataka  1,493,127  2,039,074\n",
       "5     6       West Bengal  1,089,898  1,845,853\n",
       "6     7         Rajasthan    942,586      8.59%\n",
       "7     8    Andhra Pradesh    862,957    246.529\n",
       "8     9         Telangana    861,031  1,312,929\n",
       "9    10    Madhya Pradesh    809,592  1,215,307\n",
       "10   11            Kerala    781,653  1,687,818\n",
       "11   12             Delhi    774,870      8.35%\n",
       "12   13           Haryana    734,163    239.656\n",
       "13   14             Bihar    530,363  1,166,817\n",
       "14   15            Punjab    526,376  1,123,982\n",
       "15   16            Odisha    487,805          -\n",
       "16   17             Assam    315,881      7.92%\n",
       "17   18      Chhattisgarh    304,063    227.276\n",
       "18   19         Jharkhand    297,204          -\n",
       "19   20       Uttarakhand    245,895  1,186,379\n",
       "20   21   Jammu & Kashmir    155,956  1,631,977\n",
       "21   22  Himachal Pradesh    153,845      7.87%\n",
       "22   23               Goa     73,170    225.798\n",
       "23   24           Tripura     49,845  1,156,039\n",
       "24   25        Chandigarh     42,114  1,091,077\n",
       "25   26        Puducherry     34,433  1,253,832\n",
       "26   27         Meghalaya     33,481      5.75%\n",
       "27   28            Sikkim     28,723    164.820\n",
       "28   29           Manipur     27,870    793,223\n",
       "29   30          Nagaland     27,283    739,525"
      ]
     },
     "execution_count": 101,
     "metadata": {},
     "output_type": "execute_result"
    }
   ],
   "source": [
    "gdp"
   ]
  },
  {
   "cell_type": "markdown",
   "metadata": {},
   "source": [
    "# 4. Scrape the details of selenium exception from guru99.com."
   ]
  },
  {
   "cell_type": "code",
   "execution_count": 26,
   "metadata": {},
   "outputs": [],
   "source": [
    "#lets first connect to the web driver\n",
    "driver3=webdriver.Chrome(r\"C://chromedriver.exe\")\n",
    "driver3.get('https://www.guru99.com/')\n",
    "\n",
    "search_field_designation=driver3.find_element_by_id(\"gsc-w-id1\")\n",
    "\n",
    "search_field_designation.send_keys(\"Selenium Exception Handling\")\n",
    "\n",
    "search_button=driver3.find_element_by_xpath(\"//button[@class='gsc-search-button gsc-search-button-v2']\")\n",
    "search_button.click()\n",
    "                                   \n",
    "url='https://www.guru99.com/exception-handling-selenium.html'\n",
    "\n",
    "#lets open the webpage through web driver\n",
    "driver3.get(url)"
   ]
  },
  {
   "cell_type": "code",
   "execution_count": 37,
   "metadata": {},
   "outputs": [],
   "source": [
    "name=[]\n",
    "description=[]"
   ]
  },
  {
   "cell_type": "code",
   "execution_count": 38,
   "metadata": {
    "collapsed": true
   },
   "outputs": [
    {
     "data": {
      "text/plain": [
       "[\"Exception name Description\\nElementNotVisibleException This type of Selenium exception occurs when an existing element in DOM has a feature set as hidden.\\nElementNotSelectableException This Selenium exception occurs when an element is presented in the DOM, but you can be able to select. Therefore, it is not possible to interact.\\nNoSuchElementException This Exception occurs if an element could not be found.\\nNoSuchFrameException This Exception occurs if the frame target to be switched to does not exist.\\nNoAlertPresentException This Exception occurs when you switch to no presented alert.\\nNoSuchWindowException This Exception occurs if the window target to be switch does not exist.\\nStaleElementReferenceException This Selenium exception occurs happens when the web element is detached from the current DOM.\\nSessionNotFoundException The WebDriver is acting after you quit the browser.\\nTimeoutException Thrown when there is not enough time for a command to be completed. For Example, the element searched wasn't found in the specified time.\\nWebDriverException This Exception takes place when the WebDriver is acting right after you close the browser.\\nConnectionClosedException This type of Exception takes place when there is a disconnection in the driver.\\nElementClickInterceptedException The command may not be completed as the element receiving the events is concealing the element which was requested clicked.\\nElementNotInteractableException This Selenium exception is thrown when any element is presented in the DOM. However, it is impossible to interact with such an element.\\nErrorInResponseException This happens while interacting with the Firefox extension or the remote driver server.\\nErrorHandler.UnknownServerException Exception is used as a placeholder in case if the server returns an error without a stack trace.\\nImeActivationFailedException This expectation will occur when IME engine activation has failed.\\nImeNotAvailableException It takes place when IME support is unavailable.\\nInsecureCertificateException Navigation made the user agent to hit a certificate warning. This can cause by an invalid or expired TLS certificate.\\nInvalidArgumentException It occurs when an argument does not belong to the expected type.\\nInvalidCookieDomainException This happens when you try to add a cookie under a different domain instead of current URL.\\nInvalidCoordinatesException This type of Exception matches an interacting operation that is not valid.\\nInvalidElementStateExceptio It occurs when command can't be finished when the element is invalid.\\nInvalidSessionIdException This Exception took place when the given session ID is not included in the list of active sessions. It means the session does not exist or is inactive either.\\nInvalidSwitchToTargetException This occurs when the frame or window target to be switched does not exist.\\nJavascriptException This issue occurs while executing JavaScript given by the user.\\nJsonException It occurs when you afford to get the session when the session is not created.\\nNoSuchAttributeException This kind of Exception occurs when the attribute of an element could not be found.\\nMoveTargetOutOfBoundsException It takes place if the target provided to the ActionChains move() methodology is not valid. For Example, out of the document.\\nNoSuchContextException ContextAware does mobile device testing.\\nNoSuchCookieException This Exception occurs when no cookie matching with the given pathname found for all the associated cookies of the currently browsing document.\\nNotFoundException This Exception is a subclass of WebDriverException. This will occur when an element on the DOM does not exist.\\nRemoteDriverServerException This Selenium exception is thrown when the server is not responding because of the problem that the capabilities described are not proper.\\nScreenshotException It is not possible to capture a screen.\\nSessionNotCreatedException It happens when a new session could not be successfully created.\\nUnableToSetCookieException This occurs if a driver is unable to set a cookie.\\nUnexpectedTagNameException Happens if a support class did not get a web element as expected.\\nUnhandledAlertException This expectation occurs when there is an alert, but WebDriver is not able to perform Alert operation.\\nUnexpectedAlertPresentException It occurs when there is the appearance of an unexpected alert.\\nUnknownMethodException This Exception happens when the requested command matches with a known URL but and not matching with a methodology for a specific URL.\\nUnreachableBrowserException This Exception occurs only when the browser is not able to be opened or crashed because of some reason.\\nUnsupportedCommandException This occurs when remote WebDriver does n't send valid commands as expected.\"]"
      ]
     },
     "execution_count": 38,
     "metadata": {},
     "output_type": "execute_result"
    }
   ],
   "source": [
    "n=driver3.find_elements_by_xpath(\"//table[@class='table table-striped']\")\n",
    "for i in n:\n",
    "    title12=i.text\n",
    "    name.append(title12)\n",
    "name[0:2] "
   ]
  },
  {
   "cell_type": "code",
   "execution_count": 40,
   "metadata": {
    "collapsed": true
   },
   "outputs": [
    {
     "data": {
      "text/plain": [
       "[\"Exception name Description\\nElementNotVisibleException This type of Selenium exception occurs when an existing element in DOM has a feature set as hidden.\\nElementNotSelectableException This Selenium exception occurs when an element is presented in the DOM, but you can be able to select. Therefore, it is not possible to interact.\\nNoSuchElementException This Exception occurs if an element could not be found.\\nNoSuchFrameException This Exception occurs if the frame target to be switched to does not exist.\\nNoAlertPresentException This Exception occurs when you switch to no presented alert.\\nNoSuchWindowException This Exception occurs if the window target to be switch does not exist.\\nStaleElementReferenceException This Selenium exception occurs happens when the web element is detached from the current DOM.\\nSessionNotFoundException The WebDriver is acting after you quit the browser.\\nTimeoutException Thrown when there is not enough time for a command to be completed. For Example, the element searched wasn't found in the specified time.\\nWebDriverException This Exception takes place when the WebDriver is acting right after you close the browser.\\nConnectionClosedException This type of Exception takes place when there is a disconnection in the driver.\\nElementClickInterceptedException The command may not be completed as the element receiving the events is concealing the element which was requested clicked.\\nElementNotInteractableException This Selenium exception is thrown when any element is presented in the DOM. However, it is impossible to interact with such an element.\\nErrorInResponseException This happens while interacting with the Firefox extension or the remote driver server.\\nErrorHandler.UnknownServerException Exception is used as a placeholder in case if the server returns an error without a stack trace.\\nImeActivationFailedException This expectation will occur when IME engine activation has failed.\\nImeNotAvailableException It takes place when IME support is unavailable.\\nInsecureCertificateException Navigation made the user agent to hit a certificate warning. This can cause by an invalid or expired TLS certificate.\\nInvalidArgumentException It occurs when an argument does not belong to the expected type.\\nInvalidCookieDomainException This happens when you try to add a cookie under a different domain instead of current URL.\\nInvalidCoordinatesException This type of Exception matches an interacting operation that is not valid.\\nInvalidElementStateExceptio It occurs when command can't be finished when the element is invalid.\\nInvalidSessionIdException This Exception took place when the given session ID is not included in the list of active sessions. It means the session does not exist or is inactive either.\\nInvalidSwitchToTargetException This occurs when the frame or window target to be switched does not exist.\\nJavascriptException This issue occurs while executing JavaScript given by the user.\\nJsonException It occurs when you afford to get the session when the session is not created.\\nNoSuchAttributeException This kind of Exception occurs when the attribute of an element could not be found.\\nMoveTargetOutOfBoundsException It takes place if the target provided to the ActionChains move() methodology is not valid. For Example, out of the document.\\nNoSuchContextException ContextAware does mobile device testing.\\nNoSuchCookieException This Exception occurs when no cookie matching with the given pathname found for all the associated cookies of the currently browsing document.\\nNotFoundException This Exception is a subclass of WebDriverException. This will occur when an element on the DOM does not exist.\\nRemoteDriverServerException This Selenium exception is thrown when the server is not responding because of the problem that the capabilities described are not proper.\\nScreenshotException It is not possible to capture a screen.\\nSessionNotCreatedException It happens when a new session could not be successfully created.\\nUnableToSetCookieException This occurs if a driver is unable to set a cookie.\\nUnexpectedTagNameException Happens if a support class did not get a web element as expected.\\nUnhandledAlertException This expectation occurs when there is an alert, but WebDriver is not able to perform Alert operation.\\nUnexpectedAlertPresentException It occurs when there is the appearance of an unexpected alert.\\nUnknownMethodException This Exception happens when the requested command matches with a known URL but and not matching with a methodology for a specific URL.\\nUnreachableBrowserException This Exception occurs only when the browser is not able to be opened or crashed because of some reason.\\nUnsupportedCommandException This occurs when remote WebDriver does n't send valid commands as expected.\"]"
      ]
     },
     "execution_count": 40,
     "metadata": {},
     "output_type": "execute_result"
    }
   ],
   "source": [
    "d=driver3.find_elements_by_xpath(\"//table[@class='table table-striped']\")\n",
    "for i in d:\n",
    "    if i.text is None :\n",
    "        description.remove(\"\\n\") \n",
    "    else:\n",
    "        description.append(i.text)\n",
    "description[0:2]"
   ]
  },
  {
   "cell_type": "code",
   "execution_count": 41,
   "metadata": {},
   "outputs": [],
   "source": [
    "sel=pd.DataFrame({})\n",
    "sel['name']=name[0:10]\n",
    "sel['desc']=description[0:10]"
   ]
  },
  {
   "cell_type": "code",
   "execution_count": 42,
   "metadata": {},
   "outputs": [
    {
     "data": {
      "text/html": [
       "<div>\n",
       "<style scoped>\n",
       "    .dataframe tbody tr th:only-of-type {\n",
       "        vertical-align: middle;\n",
       "    }\n",
       "\n",
       "    .dataframe tbody tr th {\n",
       "        vertical-align: top;\n",
       "    }\n",
       "\n",
       "    .dataframe thead th {\n",
       "        text-align: right;\n",
       "    }\n",
       "</style>\n",
       "<table border=\"1\" class=\"dataframe\">\n",
       "  <thead>\n",
       "    <tr style=\"text-align: right;\">\n",
       "      <th></th>\n",
       "      <th>name</th>\n",
       "      <th>desc</th>\n",
       "    </tr>\n",
       "  </thead>\n",
       "  <tbody>\n",
       "    <tr>\n",
       "      <th>0</th>\n",
       "      <td>Exception name Description\\nElementNotVisibleE...</td>\n",
       "      <td>Exception name Description\\nElementNotVisibleE...</td>\n",
       "    </tr>\n",
       "  </tbody>\n",
       "</table>\n",
       "</div>"
      ],
      "text/plain": [
       "                                                name  \\\n",
       "0  Exception name Description\\nElementNotVisibleE...   \n",
       "\n",
       "                                                desc  \n",
       "0  Exception name Description\\nElementNotVisibleE...  "
      ]
     },
     "execution_count": 42,
     "metadata": {},
     "output_type": "execute_result"
    }
   ],
   "source": [
    "sel"
   ]
  },
  {
   "cell_type": "markdown",
   "metadata": {},
   "source": [
    "# 5. Scrape the details of trending repositories on Github.com."
   ]
  },
  {
   "cell_type": "code",
   "execution_count": 56,
   "metadata": {},
   "outputs": [],
   "source": [
    "#lets first connect to the web driver\n",
    "driver4=webdriver.Chrome(r\"C://chromedriver.exe\")\n",
    "driver4.get('https://github.com/')\n",
    "\n",
    "url='https://github.com/trending'\n",
    "\n",
    "#lets open the webpage through web driver\n",
    "driver4.get(url)"
   ]
  },
  {
   "cell_type": "code",
   "execution_count": 57,
   "metadata": {},
   "outputs": [],
   "source": [
    "Repository_title=[]\n",
    "Repository_description=[]\n",
    "Contributors_count=[]\n",
    "Language_used=[]"
   ]
  },
  {
   "cell_type": "code",
   "execution_count": 58,
   "metadata": {},
   "outputs": [
    {
     "data": {
      "text/plain": [
       "['TheAlgorithms /', 'scala-open-letter /']"
      ]
     },
     "execution_count": 58,
     "metadata": {},
     "output_type": "execute_result"
    }
   ],
   "source": [
    "title=driver4.find_elements_by_xpath(\"//span[@class='text-normal']\")\n",
    "for i in title:\n",
    "    title12=i.text\n",
    "    Repository_title.append(title12)\n",
    "Repository_title[0:2] "
   ]
  },
  {
   "cell_type": "code",
   "execution_count": 59,
   "metadata": {},
   "outputs": [
    {
     "data": {
      "text/plain": [
       "['All Algorithms implemented in Python',\n",
       " '📝 Algorithms and data structures implemented in JavaScript with explanations and links to further readings']"
      ]
     },
     "execution_count": 59,
     "metadata": {},
     "output_type": "execute_result"
    }
   ],
   "source": [
    "desc=driver4.find_elements_by_xpath(\"//p[@class='col-9 color-text-secondary my-1 pr-4']\")\n",
    "for i in desc:\n",
    "    title1=i.text\n",
    "    Repository_description.append(title1)\n",
    "Repository_description[0:2] "
   ]
  },
  {
   "cell_type": "code",
   "execution_count": 60,
   "metadata": {},
   "outputs": [
    {
     "data": {
      "text/plain": [
       "['104,807', '29,459']"
      ]
     },
     "execution_count": 60,
     "metadata": {},
     "output_type": "execute_result"
    }
   ],
   "source": [
    "count=driver4.find_elements_by_xpath(\"//a[@class='Link--muted d-inline-block mr-3']\")\n",
    "for i in count:\n",
    "    title11=i.text\n",
    "    Contributors_count.append(title11)\n",
    "Contributors_count[0:2] "
   ]
  },
  {
   "cell_type": "code",
   "execution_count": 62,
   "metadata": {},
   "outputs": [
    {
     "data": {
      "text/plain": [
       "['Python', 'Ruby']"
      ]
     },
     "execution_count": 62,
     "metadata": {},
     "output_type": "execute_result"
    }
   ],
   "source": [
    "lang=driver4.find_elements_by_xpath(\"//span[@class='d-inline-block ml-0 mr-3']\")\n",
    "for i in lang:\n",
    "    title21=i.text\n",
    "    Language_used.append(title21)\n",
    "Language_used[0:2] "
   ]
  },
  {
   "cell_type": "code",
   "execution_count": 65,
   "metadata": {},
   "outputs": [],
   "source": [
    "git=pd.DataFrame({})\n",
    "git['title']=Repository_title[0:15]\n",
    "git['desc']=Repository_description[0:15]\n",
    "git['count']=Contributors_count[0:15]\n",
    "git['lang']=Language_used[0:15]"
   ]
  },
  {
   "cell_type": "code",
   "execution_count": 66,
   "metadata": {},
   "outputs": [
    {
     "data": {
      "text/html": [
       "<div>\n",
       "<style scoped>\n",
       "    .dataframe tbody tr th:only-of-type {\n",
       "        vertical-align: middle;\n",
       "    }\n",
       "\n",
       "    .dataframe tbody tr th {\n",
       "        vertical-align: top;\n",
       "    }\n",
       "\n",
       "    .dataframe thead th {\n",
       "        text-align: right;\n",
       "    }\n",
       "</style>\n",
       "<table border=\"1\" class=\"dataframe\">\n",
       "  <thead>\n",
       "    <tr style=\"text-align: right;\">\n",
       "      <th></th>\n",
       "      <th>title</th>\n",
       "      <th>desc</th>\n",
       "      <th>count</th>\n",
       "      <th>lang</th>\n",
       "    </tr>\n",
       "  </thead>\n",
       "  <tbody>\n",
       "    <tr>\n",
       "      <th>0</th>\n",
       "      <td>TheAlgorithms /</td>\n",
       "      <td>All Algorithms implemented in Python</td>\n",
       "      <td>104,807</td>\n",
       "      <td>Python</td>\n",
       "    </tr>\n",
       "    <tr>\n",
       "      <th>1</th>\n",
       "      <td>scala-open-letter /</td>\n",
       "      <td>📝 Algorithms and data structures implemented i...</td>\n",
       "      <td>29,459</td>\n",
       "      <td>Ruby</td>\n",
       "    </tr>\n",
       "    <tr>\n",
       "      <th>2</th>\n",
       "      <td>trekhleb /</td>\n",
       "      <td>TLS/SSL and crypto library</td>\n",
       "      <td>26</td>\n",
       "      <td>JavaScript</td>\n",
       "    </tr>\n",
       "    <tr>\n",
       "      <th>3</th>\n",
       "      <td>openssl /</td>\n",
       "      <td>😏 LeetCode solutions in any programming langua...</td>\n",
       "      <td>258</td>\n",
       "      <td>C</td>\n",
       "    </tr>\n",
       "    <tr>\n",
       "      <th>4</th>\n",
       "      <td>doocs /</td>\n",
       "      <td>List of Computer Science courses with video le...</td>\n",
       "      <td>105,198</td>\n",
       "      <td>Java</td>\n",
       "    </tr>\n",
       "    <tr>\n",
       "      <th>5</th>\n",
       "      <td>Developer-Y /</td>\n",
       "      <td>WinBox is a professional HTML5 window manager ...</td>\n",
       "      <td>17,429</td>\n",
       "      <td>JavaScript</td>\n",
       "    </tr>\n",
       "    <tr>\n",
       "      <th>6</th>\n",
       "      <td>nextapps-de /</td>\n",
       "      <td>Standard Go Project Layout</td>\n",
       "      <td>15,384</td>\n",
       "      <td>Makefile</td>\n",
       "    </tr>\n",
       "    <tr>\n",
       "      <th>7</th>\n",
       "      <td>golang-standards /</td>\n",
       "      <td>The universal proxy toolchain for Android.</td>\n",
       "      <td>6,830</td>\n",
       "      <td>Kotlin</td>\n",
       "    </tr>\n",
       "    <tr>\n",
       "      <th>8</th>\n",
       "      <td>nekohasekai /</td>\n",
       "      <td>Automated Binance trading bot - Buy low/Sell h...</td>\n",
       "      <td>3,145</td>\n",
       "      <td>JavaScript</td>\n",
       "    </tr>\n",
       "    <tr>\n",
       "      <th>9</th>\n",
       "      <td>chrisleekr /</td>\n",
       "      <td>Simple Ants simulator</td>\n",
       "      <td>827</td>\n",
       "      <td>C++</td>\n",
       "    </tr>\n",
       "    <tr>\n",
       "      <th>10</th>\n",
       "      <td>johnBuffer /</td>\n",
       "      <td>Unity Open Project #1: Chop Chop</td>\n",
       "      <td>22,647</td>\n",
       "      <td>C#</td>\n",
       "    </tr>\n",
       "    <tr>\n",
       "      <th>11</th>\n",
       "      <td>UnityTechnologies /</td>\n",
       "      <td>🐉 Material Component Framework for Vue</td>\n",
       "      <td>3,147</td>\n",
       "      <td>TypeScript</td>\n",
       "    </tr>\n",
       "    <tr>\n",
       "      <th>12</th>\n",
       "      <td>vuetifyjs /</td>\n",
       "      <td>Python - 100天从新手到大师</td>\n",
       "      <td>1,365</td>\n",
       "      <td>Python</td>\n",
       "    </tr>\n",
       "    <tr>\n",
       "      <th>13</th>\n",
       "      <td>jackfrued /</td>\n",
       "      <td>Ansible is a radically simple IT automation pl...</td>\n",
       "      <td>26</td>\n",
       "      <td>Python</td>\n",
       "    </tr>\n",
       "    <tr>\n",
       "      <th>14</th>\n",
       "      <td>ansible /</td>\n",
       "      <td>🛁 Clean Code concepts adapted for JavaScript</td>\n",
       "      <td>22,919</td>\n",
       "      <td>JavaScript</td>\n",
       "    </tr>\n",
       "  </tbody>\n",
       "</table>\n",
       "</div>"
      ],
      "text/plain": [
       "                  title                                               desc  \\\n",
       "0       TheAlgorithms /               All Algorithms implemented in Python   \n",
       "1   scala-open-letter /  📝 Algorithms and data structures implemented i...   \n",
       "2            trekhleb /                         TLS/SSL and crypto library   \n",
       "3             openssl /  😏 LeetCode solutions in any programming langua...   \n",
       "4               doocs /  List of Computer Science courses with video le...   \n",
       "5         Developer-Y /  WinBox is a professional HTML5 window manager ...   \n",
       "6         nextapps-de /                         Standard Go Project Layout   \n",
       "7    golang-standards /         The universal proxy toolchain for Android.   \n",
       "8         nekohasekai /  Automated Binance trading bot - Buy low/Sell h...   \n",
       "9          chrisleekr /                              Simple Ants simulator   \n",
       "10         johnBuffer /                   Unity Open Project #1: Chop Chop   \n",
       "11  UnityTechnologies /             🐉 Material Component Framework for Vue   \n",
       "12          vuetifyjs /                                Python - 100天从新手到大师   \n",
       "13          jackfrued /  Ansible is a radically simple IT automation pl...   \n",
       "14            ansible /       🛁 Clean Code concepts adapted for JavaScript   \n",
       "\n",
       "      count        lang  \n",
       "0   104,807      Python  \n",
       "1    29,459        Ruby  \n",
       "2        26  JavaScript  \n",
       "3       258           C  \n",
       "4   105,198        Java  \n",
       "5    17,429  JavaScript  \n",
       "6    15,384    Makefile  \n",
       "7     6,830      Kotlin  \n",
       "8     3,145  JavaScript  \n",
       "9       827         C++  \n",
       "10   22,647          C#  \n",
       "11    3,147  TypeScript  \n",
       "12    1,365      Python  \n",
       "13       26      Python  \n",
       "14   22,919  JavaScript  "
      ]
     },
     "execution_count": 66,
     "metadata": {},
     "output_type": "execute_result"
    }
   ],
   "source": [
    "git"
   ]
  },
  {
   "cell_type": "markdown",
   "metadata": {},
   "source": [
    "# 6 Scrape the details of top 100 songs on billiboard.com."
   ]
  },
  {
   "cell_type": "code",
   "execution_count": 2,
   "metadata": {},
   "outputs": [],
   "source": [
    "#lets first connect to the web driver\n",
    "driver5=webdriver.Chrome(r\"C://chromedriver.exe\")\n",
    "driver5.get('https://www.billboard.com/')\n",
    "\n",
    "url='https://www.billboard.com/charts/hot-100'\n",
    "\n",
    "#lets open the webpage through web driver\n",
    "driver5.get(url)"
   ]
  },
  {
   "cell_type": "code",
   "execution_count": 3,
   "metadata": {},
   "outputs": [],
   "source": [
    "Song_name=[]\n",
    "Artist_name=[]\n",
    "Last_week_rank=[]\n",
    "Peak_rank=[]\n",
    "Weeks_on_board=[]"
   ]
  },
  {
   "cell_type": "code",
   "execution_count": 5,
   "metadata": {},
   "outputs": [
    {
     "data": {
      "text/plain": [
       "['Rapstar', 'Leave The Door Open']"
      ]
     },
     "execution_count": 5,
     "metadata": {},
     "output_type": "execute_result"
    }
   ],
   "source": [
    "title=driver5.find_elements_by_xpath(\"//span[@class='chart-element__information__song text--truncate color--primary']\")\n",
    "for i in title:\n",
    "    title12=i.text\n",
    "    Song_name.append(title12)\n",
    "Song_name[0:2] "
   ]
  },
  {
   "cell_type": "code",
   "execution_count": 7,
   "metadata": {},
   "outputs": [
    {
     "data": {
      "text/plain": [
       "['Polo G', 'Silk Sonic (Bruno Mars & Anderson .Paak)']"
      ]
     },
     "execution_count": 7,
     "metadata": {},
     "output_type": "execute_result"
    }
   ],
   "source": [
    "art=driver5.find_elements_by_xpath(\"//span[@class='chart-element__information__artist text--truncate color--secondary']\")\n",
    "for i in art:\n",
    "    title1=i.text\n",
    "    Artist_name.append(title1)\n",
    "Artist_name[0:2]"
   ]
  },
  {
   "cell_type": "code",
   "execution_count": 8,
   "metadata": {},
   "outputs": [
    {
     "data": {
      "text/plain": [
       "['1', '3']"
      ]
     },
     "execution_count": 8,
     "metadata": {},
     "output_type": "execute_result"
    }
   ],
   "source": [
    "rank=driver5.find_elements_by_xpath(\"//div[@class='chart-element__meta text--center color--secondary text--last']\")\n",
    "for i in rank:\n",
    "    title2=i.text\n",
    "    Last_week_rank.append(title2)\n",
    "Last_week_rank[0:2]"
   ]
  },
  {
   "cell_type": "code",
   "execution_count": 9,
   "metadata": {},
   "outputs": [
    {
     "data": {
      "text/plain": [
       "['1', '1']"
      ]
     },
     "execution_count": 9,
     "metadata": {},
     "output_type": "execute_result"
    }
   ],
   "source": [
    "peak=driver5.find_elements_by_xpath(\"//div[@class='chart-element__meta text--center color--secondary text--peak']\")\n",
    "for i in peak:\n",
    "    title21=i.text\n",
    "    Peak_rank.append(title21)\n",
    "Peak_rank[0:2]"
   ]
  },
  {
   "cell_type": "code",
   "execution_count": 10,
   "metadata": {},
   "outputs": [
    {
     "data": {
      "text/plain": [
       "['2', '7']"
      ]
     },
     "execution_count": 10,
     "metadata": {},
     "output_type": "execute_result"
    }
   ],
   "source": [
    "board=driver5.find_elements_by_xpath(\"//div[@class='chart-element__meta text--center color--secondary text--week']\")\n",
    "for i in board:\n",
    "    title3=i.text\n",
    "    Weeks_on_board.append(title3)\n",
    "Weeks_on_board[0:2]"
   ]
  },
  {
   "cell_type": "code",
   "execution_count": 11,
   "metadata": {},
   "outputs": [],
   "source": [
    "songs=pd.DataFrame({})\n",
    "songs['song_name']=Song_name[0:100]\n",
    "songs['artist']=Artist_name[0:100]\n",
    "songs['weeek_rank']=Last_week_rank[0:100]\n",
    "songs['peak_rank']=Peak_rank[0:100]\n",
    "songs['board_week']=Weeks_on_board[0:100]"
   ]
  },
  {
   "cell_type": "code",
   "execution_count": 12,
   "metadata": {},
   "outputs": [
    {
     "data": {
      "text/html": [
       "<div>\n",
       "<style scoped>\n",
       "    .dataframe tbody tr th:only-of-type {\n",
       "        vertical-align: middle;\n",
       "    }\n",
       "\n",
       "    .dataframe tbody tr th {\n",
       "        vertical-align: top;\n",
       "    }\n",
       "\n",
       "    .dataframe thead th {\n",
       "        text-align: right;\n",
       "    }\n",
       "</style>\n",
       "<table border=\"1\" class=\"dataframe\">\n",
       "  <thead>\n",
       "    <tr style=\"text-align: right;\">\n",
       "      <th></th>\n",
       "      <th>song_name</th>\n",
       "      <th>artist</th>\n",
       "      <th>weeek_rank</th>\n",
       "      <th>peak_rank</th>\n",
       "      <th>board_week</th>\n",
       "    </tr>\n",
       "  </thead>\n",
       "  <tbody>\n",
       "    <tr>\n",
       "      <th>0</th>\n",
       "      <td>Rapstar</td>\n",
       "      <td>Polo G</td>\n",
       "      <td>1</td>\n",
       "      <td>1</td>\n",
       "      <td>2</td>\n",
       "    </tr>\n",
       "    <tr>\n",
       "      <th>1</th>\n",
       "      <td>Leave The Door Open</td>\n",
       "      <td>Silk Sonic (Bruno Mars &amp; Anderson .Paak)</td>\n",
       "      <td>3</td>\n",
       "      <td>1</td>\n",
       "      <td>7</td>\n",
       "    </tr>\n",
       "    <tr>\n",
       "      <th>2</th>\n",
       "      <td>Peaches</td>\n",
       "      <td>Justin Bieber Featuring Daniel Caesar &amp; Giveon</td>\n",
       "      <td>4</td>\n",
       "      <td>1</td>\n",
       "      <td>5</td>\n",
       "    </tr>\n",
       "    <tr>\n",
       "      <th>3</th>\n",
       "      <td>Montero (Call Me By Your Name)</td>\n",
       "      <td>Lil Nas X</td>\n",
       "      <td>2</td>\n",
       "      <td>1</td>\n",
       "      <td>4</td>\n",
       "    </tr>\n",
       "    <tr>\n",
       "      <th>4</th>\n",
       "      <td>Levitating</td>\n",
       "      <td>Dua Lipa Featuring DaBaby</td>\n",
       "      <td>6</td>\n",
       "      <td>5</td>\n",
       "      <td>29</td>\n",
       "    </tr>\n",
       "    <tr>\n",
       "      <th>...</th>\n",
       "      <td>...</td>\n",
       "      <td>...</td>\n",
       "      <td>...</td>\n",
       "      <td>...</td>\n",
       "      <td>...</td>\n",
       "    </tr>\n",
       "    <tr>\n",
       "      <th>95</th>\n",
       "      <td>Go!</td>\n",
       "      <td>Moneybagg Yo Featuring BIG30</td>\n",
       "      <td>-</td>\n",
       "      <td>96</td>\n",
       "      <td>1</td>\n",
       "    </tr>\n",
       "    <tr>\n",
       "      <th>96</th>\n",
       "      <td>Drankin N Smokin</td>\n",
       "      <td>Future &amp; Lil Uzi Vert</td>\n",
       "      <td>-</td>\n",
       "      <td>31</td>\n",
       "      <td>12</td>\n",
       "    </tr>\n",
       "    <tr>\n",
       "      <th>97</th>\n",
       "      <td>Monsters</td>\n",
       "      <td>All Time Low Featuring Demi Lovato &amp; blackbear</td>\n",
       "      <td>95</td>\n",
       "      <td>55</td>\n",
       "      <td>17</td>\n",
       "    </tr>\n",
       "    <tr>\n",
       "      <th>98</th>\n",
       "      <td>Slatty</td>\n",
       "      <td>Young Thug &amp; Gunna Featuring Yak Gotti &amp; Lil Duke</td>\n",
       "      <td>-</td>\n",
       "      <td>99</td>\n",
       "      <td>1</td>\n",
       "    </tr>\n",
       "    <tr>\n",
       "      <th>99</th>\n",
       "      <td>4 Da Gang</td>\n",
       "      <td>42 Dugg &amp; Roddy Ricch</td>\n",
       "      <td>84</td>\n",
       "      <td>67</td>\n",
       "      <td>3</td>\n",
       "    </tr>\n",
       "  </tbody>\n",
       "</table>\n",
       "<p>100 rows × 5 columns</p>\n",
       "</div>"
      ],
      "text/plain": [
       "                         song_name  \\\n",
       "0                          Rapstar   \n",
       "1              Leave The Door Open   \n",
       "2                          Peaches   \n",
       "3   Montero (Call Me By Your Name)   \n",
       "4                       Levitating   \n",
       "..                             ...   \n",
       "95                             Go!   \n",
       "96                Drankin N Smokin   \n",
       "97                        Monsters   \n",
       "98                          Slatty   \n",
       "99                       4 Da Gang   \n",
       "\n",
       "                                               artist weeek_rank peak_rank  \\\n",
       "0                                              Polo G          1         1   \n",
       "1            Silk Sonic (Bruno Mars & Anderson .Paak)          3         1   \n",
       "2      Justin Bieber Featuring Daniel Caesar & Giveon          4         1   \n",
       "3                                           Lil Nas X          2         1   \n",
       "4                           Dua Lipa Featuring DaBaby          6         5   \n",
       "..                                                ...        ...       ...   \n",
       "95                       Moneybagg Yo Featuring BIG30          -        96   \n",
       "96                              Future & Lil Uzi Vert          -        31   \n",
       "97     All Time Low Featuring Demi Lovato & blackbear         95        55   \n",
       "98  Young Thug & Gunna Featuring Yak Gotti & Lil Duke          -        99   \n",
       "99                              42 Dugg & Roddy Ricch         84        67   \n",
       "\n",
       "   board_week  \n",
       "0           2  \n",
       "1           7  \n",
       "2           5  \n",
       "3           4  \n",
       "4          29  \n",
       "..        ...  \n",
       "95          1  \n",
       "96         12  \n",
       "97         17  \n",
       "98          1  \n",
       "99          3  \n",
       "\n",
       "[100 rows x 5 columns]"
      ]
     },
     "execution_count": 12,
     "metadata": {},
     "output_type": "execute_result"
    }
   ],
   "source": [
    "songs"
   ]
  },
  {
   "cell_type": "markdown",
   "metadata": {},
   "source": [
    "# 7. Scrape the details of Data science recruiters from naukri.com."
   ]
  },
  {
   "cell_type": "code",
   "execution_count": 20,
   "metadata": {},
   "outputs": [],
   "source": [
    "#lets first connect to the web driver\n",
    "driver6=webdriver.Chrome(r\"C://chromedriver.exe\")\n",
    "driver6.get('https://www.naukri.com/')\n",
    "\n",
    "url='https://www.naukri.com/data-science-recruiters'\n",
    "\n",
    "search_field_designation=driver6.find_element_by_id(\"root\")\n",
    "search_field_location=driver6.find_element_by_id(\"skill\")\n",
    "search_field_designation.send_keys(\"Recruiters\")\n",
    "search_field_location.send_keys(\"Data Science\")\n",
    "\n",
    "#lets open the webpage through web driver\n",
    "driver6.get(url)"
   ]
  },
  {
   "cell_type": "code",
   "execution_count": 17,
   "metadata": {},
   "outputs": [],
   "source": [
    "search_button=driver6.find_element_by_xpath(\"//div[@class='search-btn']/button\")\n",
    "search_button.click()"
   ]
  },
  {
   "cell_type": "code",
   "execution_count": 21,
   "metadata": {},
   "outputs": [],
   "source": [
    "Name=[]\n",
    "Designation=[]\n",
    "Company=[]\n",
    "Skills_they_hire=[]\n",
    "Location=[]"
   ]
  },
  {
   "cell_type": "code",
   "execution_count": 23,
   "metadata": {},
   "outputs": [
    {
     "data": {
      "text/plain": [
       "['Aakash Harit', 'shravan Kumar Gaddam']"
      ]
     },
     "execution_count": 23,
     "metadata": {},
     "output_type": "execute_result"
    }
   ],
   "source": [
    "n=driver6.find_elements_by_xpath(\"//span[@class='fl ellipsis']\")\n",
    "for i in n:\n",
    "    title21=i.text\n",
    "    Name.append(title21)\n",
    "Name[0:2]"
   ]
  },
  {
   "cell_type": "code",
   "execution_count": 24,
   "metadata": {},
   "outputs": [
    {
     "data": {
      "text/plain": [
       "['HR Manager', 'Company Recruiter']"
      ]
     },
     "execution_count": 24,
     "metadata": {},
     "output_type": "execute_result"
    }
   ],
   "source": [
    "d=driver6.find_elements_by_xpath(\"//span[@class='ellipsis clr']\")\n",
    "for i in d:\n",
    "    title2=i.text\n",
    "    Designation.append(title2)\n",
    "Designation[0:2]"
   ]
  },
  {
   "cell_type": "code",
   "execution_count": 36,
   "metadata": {},
   "outputs": [
    {
     "data": {
      "text/plain": [
       "['Aakash Harit', 'Data Science Network']"
      ]
     },
     "execution_count": 36,
     "metadata": {},
     "output_type": "execute_result"
    }
   ],
   "source": [
    "c=driver6.find_elements_by_xpath(\"//p[@class='highlightable']/a\")\n",
    "for i in c:\n",
    "    title1=i.text\n",
    "    Company.append(title1)\n",
    "Company[0:2]"
   ]
  },
  {
   "cell_type": "code",
   "execution_count": 33,
   "metadata": {},
   "outputs": [
    {
     "data": {
      "text/plain": [
       "['Classic ASP Developer, Internet Marketing Professional, Data Science SME, Content Writers, SEO Professional, Revenue Professional',\n",
       " '.Net, Java, Data Science, Linux Administration, Sql Server Development, Winforms, Wcf Services, Wpf, Telecom Engineering, Technical Management, Software']"
      ]
     },
     "execution_count": 33,
     "metadata": {},
     "output_type": "execute_result"
    }
   ],
   "source": [
    "s=driver6.find_elements_by_xpath(\"//div[@class='hireSec highlightable']\")\n",
    "for i in s:\n",
    "    title11=i.text\n",
    "    Skills_they_hire.append(title11)\n",
    "Skills_they_hire[0:2]"
   ]
  },
  {
   "cell_type": "code",
   "execution_count": 34,
   "metadata": {},
   "outputs": [
    {
     "data": {
      "text/plain": [
       "['Delhi', 'Hyderabad / Secunderabad']"
      ]
     },
     "execution_count": 34,
     "metadata": {},
     "output_type": "execute_result"
    }
   ],
   "source": [
    "l=driver6.find_elements_by_xpath(\"//small[@class='ellipsis']\")\n",
    "for i in l:\n",
    "    title4=i.text\n",
    "    Location.append(title4)\n",
    "Location[0:2]"
   ]
  },
  {
   "cell_type": "code",
   "execution_count": 38,
   "metadata": {},
   "outputs": [],
   "source": [
    "job=pd.DataFrame({})\n",
    "job['name']=Name[0:10]\n",
    "job['desig']=Designation[0:10]\n",
    "job['comp']=Company[0:10]\n",
    "job['skill']=Skills_they_hire[0:10]\n",
    "job['loca']=Location[0:10]"
   ]
  },
  {
   "cell_type": "code",
   "execution_count": 39,
   "metadata": {},
   "outputs": [
    {
     "data": {
      "text/html": [
       "<div>\n",
       "<style scoped>\n",
       "    .dataframe tbody tr th:only-of-type {\n",
       "        vertical-align: middle;\n",
       "    }\n",
       "\n",
       "    .dataframe tbody tr th {\n",
       "        vertical-align: top;\n",
       "    }\n",
       "\n",
       "    .dataframe thead th {\n",
       "        text-align: right;\n",
       "    }\n",
       "</style>\n",
       "<table border=\"1\" class=\"dataframe\">\n",
       "  <thead>\n",
       "    <tr style=\"text-align: right;\">\n",
       "      <th></th>\n",
       "      <th>name</th>\n",
       "      <th>desig</th>\n",
       "      <th>comp</th>\n",
       "      <th>skill</th>\n",
       "      <th>loca</th>\n",
       "    </tr>\n",
       "  </thead>\n",
       "  <tbody>\n",
       "    <tr>\n",
       "      <th>0</th>\n",
       "      <td>Aakash Harit</td>\n",
       "      <td>HR Manager</td>\n",
       "      <td>Aakash Harit</td>\n",
       "      <td>Classic ASP Developer, Internet Marketing Prof...</td>\n",
       "      <td>Delhi</td>\n",
       "    </tr>\n",
       "    <tr>\n",
       "      <th>1</th>\n",
       "      <td>shravan Kumar Gaddam</td>\n",
       "      <td>Company Recruiter</td>\n",
       "      <td>Data Science Network</td>\n",
       "      <td>.Net, Java, Data Science, Linux Administration...</td>\n",
       "      <td>Hyderabad / Secunderabad</td>\n",
       "    </tr>\n",
       "    <tr>\n",
       "      <th>2</th>\n",
       "      <td>Talent Acquisition Executive</td>\n",
       "      <td>Recruitment Professional</td>\n",
       "      <td>shravan Kumar Gaddam</td>\n",
       "      <td>Web Designing, html5, Angular.js, seo, hadoop,...</td>\n",
       "      <td>Chandigarh</td>\n",
       "    </tr>\n",
       "    <tr>\n",
       "      <th>3</th>\n",
       "      <td>Anik Agrawal</td>\n",
       "      <td>Company Recruiter</td>\n",
       "      <td>Shore Infotech India Pvt. Ltd</td>\n",
       "      <td>Mean Stack, javascript, angularjs, mongodb, We...</td>\n",
       "      <td>Ahmedabad</td>\n",
       "    </tr>\n",
       "    <tr>\n",
       "      <th>4</th>\n",
       "      <td>MARSIAN Technologies LLP</td>\n",
       "      <td>Company HR</td>\n",
       "      <td>Talent Acquisition Executive</td>\n",
       "      <td>Data Science, Artificial Intelligence, Machine...</td>\n",
       "      <td>Pune</td>\n",
       "    </tr>\n",
       "    <tr>\n",
       "      <th>5</th>\n",
       "      <td>subhas patel</td>\n",
       "      <td>Founder CEO</td>\n",
       "      <td>XenonStack</td>\n",
       "      <td>Hadoop, Spark, Digital Strategy, Data Architec...</td>\n",
       "      <td>UK - (london)</td>\n",
       "    </tr>\n",
       "    <tr>\n",
       "      <th>6</th>\n",
       "      <td>Abhishek - Only Analytics Hiring - India and</td>\n",
       "      <td>Recruitment Lead Consultant</td>\n",
       "      <td>Anik Agrawal</td>\n",
       "      <td>Analytics, Business Intelligence, Business Ana...</td>\n",
       "      <td>Vadodara / Baroda</td>\n",
       "    </tr>\n",
       "    <tr>\n",
       "      <th>7</th>\n",
       "      <td>Institute for Financial Management and Resear</td>\n",
       "      <td>Programme Manager</td>\n",
       "      <td>Enerlytics Software Solutions Pvt Ltd</td>\n",
       "      <td>Data Science</td>\n",
       "      <td>Chennai</td>\n",
       "    </tr>\n",
       "    <tr>\n",
       "      <th>8</th>\n",
       "      <td>Balu Ramesh</td>\n",
       "      <td>HR Administrator</td>\n",
       "      <td>MARSIAN Technologies LLP</td>\n",
       "      <td>Machine Learning, algorithms, Go Getter, Compu...</td>\n",
       "      <td>Trivandrum</td>\n",
       "    </tr>\n",
       "    <tr>\n",
       "      <th>9</th>\n",
       "      <td>Asif Lucknowi</td>\n",
       "      <td>Director</td>\n",
       "      <td>MARSIAN Technologies LLP</td>\n",
       "      <td>Technical Training, Software Development, Pres...</td>\n",
       "      <td>Indore</td>\n",
       "    </tr>\n",
       "  </tbody>\n",
       "</table>\n",
       "</div>"
      ],
      "text/plain": [
       "                                            name                        desig  \\\n",
       "0                                   Aakash Harit                   HR Manager   \n",
       "1                           shravan Kumar Gaddam            Company Recruiter   \n",
       "2                   Talent Acquisition Executive     Recruitment Professional   \n",
       "3                                   Anik Agrawal            Company Recruiter   \n",
       "4                       MARSIAN Technologies LLP                   Company HR   \n",
       "5                                   subhas patel                  Founder CEO   \n",
       "6   Abhishek - Only Analytics Hiring - India and  Recruitment Lead Consultant   \n",
       "7  Institute for Financial Management and Resear            Programme Manager   \n",
       "8                                    Balu Ramesh             HR Administrator   \n",
       "9                                  Asif Lucknowi                     Director   \n",
       "\n",
       "                                    comp  \\\n",
       "0                           Aakash Harit   \n",
       "1                   Data Science Network   \n",
       "2                   shravan Kumar Gaddam   \n",
       "3          Shore Infotech India Pvt. Ltd   \n",
       "4           Talent Acquisition Executive   \n",
       "5                             XenonStack   \n",
       "6                           Anik Agrawal   \n",
       "7  Enerlytics Software Solutions Pvt Ltd   \n",
       "8               MARSIAN Technologies LLP   \n",
       "9               MARSIAN Technologies LLP   \n",
       "\n",
       "                                               skill                      loca  \n",
       "0  Classic ASP Developer, Internet Marketing Prof...                     Delhi  \n",
       "1  .Net, Java, Data Science, Linux Administration...  Hyderabad / Secunderabad  \n",
       "2  Web Designing, html5, Angular.js, seo, hadoop,...                Chandigarh  \n",
       "3  Mean Stack, javascript, angularjs, mongodb, We...                 Ahmedabad  \n",
       "4  Data Science, Artificial Intelligence, Machine...                      Pune  \n",
       "5  Hadoop, Spark, Digital Strategy, Data Architec...             UK - (london)  \n",
       "6  Analytics, Business Intelligence, Business Ana...         Vadodara / Baroda  \n",
       "7                                       Data Science                   Chennai  \n",
       "8  Machine Learning, algorithms, Go Getter, Compu...                Trivandrum  \n",
       "9  Technical Training, Software Development, Pres...                    Indore  "
      ]
     },
     "execution_count": 39,
     "metadata": {},
     "output_type": "execute_result"
    }
   ],
   "source": [
    "job"
   ]
  },
  {
   "cell_type": "markdown",
   "metadata": {},
   "source": [
    "# 8. Scrape the details of Highest selling novels."
   ]
  },
  {
   "cell_type": "code",
   "execution_count": 40,
   "metadata": {},
   "outputs": [],
   "source": [
    "#lets first connect to the web driver\n",
    "driver7=webdriver.Chrome(r\"C://chromedriver.exe\")\n",
    "driver7.get('https://www.theguardian.com/')\n",
    "\n",
    "url='https://www.theguardian.com/news/datablog/2012/aug/09/best-selling-books-all-time-fifty-shades-grey-compare'\n",
    "\n",
    "#lets open the webpage through web driver\n",
    "driver7.get(url)"
   ]
  },
  {
   "cell_type": "code",
   "execution_count": 50,
   "metadata": {},
   "outputs": [],
   "source": [
    "Book_name=[]\n",
    "Author_name=[]\n",
    "Volumes_sold=[]\n",
    "Publisher=[]\n",
    "Genre=[]"
   ]
  },
  {
   "cell_type": "code",
   "execution_count": 55,
   "metadata": {},
   "outputs": [
    {
     "data": {
      "text/plain": [
       "['Da Vinci Code,The',\n",
       " 'Da Vinci Code,The',\n",
       " '1',\n",
       " 'Da Vinci Code,The',\n",
       " 'Brown, Dan',\n",
       " '5,094,805',\n",
       " 'Transworld',\n",
       " '2',\n",
       " 'Harry Potter and the Deathly Hallows',\n",
       " 'Rowling, J.K.',\n",
       " '4,475,152',\n",
       " 'Bloomsbury',\n",
       " '3',\n",
       " \"Harry Potter and the Philosopher's Stone\",\n",
       " 'Rowling, J.K.',\n",
       " '4,200,654',\n",
       " 'Bloomsbury',\n",
       " '4',\n",
       " 'Harry Potter and the Order of the Phoenix',\n",
       " 'Rowling, J.K.',\n",
       " '4,179,479',\n",
       " 'Bloomsbury',\n",
       " '5',\n",
       " 'Fifty Shades of Grey',\n",
       " 'James, E. L.',\n",
       " '3,758,936',\n",
       " 'Random House',\n",
       " '6',\n",
       " 'Harry Potter and the Goblet of Fire',\n",
       " 'Rowling, J.K.',\n",
       " '3,583,215',\n",
       " 'Bloomsbury',\n",
       " '7',\n",
       " 'Harry Potter and the Chamber of Secrets',\n",
       " 'Rowling, J.K.',\n",
       " '3,484,047',\n",
       " 'Bloomsbury',\n",
       " '8',\n",
       " 'Harry Potter and the Prisoner of Azkaban',\n",
       " 'Rowling, J.K.',\n",
       " '3,377,906',\n",
       " 'Bloomsbury',\n",
       " '9',\n",
       " 'Angels and Demons',\n",
       " 'Brown, Dan',\n",
       " '3,193,946',\n",
       " 'Transworld',\n",
       " '10',\n",
       " \"Harry Potter and the Half-blood Prince:Children's Edition\",\n",
       " 'Rowling, J.K.',\n",
       " '2,950,264',\n",
       " 'Bloomsbury',\n",
       " '11',\n",
       " 'Fifty Shades Darker',\n",
       " 'James, E. L.',\n",
       " '2,479,784',\n",
       " 'Random House',\n",
       " '12',\n",
       " 'Twilight',\n",
       " 'Meyer, Stephenie',\n",
       " '2,315,405',\n",
       " 'Little, Brown Book',\n",
       " '13',\n",
       " 'Girl with the Dragon Tattoo,The:Millennium Trilogy',\n",
       " 'Larsson, Stieg',\n",
       " '2,233,570',\n",
       " 'Quercus',\n",
       " '14',\n",
       " 'Fifty Shades Freed',\n",
       " 'James, E. L.',\n",
       " '2,193,928',\n",
       " 'Random House',\n",
       " '15',\n",
       " 'Lost Symbol,The',\n",
       " 'Brown, Dan',\n",
       " '2,183,031',\n",
       " 'Transworld',\n",
       " '16',\n",
       " 'New Moon',\n",
       " 'Meyer, Stephenie',\n",
       " '2,152,737',\n",
       " 'Little, Brown Book',\n",
       " '17',\n",
       " 'Deception Point',\n",
       " 'Brown, Dan',\n",
       " '2,062,145',\n",
       " 'Transworld',\n",
       " '18',\n",
       " 'Eclipse',\n",
       " 'Meyer, Stephenie',\n",
       " '2,052,876',\n",
       " 'Little, Brown Book',\n",
       " '19',\n",
       " 'Lovely Bones,The',\n",
       " 'Sebold, Alice',\n",
       " '2,005,598',\n",
       " 'Pan Macmillan',\n",
       " '20',\n",
       " 'Curious Incident of the Dog in the Night-time,The',\n",
       " 'Haddon, Mark']"
      ]
     },
     "execution_count": 55,
     "metadata": {},
     "output_type": "execute_result"
    }
   ],
   "source": [
    "b=driver7.find_elements_by_xpath(\"//td[@class='left']\")\n",
    "for i in b:\n",
    "    title4=i.text\n",
    "    Book_name.append(title4)\n",
    "Book_name[0:100]"
   ]
  },
  {
   "cell_type": "markdown",
   "metadata": {},
   "source": [
    "# 9. Scrape the details most watched tv series of all time from imdb.com."
   ]
  },
  {
   "cell_type": "code",
   "execution_count": 97,
   "metadata": {},
   "outputs": [],
   "source": [
    "#lets first connect to the web driver\n",
    "driver8=webdriver.Chrome(r\"C://chromedriver.exe\")\n",
    "driver8.get('https://www.imdb.com/')\n",
    "\n",
    "url='https://www.imdb.com/search/keyword/?keywords=tv-series&ref_=fn_al_kw_1'\n",
    "\n",
    "#lets open the webpage through web driver\n",
    "driver8.get(url)"
   ]
  },
  {
   "cell_type": "code",
   "execution_count": 98,
   "metadata": {},
   "outputs": [],
   "source": [
    "Name=[]\n",
    "Genre=[]\n",
    "Run_time=[]\n",
    "Ratings=[]\n",
    "Votes=[]"
   ]
  },
  {
   "cell_type": "code",
   "execution_count": 99,
   "metadata": {},
   "outputs": [
    {
     "data": {
      "text/plain": [
       "['1. The Yard (2018– )', '2. Heirs of the Night (2019– )']"
      ]
     },
     "execution_count": 99,
     "metadata": {},
     "output_type": "execute_result"
    }
   ],
   "source": [
    "l=driver8.find_elements_by_xpath(\"//h3[@class='lister-item-header']\")\n",
    "for i in l:\n",
    "    title4=i.text\n",
    "    Name.append(title4)\n",
    "Name[0:2]"
   ]
  },
  {
   "cell_type": "code",
   "execution_count": 100,
   "metadata": {},
   "outputs": [
    {
     "data": {
      "text/plain": [
       "['120 min', '25 min']"
      ]
     },
     "execution_count": 100,
     "metadata": {},
     "output_type": "execute_result"
    }
   ],
   "source": [
    "g=driver8.find_elements_by_xpath(\"//span[@class='runtime']\")\n",
    "for i in g:\n",
    "    title11=i.text\n",
    "    Run_time.append(title11)\n",
    "Run_time[0:2]"
   ]
  },
  {
   "cell_type": "code",
   "execution_count": 101,
   "metadata": {},
   "outputs": [
    {
     "data": {
      "text/plain": [
       "['Crime, Drama', 'Fantasy, Horror']"
      ]
     },
     "execution_count": 101,
     "metadata": {},
     "output_type": "execute_result"
    }
   ],
   "source": [
    "g=driver8.find_elements_by_xpath(\"//span[@class='genre']\")\n",
    "for i in g:\n",
    "    title2=i.text\n",
    "    Genre.append(title2)\n",
    "Genre[0:2]"
   ]
  },
  {
   "cell_type": "code",
   "execution_count": 102,
   "metadata": {},
   "outputs": [
    {
     "data": {
      "text/plain": [
       "['18', 'TV-14']"
      ]
     },
     "execution_count": 102,
     "metadata": {},
     "output_type": "execute_result"
    }
   ],
   "source": [
    "a=driver8.find_elements_by_xpath(\"//span[@class='certificate']\")\n",
    "for i in a:\n",
    "    title21=i.text\n",
    "    Votes.append(title21)\n",
    "Votes[0:2]"
   ]
  },
  {
   "cell_type": "code",
   "execution_count": 103,
   "metadata": {},
   "outputs": [
    {
     "data": {
      "text/plain": [
       "['7.2', '7.0']"
      ]
     },
     "execution_count": 103,
     "metadata": {},
     "output_type": "execute_result"
    }
   ],
   "source": [
    "b=driver8.find_elements_by_xpath(\"//div[@class='inline-block ratings-imdb-rating']\")\n",
    "for i in b:\n",
    "    title3=i.text\n",
    "    Ratings.append(title3)\n",
    "Ratings[0:2]"
   ]
  },
  {
   "cell_type": "code",
   "execution_count": 104,
   "metadata": {},
   "outputs": [],
   "source": [
    "tv=pd.DataFrame({})\n",
    "tv['name']=Name[0:10]\n",
    "tv['genre']=Genre[0:10]\n",
    "tv['time']=Run_time[0:10]\n",
    "tv['vote']=Votes[0:10]\n",
    "tv['rating']=Ratings[0:10]"
   ]
  },
  {
   "cell_type": "code",
   "execution_count": 105,
   "metadata": {},
   "outputs": [
    {
     "data": {
      "text/html": [
       "<div>\n",
       "<style scoped>\n",
       "    .dataframe tbody tr th:only-of-type {\n",
       "        vertical-align: middle;\n",
       "    }\n",
       "\n",
       "    .dataframe tbody tr th {\n",
       "        vertical-align: top;\n",
       "    }\n",
       "\n",
       "    .dataframe thead th {\n",
       "        text-align: right;\n",
       "    }\n",
       "</style>\n",
       "<table border=\"1\" class=\"dataframe\">\n",
       "  <thead>\n",
       "    <tr style=\"text-align: right;\">\n",
       "      <th></th>\n",
       "      <th>name</th>\n",
       "      <th>genre</th>\n",
       "      <th>time</th>\n",
       "      <th>vote</th>\n",
       "      <th>rating</th>\n",
       "    </tr>\n",
       "  </thead>\n",
       "  <tbody>\n",
       "    <tr>\n",
       "      <th>0</th>\n",
       "      <td>1. The Yard (2018– )</td>\n",
       "      <td>Crime, Drama</td>\n",
       "      <td>120 min</td>\n",
       "      <td>18</td>\n",
       "      <td>7.2</td>\n",
       "    </tr>\n",
       "    <tr>\n",
       "      <th>1</th>\n",
       "      <td>2. Heirs of the Night (2019– )</td>\n",
       "      <td>Fantasy, Horror</td>\n",
       "      <td>25 min</td>\n",
       "      <td>TV-14</td>\n",
       "      <td>7.0</td>\n",
       "    </tr>\n",
       "    <tr>\n",
       "      <th>2</th>\n",
       "      <td>3. Year of the Rabbit (2019– )</td>\n",
       "      <td>Comedy, Crime, Mystery</td>\n",
       "      <td>30 min</td>\n",
       "      <td>TV-MA</td>\n",
       "      <td>7.4</td>\n",
       "    </tr>\n",
       "    <tr>\n",
       "      <th>3</th>\n",
       "      <td>4. Bozkir (2018–2022)</td>\n",
       "      <td>Crime, Drama, Mystery</td>\n",
       "      <td>50 min</td>\n",
       "      <td>Not Rated</td>\n",
       "      <td>8.1</td>\n",
       "    </tr>\n",
       "    <tr>\n",
       "      <th>4</th>\n",
       "      <td>5. Aynen Aynen (2019– )</td>\n",
       "      <td>Short, Comedy</td>\n",
       "      <td>8 min</td>\n",
       "      <td>TV-MA</td>\n",
       "      <td>7.6</td>\n",
       "    </tr>\n",
       "    <tr>\n",
       "      <th>5</th>\n",
       "      <td>6. Twenties (2020– )</td>\n",
       "      <td>Comedy</td>\n",
       "      <td>21 min</td>\n",
       "      <td>TV-14</td>\n",
       "      <td>6.1</td>\n",
       "    </tr>\n",
       "    <tr>\n",
       "      <th>6</th>\n",
       "      <td>7. Powerless (2017)</td>\n",
       "      <td>Comedy, Fantasy, Sci-Fi</td>\n",
       "      <td>55 min</td>\n",
       "      <td>TV-14</td>\n",
       "      <td>6.4</td>\n",
       "    </tr>\n",
       "    <tr>\n",
       "      <th>7</th>\n",
       "      <td>8. La Unidad (2020– )</td>\n",
       "      <td>Action, Drama, Thriller</td>\n",
       "      <td>25 min</td>\n",
       "      <td>TV-MA</td>\n",
       "      <td>7.3</td>\n",
       "    </tr>\n",
       "    <tr>\n",
       "      <th>8</th>\n",
       "      <td>9. Osmosis (2019)</td>\n",
       "      <td>Romance, Sci-Fi</td>\n",
       "      <td>25 min</td>\n",
       "      <td>TV-14</td>\n",
       "      <td>5.9</td>\n",
       "    </tr>\n",
       "    <tr>\n",
       "      <th>9</th>\n",
       "      <td>10. Skam España (2018–2020)</td>\n",
       "      <td>Drama, Romance</td>\n",
       "      <td>60 min</td>\n",
       "      <td>TV-G</td>\n",
       "      <td>7.5</td>\n",
       "    </tr>\n",
       "  </tbody>\n",
       "</table>\n",
       "</div>"
      ],
      "text/plain": [
       "                             name                    genre     time  \\\n",
       "0            1. The Yard (2018– )             Crime, Drama  120 min   \n",
       "1  2. Heirs of the Night (2019– )          Fantasy, Horror   25 min   \n",
       "2  3. Year of the Rabbit (2019– )   Comedy, Crime, Mystery   30 min   \n",
       "3           4. Bozkir (2018–2022)    Crime, Drama, Mystery   50 min   \n",
       "4         5. Aynen Aynen (2019– )            Short, Comedy    8 min   \n",
       "5            6. Twenties (2020– )                   Comedy   21 min   \n",
       "6             7. Powerless (2017)  Comedy, Fantasy, Sci-Fi   55 min   \n",
       "7           8. La Unidad (2020– )  Action, Drama, Thriller   25 min   \n",
       "8               9. Osmosis (2019)          Romance, Sci-Fi   25 min   \n",
       "9     10. Skam España (2018–2020)           Drama, Romance   60 min   \n",
       "\n",
       "        vote rating  \n",
       "0         18    7.2  \n",
       "1      TV-14    7.0  \n",
       "2      TV-MA    7.4  \n",
       "3  Not Rated    8.1  \n",
       "4      TV-MA    7.6  \n",
       "5      TV-14    6.1  \n",
       "6      TV-14    6.4  \n",
       "7      TV-MA    7.3  \n",
       "8      TV-14    5.9  \n",
       "9       TV-G    7.5  "
      ]
     },
     "execution_count": 105,
     "metadata": {},
     "output_type": "execute_result"
    }
   ],
   "source": [
    "tv"
   ]
  },
  {
   "cell_type": "markdown",
   "metadata": {},
   "source": [
    "# 10. Details of Datasets from UCI machine learning repositories."
   ]
  },
  {
   "cell_type": "code",
   "execution_count": 2,
   "metadata": {},
   "outputs": [],
   "source": [
    "#lets first connect to the web driver\n",
    "driver9=webdriver.Chrome(r\"C://chromedriver.exe\")\n",
    "driver9.get('https://archive.ics.uci.edu/ml/index.php')\n",
    "\n",
    "url='https://archive.ics.uci.edu/ml/datasets.php'\n",
    "\n",
    "#lets open the webpage through web driver\n",
    "driver9.get(url)"
   ]
  },
  {
   "cell_type": "code",
   "execution_count": 17,
   "metadata": {},
   "outputs": [],
   "source": [
    "Dataset_name=[]\n",
    "Data_type=[]\n",
    "Task=[]\n",
    "Attribute_type=[]\n",
    "No_of_instances=[]\n",
    "No_of_attribute=[]\n",
    "Year=[]"
   ]
  },
  {
   "cell_type": "code",
   "execution_count": 18,
   "metadata": {},
   "outputs": [
    {
     "data": {
      "text/plain": [
       "['Classification', 'Categorical']"
      ]
     },
     "execution_count": 18,
     "metadata": {},
     "output_type": "execute_result"
    }
   ],
   "source": [
    "b=driver9.find_elements_by_xpath(\"//p[@class='normal']/a[1]\")\n",
    "for i in b:\n",
    "    title3=i.text\n",
    "    Dataset_name.append(title3)\n",
    "Dataset_name[0:2]"
   ]
  },
  {
   "cell_type": "code",
   "execution_count": 19,
   "metadata": {},
   "outputs": [
    {
     "data": {
      "text/plain": [
       "['Regression', 'Numerical', 'Univariate', 'Physical Sciences']"
      ]
     },
     "execution_count": 19,
     "metadata": {},
     "output_type": "execute_result"
    }
   ],
   "source": [
    "c=driver9.find_elements_by_xpath(\"//p[@class='normal']/a[2]\")\n",
    "for i in c:\n",
    "    title31=i.text\n",
    "    Data_type.append(title31)\n",
    "Data_type[0:4]"
   ]
  },
  {
   "cell_type": "code",
   "execution_count": 20,
   "metadata": {},
   "outputs": [
    {
     "data": {
      "text/plain": [
       "['Clustering', 'Mixed', 'Sequential', 'CS / Engineering']"
      ]
     },
     "execution_count": 20,
     "metadata": {},
     "output_type": "execute_result"
    }
   ],
   "source": [
    "c1=driver9.find_elements_by_xpath(\"//p[@class='normal']/a[3]\")\n",
    "for i in c1:\n",
    "    title1=i.text\n",
    "    Task.append(title1)\n",
    "Task[0:4]"
   ]
  },
  {
   "cell_type": "code",
   "execution_count": 21,
   "metadata": {},
   "outputs": [
    {
     "data": {
      "text/plain": [
       "['Other', 'Time-Series', 'Social Sciences']"
      ]
     },
     "execution_count": 21,
     "metadata": {},
     "output_type": "execute_result"
    }
   ],
   "source": [
    "n=driver9.find_elements_by_xpath(\"//p[@class='normal']/a[4]\")\n",
    "for i in n:\n",
    "    title11=i.text\n",
    "    Attribute_type.append(title11)\n",
    "Attribute_type[0:4]"
   ]
  },
  {
   "cell_type": "code",
   "execution_count": 22,
   "metadata": {},
   "outputs": [
    {
     "data": {
      "text/plain": [
       "['Text', 'Business']"
      ]
     },
     "execution_count": 22,
     "metadata": {},
     "output_type": "execute_result"
    }
   ],
   "source": [
    "v=driver9.find_elements_by_xpath(\"//p[@class='normal']/a[5]\")\n",
    "for i in v:\n",
    "    title7=i.text\n",
    "    No_of_instances.append(title7)\n",
    "No_of_instances[0:4]"
   ]
  },
  {
   "cell_type": "code",
   "execution_count": 24,
   "metadata": {},
   "outputs": [],
   "source": [
    "ml=pd.DataFrame({})\n",
    "ml['name']=Dataset_name[0:2]\n",
    "ml['type']=Data_type[0:2]\n",
    "ml['task']= Task[0:2]\n",
    "ml['attri']=Attribute_type[0:2]\n",
    "ml['inst']=No_of_instances[0:2]"
   ]
  },
  {
   "cell_type": "code",
   "execution_count": 25,
   "metadata": {},
   "outputs": [
    {
     "data": {
      "text/html": [
       "<div>\n",
       "<style scoped>\n",
       "    .dataframe tbody tr th:only-of-type {\n",
       "        vertical-align: middle;\n",
       "    }\n",
       "\n",
       "    .dataframe tbody tr th {\n",
       "        vertical-align: top;\n",
       "    }\n",
       "\n",
       "    .dataframe thead th {\n",
       "        text-align: right;\n",
       "    }\n",
       "</style>\n",
       "<table border=\"1\" class=\"dataframe\">\n",
       "  <thead>\n",
       "    <tr style=\"text-align: right;\">\n",
       "      <th></th>\n",
       "      <th>name</th>\n",
       "      <th>type</th>\n",
       "      <th>task</th>\n",
       "      <th>attri</th>\n",
       "      <th>inst</th>\n",
       "    </tr>\n",
       "  </thead>\n",
       "  <tbody>\n",
       "    <tr>\n",
       "      <th>0</th>\n",
       "      <td>Classification</td>\n",
       "      <td>Regression</td>\n",
       "      <td>Clustering</td>\n",
       "      <td>Other</td>\n",
       "      <td>Text</td>\n",
       "    </tr>\n",
       "    <tr>\n",
       "      <th>1</th>\n",
       "      <td>Categorical</td>\n",
       "      <td>Numerical</td>\n",
       "      <td>Mixed</td>\n",
       "      <td>Time-Series</td>\n",
       "      <td>Business</td>\n",
       "    </tr>\n",
       "  </tbody>\n",
       "</table>\n",
       "</div>"
      ],
      "text/plain": [
       "             name        type        task        attri      inst\n",
       "0  Classification  Regression  Clustering        Other      Text\n",
       "1     Categorical   Numerical       Mixed  Time-Series  Business"
      ]
     },
     "execution_count": 25,
     "metadata": {},
     "output_type": "execute_result"
    }
   ],
   "source": [
    "ml"
   ]
  },
  {
   "cell_type": "code",
   "execution_count": null,
   "metadata": {},
   "outputs": [],
   "source": []
  }
 ],
 "metadata": {
  "kernelspec": {
   "display_name": "Python 3",
   "language": "python",
   "name": "python3"
  },
  "language_info": {
   "codemirror_mode": {
    "name": "ipython",
    "version": 3
   },
   "file_extension": ".py",
   "mimetype": "text/x-python",
   "name": "python",
   "nbconvert_exporter": "python",
   "pygments_lexer": "ipython3",
   "version": "3.8.3"
  }
 },
 "nbformat": 4,
 "nbformat_minor": 4
}
